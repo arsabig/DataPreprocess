{
 "cells": [
  {
   "cell_type": "code",
   "execution_count": 1,
   "metadata": {},
   "outputs": [
    {
     "name": "stderr",
     "output_type": "stream",
     "text": [
      "c:\\Users\\hudso\\miniconda3\\envs\\backend\\lib\\site-packages\\tqdm\\auto.py:21: TqdmWarning: IProgress not found. Please update jupyter and ipywidgets. See https://ipywidgets.readthedocs.io/en/stable/user_install.html\n",
      "  from .autonotebook import tqdm as notebook_tqdm\n"
     ]
    },
    {
     "name": "stdout",
     "output_type": "stream",
     "text": [
      "True\n"
     ]
    }
   ],
   "source": [
    "from transformers.utils import is_torch_sdpa_available\n",
    "\n",
    "print(is_torch_sdpa_available())"
   ]
  },
  {
   "cell_type": "code",
   "execution_count": 1,
   "metadata": {},
   "outputs": [],
   "source": [
    "import multiprocessing\n",
    "\n",
    "def f(x):\n",
    "    return x + 1\n",
    "\n",
    "if __name__ == '__main__':\n",
    "    with multiprocessing.Pool() as pool:\n",
    "        print(pool.map(f, range(10)))"
   ]
  },
  {
   "cell_type": "code",
   "execution_count": 1,
   "metadata": {},
   "outputs": [
    {
     "name": "stdout",
     "output_type": "stream",
     "text": [
      "starting\n"
     ]
    }
   ],
   "source": [
    "import multiprocessing as multi\n",
    "\n",
    "def runtest1(x):\n",
    "    pass\n",
    "\n",
    "def parallelRunfunc(numOfspins, numOfProcesses,func1):\n",
    "    with multi.Pool(processes=numOfProcesses) as mySimPool:\n",
    "        # Use pool.map to parallelize the simulations\n",
    "        outputs1 = mySimPool.map(func1, [numOfspins] * numOfProcesses)\n",
    "    return outputs1\n",
    "\n",
    "print('starting')\n",
    "list1=list(parallelRunfunc(10, 10,runtest1))\n",
    "print(list1)"
   ]
  },
  {
   "cell_type": "code",
   "execution_count": 1,
   "metadata": {},
   "outputs": [],
   "source": [
    "import shutil\n",
    "shutil.unpack_archive('output.zip', 'C:\\\\Users\\\\hudso\\\\Downloads\\\\HudsonAI')"
   ]
  },
  {
   "cell_type": "code",
   "execution_count": 15,
   "metadata": {},
   "outputs": [],
   "source": [
    "from datasets import load_dataset, Dataset\n",
    "\n",
    "iterable_dataset = Dataset.from_dict({\"a\": range(6)}).to_iterable_dataset(num_shards=3)\n",
    "# save in the middle of training\n",
    "state_dict = iterable_dataset.state_dict()\n",
    "# and resume later\n",
    "iterable_dataset.load_state_dict(state_dict)"
   ]
  },
  {
   "cell_type": "code",
   "execution_count": 16,
   "metadata": {},
   "outputs": [
    {
     "name": "stdout",
     "output_type": "stream",
     "text": [
      "IterableDataset({\n",
      "    features: ['a'],\n",
      "    n_shards: 3\n",
      "})\n"
     ]
    }
   ],
   "source": [
    "print(iterable_dataset)"
   ]
  },
  {
   "cell_type": "code",
   "execution_count": 19,
   "metadata": {},
   "outputs": [
    {
     "name": "stdout",
     "output_type": "stream",
     "text": [
      "<class 'dict'>\n"
     ]
    }
   ],
   "source": [
    "print(type(state_dict))"
   ]
  },
  {
   "cell_type": "code",
   "execution_count": 30,
   "metadata": {},
   "outputs": [
    {
     "name": "stdout",
     "output_type": "stream",
     "text": [
      "1\n"
     ]
    }
   ],
   "source": [
    "num_proc=torch.cuda.device_count()\n",
    "print(num_proc)"
   ]
  },
  {
   "cell_type": "code",
   "execution_count": 27,
   "metadata": {},
   "outputs": [
    {
     "data": {
      "text/plain": [
       "DatasetInfo(description='Yodas', citation='', homepage='', license='', features={'id': Value(dtype='string', id=None), 'utt_id': Value(dtype='string', id=None), 'audio': Audio(sampling_rate=16000, mono=True, decode=True, id=None), 'text': Value(dtype='string', id=None)}, post_processed=None, supervised_keys=None, task_templates=None, builder_name='yodas', dataset_name='yodas', config_name='en100', version=1.0.1, splits={'train': SplitInfo(name='train', num_bytes=1624574577, num_examples=6637880, shard_lengths=[2045000, 2043000, 2042000, 507880], dataset_name='yodas')}, download_checksums={'data/en100/audio/00000000.tar.gz': {'num_bytes': 983506821, 'checksum': None}, 'data/en100/audio/00000001.tar.gz': {'num_bytes': 979512088, 'checksum': None}, 'data/en100/audio/00000002.tar.gz': {'num_bytes': 875671774, 'checksum': None}, 'data/en100/audio/00000003.tar.gz': {'num_bytes': 935433595, 'checksum': None}, 'data/en100/audio/00000004.tar.gz': {'num_bytes': 921772014, 'checksum': None}, 'data/en100/audio/00000005.tar.gz': {'num_bytes': 981207872, 'checksum': None}, 'data/en100/audio/00000006.tar.gz': {'num_bytes': 938802829, 'checksum': None}, 'data/en100/audio/00000007.tar.gz': {'num_bytes': 933618235, 'checksum': None}, 'data/en100/audio/00000008.tar.gz': {'num_bytes': 1005425812, 'checksum': None}, 'data/en100/audio/00000009.tar.gz': {'num_bytes': 937832840, 'checksum': None}, 'data/en100/audio/00000010.tar.gz': {'num_bytes': 870634277, 'checksum': None}, 'data/en100/audio/00000011.tar.gz': {'num_bytes': 1015988287, 'checksum': None}, 'data/en100/audio/00000012.tar.gz': {'num_bytes': 1025244345, 'checksum': None}, 'data/en100/audio/00000013.tar.gz': {'num_bytes': 1043442578, 'checksum': None}, 'data/en100/audio/00000014.tar.gz': {'num_bytes': 971159995, 'checksum': None}, 'data/en100/audio/00000015.tar.gz': {'num_bytes': 935058233, 'checksum': None}, 'data/en100/audio/00000016.tar.gz': {'num_bytes': 981319673, 'checksum': None}, 'data/en100/audio/00000017.tar.gz': {'num_bytes': 972220178, 'checksum': None}, 'data/en100/audio/00000018.tar.gz': {'num_bytes': 1015145046, 'checksum': None}, 'data/en100/audio/00000019.tar.gz': {'num_bytes': 934614524, 'checksum': None}, 'data/en100/audio/00000020.tar.gz': {'num_bytes': 1033263322, 'checksum': None}, 'data/en100/audio/00000021.tar.gz': {'num_bytes': 908815404, 'checksum': None}, 'data/en100/audio/00000022.tar.gz': {'num_bytes': 957253891, 'checksum': None}, 'data/en100/audio/00000023.tar.gz': {'num_bytes': 904710105, 'checksum': None}, 'data/en100/audio/00000024.tar.gz': {'num_bytes': 921471128, 'checksum': None}, 'data/en100/audio/00000025.tar.gz': {'num_bytes': 867891512, 'checksum': None}, 'data/en100/audio/00000026.tar.gz': {'num_bytes': 963383364, 'checksum': None}, 'data/en100/audio/00000027.tar.gz': {'num_bytes': 1027191312, 'checksum': None}, 'data/en100/audio/00000028.tar.gz': {'num_bytes': 929832500, 'checksum': None}, 'data/en100/audio/00000029.tar.gz': {'num_bytes': 965843742, 'checksum': None}, 'data/en100/audio/00000030.tar.gz': {'num_bytes': 1005765696, 'checksum': None}, 'data/en100/audio/00000031.tar.gz': {'num_bytes': 919918154, 'checksum': None}, 'data/en100/audio/00000032.tar.gz': {'num_bytes': 951135656, 'checksum': None}, 'data/en100/audio/00000033.tar.gz': {'num_bytes': 1035594501, 'checksum': None}, 'data/en100/audio/00000034.tar.gz': {'num_bytes': 900905635, 'checksum': None}, 'data/en100/audio/00000035.tar.gz': {'num_bytes': 969688451, 'checksum': None}, 'data/en100/audio/00000036.tar.gz': {'num_bytes': 960262253, 'checksum': None}, 'data/en100/audio/00000037.tar.gz': {'num_bytes': 927635814, 'checksum': None}, 'data/en100/audio/00000038.tar.gz': {'num_bytes': 930110265, 'checksum': None}, 'data/en100/audio/00000039.tar.gz': {'num_bytes': 956182555, 'checksum': None}, 'data/en100/audio/00000040.tar.gz': {'num_bytes': 928048061, 'checksum': None}, 'data/en100/audio/00000041.tar.gz': {'num_bytes': 934375122, 'checksum': None}, 'data/en100/audio/00000042.tar.gz': {'num_bytes': 925043130, 'checksum': None}, 'data/en100/audio/00000043.tar.gz': {'num_bytes': 964576664, 'checksum': None}, 'data/en100/audio/00000044.tar.gz': {'num_bytes': 983637187, 'checksum': None}, 'data/en100/audio/00000045.tar.gz': {'num_bytes': 917559792, 'checksum': None}, 'data/en100/audio/00000046.tar.gz': {'num_bytes': 1037549612, 'checksum': None}, 'data/en100/audio/00000047.tar.gz': {'num_bytes': 918574293, 'checksum': None}, 'data/en100/audio/00000048.tar.gz': {'num_bytes': 912757913, 'checksum': None}, 'data/en100/audio/00000049.tar.gz': {'num_bytes': 916738185, 'checksum': None}, 'data/en100/audio/00000050.tar.gz': {'num_bytes': 915059728, 'checksum': None}, 'data/en100/audio/00000051.tar.gz': {'num_bytes': 929668375, 'checksum': None}, 'data/en100/audio/00000052.tar.gz': {'num_bytes': 674449113, 'checksum': None}, 'data/en100/audio/00000053.tar.gz': {'num_bytes': 936354554, 'checksum': None}, 'data/en100/audio/00000054.tar.gz': {'num_bytes': 1088606994, 'checksum': None}, 'data/en100/audio/00000055.tar.gz': {'num_bytes': 942119794, 'checksum': None}, 'data/en100/audio/00000056.tar.gz': {'num_bytes': 1037950450, 'checksum': None}, 'data/en100/audio/00000057.tar.gz': {'num_bytes': 981127158, 'checksum': None}, 'data/en100/audio/00000058.tar.gz': {'num_bytes': 965168341, 'checksum': None}, 'data/en100/audio/00000059.tar.gz': {'num_bytes': 1006908434, 'checksum': None}, 'data/en100/audio/00000060.tar.gz': {'num_bytes': 954569794, 'checksum': None}, 'data/en100/audio/00000061.tar.gz': {'num_bytes': 939260049, 'checksum': None}, 'data/en100/audio/00000062.tar.gz': {'num_bytes': 1003870823, 'checksum': None}, 'data/en100/audio/00000063.tar.gz': {'num_bytes': 911808636, 'checksum': None}, 'data/en100/audio/00000064.tar.gz': {'num_bytes': 950179975, 'checksum': None}, 'data/en100/audio/00000065.tar.gz': {'num_bytes': 915384805, 'checksum': None}, 'data/en100/audio/00000066.tar.gz': {'num_bytes': 927736594, 'checksum': None}, 'data/en100/audio/00000067.tar.gz': {'num_bytes': 965710006, 'checksum': None}, 'data/en100/audio/00000068.tar.gz': {'num_bytes': 926880254, 'checksum': None}, 'data/en100/audio/00000069.tar.gz': {'num_bytes': 927451728, 'checksum': None}, 'data/en100/audio/00000070.tar.gz': {'num_bytes': 977722074, 'checksum': None}, 'data/en100/audio/00000071.tar.gz': {'num_bytes': 935849736, 'checksum': None}, 'data/en100/audio/00000072.tar.gz': {'num_bytes': 931213305, 'checksum': None}, 'data/en100/audio/00000073.tar.gz': {'num_bytes': 981644427, 'checksum': None}, 'data/en100/audio/00000074.tar.gz': {'num_bytes': 937764389, 'checksum': None}, 'data/en100/audio/00000075.tar.gz': {'num_bytes': 975858763, 'checksum': None}, 'data/en100/audio/00000076.tar.gz': {'num_bytes': 915769963, 'checksum': None}, 'data/en100/audio/00000077.tar.gz': {'num_bytes': 936479729, 'checksum': None}, 'data/en100/audio/00000078.tar.gz': {'num_bytes': 913640465, 'checksum': None}, 'data/en100/audio/00000079.tar.gz': {'num_bytes': 935596342, 'checksum': None}, 'data/en100/audio/00000080.tar.gz': {'num_bytes': 963300127, 'checksum': None}, 'data/en100/audio/00000081.tar.gz': {'num_bytes': 940468762, 'checksum': None}, 'data/en100/audio/00000082.tar.gz': {'num_bytes': 955869002, 'checksum': None}, 'data/en100/audio/00000083.tar.gz': {'num_bytes': 977624261, 'checksum': None}, 'data/en100/audio/00000084.tar.gz': {'num_bytes': 982408363, 'checksum': None}, 'data/en100/audio/00000085.tar.gz': {'num_bytes': 900560504, 'checksum': None}, 'data/en100/audio/00000086.tar.gz': {'num_bytes': 990132566, 'checksum': None}, 'data/en100/audio/00000087.tar.gz': {'num_bytes': 930163239, 'checksum': None}, 'data/en100/audio/00000088.tar.gz': {'num_bytes': 918458322, 'checksum': None}, 'data/en100/audio/00000089.tar.gz': {'num_bytes': 926831039, 'checksum': None}, 'data/en100/audio/00000090.tar.gz': {'num_bytes': 944995367, 'checksum': None}, 'data/en100/audio/00000091.tar.gz': {'num_bytes': 943530720, 'checksum': None}, 'data/en100/audio/00000092.tar.gz': {'num_bytes': 983312320, 'checksum': None}, 'data/en100/audio/00000093.tar.gz': {'num_bytes': 967084833, 'checksum': None}, 'data/en100/audio/00000094.tar.gz': {'num_bytes': 952408061, 'checksum': None}, 'data/en100/audio/00000095.tar.gz': {'num_bytes': 917147764, 'checksum': None}, 'data/en100/audio/00000096.tar.gz': {'num_bytes': 993383475, 'checksum': None}, 'data/en100/audio/00000097.tar.gz': {'num_bytes': 962454452, 'checksum': None}, 'data/en100/audio/00000098.tar.gz': {'num_bytes': 903038608, 'checksum': None}, 'data/en100/audio/00000099.tar.gz': {'num_bytes': 1000029774, 'checksum': None}, 'data/en100/audio/00000100.tar.gz': {'num_bytes': 901749997, 'checksum': None}, 'data/en100/audio/00000101.tar.gz': {'num_bytes': 1041637995, 'checksum': None}, 'data/en100/audio/00000102.tar.gz': {'num_bytes': 922275223, 'checksum': None}, 'data/en100/audio/00000103.tar.gz': {'num_bytes': 972923486, 'checksum': None}, 'data/en100/audio/00000104.tar.gz': {'num_bytes': 1021696196, 'checksum': None}, 'data/en100/audio/00000105.tar.gz': {'num_bytes': 932138204, 'checksum': None}, 'data/en100/audio/00000106.tar.gz': {'num_bytes': 890132229, 'checksum': None}, 'data/en100/audio/00000107.tar.gz': {'num_bytes': 885259236, 'checksum': None}, 'data/en100/audio/00000108.tar.gz': {'num_bytes': 926884566, 'checksum': None}, 'data/en100/audio/00000109.tar.gz': {'num_bytes': 955283903, 'checksum': None}, 'data/en100/audio/00000110.tar.gz': {'num_bytes': 913628447, 'checksum': None}, 'data/en100/audio/00000111.tar.gz': {'num_bytes': 881615151, 'checksum': None}, 'data/en100/audio/00000112.tar.gz': {'num_bytes': 972994622, 'checksum': None}, 'data/en100/audio/00000113.tar.gz': {'num_bytes': 935961922, 'checksum': None}, 'data/en100/audio/00000114.tar.gz': {'num_bytes': 955144832, 'checksum': None}, 'data/en100/audio/00000115.tar.gz': {'num_bytes': 913818208, 'checksum': None}, 'data/en100/audio/00000116.tar.gz': {'num_bytes': 981050539, 'checksum': None}, 'data/en100/audio/00000117.tar.gz': {'num_bytes': 945698550, 'checksum': None}, 'data/en100/audio/00000118.tar.gz': {'num_bytes': 987209580, 'checksum': None}, 'data/en100/audio/00000119.tar.gz': {'num_bytes': 872610091, 'checksum': None}, 'data/en100/audio/00000120.tar.gz': {'num_bytes': 996578635, 'checksum': None}, 'data/en100/audio/00000121.tar.gz': {'num_bytes': 987533489, 'checksum': None}, 'data/en100/audio/00000122.tar.gz': {'num_bytes': 987378691, 'checksum': None}, 'data/en100/audio/00000123.tar.gz': {'num_bytes': 923213693, 'checksum': None}, 'data/en100/audio/00000124.tar.gz': {'num_bytes': 925253624, 'checksum': None}, 'data/en100/audio/00000125.tar.gz': {'num_bytes': 912652984, 'checksum': None}, 'data/en100/audio/00000126.tar.gz': {'num_bytes': 952209911, 'checksum': None}, 'data/en100/audio/00000127.tar.gz': {'num_bytes': 962454115, 'checksum': None}, 'data/en100/audio/00000128.tar.gz': {'num_bytes': 949397749, 'checksum': None}, 'data/en100/audio/00000129.tar.gz': {'num_bytes': 971681484, 'checksum': None}, 'data/en100/audio/00000130.tar.gz': {'num_bytes': 922250526, 'checksum': None}, 'data/en100/audio/00000131.tar.gz': {'num_bytes': 938547023, 'checksum': None}, 'data/en100/audio/00000132.tar.gz': {'num_bytes': 987510019, 'checksum': None}, 'data/en100/audio/00000133.tar.gz': {'num_bytes': 950489320, 'checksum': None}, 'data/en100/audio/00000134.tar.gz': {'num_bytes': 944626559, 'checksum': None}, 'data/en100/audio/00000135.tar.gz': {'num_bytes': 999539995, 'checksum': None}, 'data/en100/audio/00000136.tar.gz': {'num_bytes': 912699454, 'checksum': None}, 'data/en100/audio/00000137.tar.gz': {'num_bytes': 955896903, 'checksum': None}, 'data/en100/audio/00000138.tar.gz': {'num_bytes': 949478521, 'checksum': None}, 'data/en100/audio/00000139.tar.gz': {'num_bytes': 1000559477, 'checksum': None}, 'data/en100/audio/00000140.tar.gz': {'num_bytes': 939075534, 'checksum': None}, 'data/en100/audio/00000141.tar.gz': {'num_bytes': 938129418, 'checksum': None}, 'data/en100/audio/00000142.tar.gz': {'num_bytes': 951037292, 'checksum': None}, 'data/en100/audio/00000143.tar.gz': {'num_bytes': 971571186, 'checksum': None}, 'data/en100/audio/00000144.tar.gz': {'num_bytes': 937491907, 'checksum': None}, 'data/en100/audio/00000145.tar.gz': {'num_bytes': 877518383, 'checksum': None}, 'data/en100/audio/00000146.tar.gz': {'num_bytes': 1004307092, 'checksum': None}, 'data/en100/audio/00000147.tar.gz': {'num_bytes': 876791852, 'checksum': None}, 'data/en100/audio/00000148.tar.gz': {'num_bytes': 1023587358, 'checksum': None}, 'data/en100/audio/00000149.tar.gz': {'num_bytes': 975143092, 'checksum': None}, 'data/en100/audio/00000150.tar.gz': {'num_bytes': 950450968, 'checksum': None}, 'data/en100/audio/00000151.tar.gz': {'num_bytes': 1009378106, 'checksum': None}, 'data/en100/audio/00000152.tar.gz': {'num_bytes': 897705633, 'checksum': None}, 'data/en100/audio/00000153.tar.gz': {'num_bytes': 938931611, 'checksum': None}, 'data/en100/audio/00000154.tar.gz': {'num_bytes': 925640556, 'checksum': None}, 'data/en100/audio/00000155.tar.gz': {'num_bytes': 923777671, 'checksum': None}, 'data/en100/audio/00000156.tar.gz': {'num_bytes': 992701302, 'checksum': None}, 'data/en100/audio/00000157.tar.gz': {'num_bytes': 910865524, 'checksum': None}, 'data/en100/audio/00000158.tar.gz': {'num_bytes': 871661746, 'checksum': None}, 'data/en100/audio/00000159.tar.gz': {'num_bytes': 1031577231, 'checksum': None}, 'data/en100/audio/00000160.tar.gz': {'num_bytes': 974341323, 'checksum': None}, 'data/en100/audio/00000161.tar.gz': {'num_bytes': 926586305, 'checksum': None}, 'data/en100/audio/00000162.tar.gz': {'num_bytes': 904981078, 'checksum': None}, 'data/en100/audio/00000163.tar.gz': {'num_bytes': 989924269, 'checksum': None}, 'data/en100/audio/00000164.tar.gz': {'num_bytes': 945600407, 'checksum': None}, 'data/en100/audio/00000165.tar.gz': {'num_bytes': 920840838, 'checksum': None}, 'data/en100/audio/00000166.tar.gz': {'num_bytes': 932419876, 'checksum': None}, 'data/en100/audio/00000167.tar.gz': {'num_bytes': 952703422, 'checksum': None}, 'data/en100/audio/00000168.tar.gz': {'num_bytes': 948120886, 'checksum': None}, 'data/en100/audio/00000169.tar.gz': {'num_bytes': 893816516, 'checksum': None}, 'data/en100/audio/00000170.tar.gz': {'num_bytes': 930275203, 'checksum': None}, 'data/en100/audio/00000171.tar.gz': {'num_bytes': 966828039, 'checksum': None}, 'data/en100/audio/00000172.tar.gz': {'num_bytes': 961529687, 'checksum': None}, 'data/en100/audio/00000173.tar.gz': {'num_bytes': 884792614, 'checksum': None}, 'data/en100/audio/00000174.tar.gz': {'num_bytes': 945926626, 'checksum': None}, 'data/en100/audio/00000175.tar.gz': {'num_bytes': 1001708792, 'checksum': None}, 'data/en100/audio/00000176.tar.gz': {'num_bytes': 945242370, 'checksum': None}, 'data/en100/audio/00000177.tar.gz': {'num_bytes': 997114783, 'checksum': None}, 'data/en100/audio/00000178.tar.gz': {'num_bytes': 934082048, 'checksum': None}, 'data/en100/audio/00000179.tar.gz': {'num_bytes': 945275594, 'checksum': None}, 'data/en100/audio/00000180.tar.gz': {'num_bytes': 976051619, 'checksum': None}, 'data/en100/audio/00000181.tar.gz': {'num_bytes': 928332062, 'checksum': None}, 'data/en100/audio/00000182.tar.gz': {'num_bytes': 1017719318, 'checksum': None}, 'data/en100/audio/00000183.tar.gz': {'num_bytes': 960126684, 'checksum': None}, 'data/en100/audio/00000184.tar.gz': {'num_bytes': 952981404, 'checksum': None}, 'data/en100/audio/00000185.tar.gz': {'num_bytes': 968198363, 'checksum': None}, 'data/en100/audio/00000186.tar.gz': {'num_bytes': 949707720, 'checksum': None}, 'data/en100/audio/00000187.tar.gz': {'num_bytes': 979878432, 'checksum': None}, 'data/en100/audio/00000188.tar.gz': {'num_bytes': 884745476, 'checksum': None}, 'data/en100/audio/00000189.tar.gz': {'num_bytes': 973760518, 'checksum': None}, 'data/en100/audio/00000190.tar.gz': {'num_bytes': 959952984, 'checksum': None}, 'data/en100/audio/00000191.tar.gz': {'num_bytes': 904398497, 'checksum': None}, 'data/en100/audio/00000192.tar.gz': {'num_bytes': 925508626, 'checksum': None}, 'data/en100/audio/00000193.tar.gz': {'num_bytes': 942296778, 'checksum': None}, 'data/en100/audio/00000194.tar.gz': {'num_bytes': 991003557, 'checksum': None}, 'data/en100/audio/00000195.tar.gz': {'num_bytes': 956487770, 'checksum': None}, 'data/en100/audio/00000196.tar.gz': {'num_bytes': 966726354, 'checksum': None}, 'data/en100/audio/00000197.tar.gz': {'num_bytes': 915658411, 'checksum': None}, 'data/en100/audio/00000198.tar.gz': {'num_bytes': 930126300, 'checksum': None}, 'data/en100/audio/00000199.tar.gz': {'num_bytes': 880775386, 'checksum': None}, 'data/en100/audio/00000200.tar.gz': {'num_bytes': 1044039215, 'checksum': None}, 'data/en100/audio/00000201.tar.gz': {'num_bytes': 956059431, 'checksum': None}, 'data/en100/audio/00000202.tar.gz': {'num_bytes': 1063857716, 'checksum': None}, 'data/en100/audio/00000203.tar.gz': {'num_bytes': 884420448, 'checksum': None}, 'data/en100/audio/00000204.tar.gz': {'num_bytes': 993960242, 'checksum': None}, 'data/en100/audio/00000205.tar.gz': {'num_bytes': 942752105, 'checksum': None}, 'data/en100/audio/00000206.tar.gz': {'num_bytes': 936845779, 'checksum': None}, 'data/en100/audio/00000207.tar.gz': {'num_bytes': 920804985, 'checksum': None}, 'data/en100/audio/00000208.tar.gz': {'num_bytes': 1005489812, 'checksum': None}, 'data/en100/audio/00000209.tar.gz': {'num_bytes': 920070520, 'checksum': None}, 'data/en100/audio/00000210.tar.gz': {'num_bytes': 897083518, 'checksum': None}, 'data/en100/audio/00000211.tar.gz': {'num_bytes': 953361363, 'checksum': None}, 'data/en100/audio/00000212.tar.gz': {'num_bytes': 655973111, 'checksum': None}, 'data/en100/audio/00000213.tar.gz': {'num_bytes': 988399715, 'checksum': None}, 'data/en100/audio/00000214.tar.gz': {'num_bytes': 940790378, 'checksum': None}, 'data/en100/audio/00000215.tar.gz': {'num_bytes': 934078009, 'checksum': None}, 'data/en100/audio/00000216.tar.gz': {'num_bytes': 951637243, 'checksum': None}, 'data/en100/audio/00000217.tar.gz': {'num_bytes': 958553009, 'checksum': None}, 'data/en100/audio/00000218.tar.gz': {'num_bytes': 962024067, 'checksum': None}, 'data/en100/audio/00000219.tar.gz': {'num_bytes': 927016939, 'checksum': None}, 'data/en100/audio/00000220.tar.gz': {'num_bytes': 939695808, 'checksum': None}, 'data/en100/audio/00000221.tar.gz': {'num_bytes': 980760122, 'checksum': None}, 'data/en100/audio/00000222.tar.gz': {'num_bytes': 900909651, 'checksum': None}, 'data/en100/audio/00000223.tar.gz': {'num_bytes': 973877725, 'checksum': None}, 'data/en100/audio/00000224.tar.gz': {'num_bytes': 942564944, 'checksum': None}, 'data/en100/audio/00000225.tar.gz': {'num_bytes': 946300707, 'checksum': None}, 'data/en100/audio/00000226.tar.gz': {'num_bytes': 919032622, 'checksum': None}, 'data/en100/audio/00000227.tar.gz': {'num_bytes': 952792021, 'checksum': None}, 'data/en100/audio/00000228.tar.gz': {'num_bytes': 925848486, 'checksum': None}, 'data/en100/audio/00000229.tar.gz': {'num_bytes': 952393733, 'checksum': None}, 'data/en100/audio/00000230.tar.gz': {'num_bytes': 941365142, 'checksum': None}, 'data/en100/audio/00000231.tar.gz': {'num_bytes': 968663549, 'checksum': None}, 'data/en100/audio/00000232.tar.gz': {'num_bytes': 939657830, 'checksum': None}, 'data/en100/audio/00000233.tar.gz': {'num_bytes': 948328629, 'checksum': None}, 'data/en100/audio/00000234.tar.gz': {'num_bytes': 835912540, 'checksum': None}, 'data/en100/audio/00000235.tar.gz': {'num_bytes': 930752704, 'checksum': None}, 'data/en100/audio/00000236.tar.gz': {'num_bytes': 921686625, 'checksum': None}, 'data/en100/audio/00000237.tar.gz': {'num_bytes': 1017263217, 'checksum': None}, 'data/en100/audio/00000238.tar.gz': {'num_bytes': 934895073, 'checksum': None}, 'data/en100/audio/00000239.tar.gz': {'num_bytes': 918985233, 'checksum': None}, 'data/en100/audio/00000240.tar.gz': {'num_bytes': 969878166, 'checksum': None}, 'data/en100/audio/00000241.tar.gz': {'num_bytes': 924665204, 'checksum': None}, 'data/en100/audio/00000242.tar.gz': {'num_bytes': 873660079, 'checksum': None}, 'data/en100/audio/00000243.tar.gz': {'num_bytes': 964594659, 'checksum': None}, 'data/en100/audio/00000244.tar.gz': {'num_bytes': 976114384, 'checksum': None}, 'data/en100/audio/00000245.tar.gz': {'num_bytes': 1067929137, 'checksum': None}, 'data/en100/audio/00000246.tar.gz': {'num_bytes': 1071467937, 'checksum': None}, 'data/en100/audio/00000247.tar.gz': {'num_bytes': 929088954, 'checksum': None}, 'data/en100/audio/00000248.tar.gz': {'num_bytes': 969471246, 'checksum': None}, 'data/en100/audio/00000249.tar.gz': {'num_bytes': 878422272, 'checksum': None}, 'data/en100/audio/00000250.tar.gz': {'num_bytes': 925473315, 'checksum': None}, 'data/en100/audio/00000251.tar.gz': {'num_bytes': 916797894, 'checksum': None}, 'data/en100/audio/00000252.tar.gz': {'num_bytes': 978242837, 'checksum': None}, 'data/en100/audio/00000253.tar.gz': {'num_bytes': 929884124, 'checksum': None}, 'data/en100/audio/00000254.tar.gz': {'num_bytes': 933593272, 'checksum': None}, 'data/en100/audio/00000255.tar.gz': {'num_bytes': 907524146, 'checksum': None}, 'data/en100/audio/00000256.tar.gz': {'num_bytes': 962877581, 'checksum': None}, 'data/en100/audio/00000257.tar.gz': {'num_bytes': 966844408, 'checksum': None}, 'data/en100/audio/00000258.tar.gz': {'num_bytes': 954909957, 'checksum': None}, 'data/en100/audio/00000259.tar.gz': {'num_bytes': 946153785, 'checksum': None}, 'data/en100/audio/00000260.tar.gz': {'num_bytes': 968595585, 'checksum': None}, 'data/en100/audio/00000261.tar.gz': {'num_bytes': 933304317, 'checksum': None}, 'data/en100/audio/00000262.tar.gz': {'num_bytes': 923512015, 'checksum': None}, 'data/en100/audio/00000263.tar.gz': {'num_bytes': 915107692, 'checksum': None}, 'data/en100/audio/00000264.tar.gz': {'num_bytes': 661216328, 'checksum': None}, 'data/en100/audio/00000265.tar.gz': {'num_bytes': 946625494, 'checksum': None}, 'data/en100/audio/00000266.tar.gz': {'num_bytes': 982286809, 'checksum': None}, 'data/en100/audio/00000267.tar.gz': {'num_bytes': 954985544, 'checksum': None}, 'data/en100/audio/00000268.tar.gz': {'num_bytes': 1018567403, 'checksum': None}, 'data/en100/audio/00000269.tar.gz': {'num_bytes': 979380919, 'checksum': None}, 'data/en100/audio/00000270.tar.gz': {'num_bytes': 917694957, 'checksum': None}, 'data/en100/audio/00000271.tar.gz': {'num_bytes': 936337171, 'checksum': None}, 'data/en100/audio/00000272.tar.gz': {'num_bytes': 1009514788, 'checksum': None}, 'data/en100/audio/00000273.tar.gz': {'num_bytes': 963143118, 'checksum': None}, 'data/en100/audio/00000274.tar.gz': {'num_bytes': 945636434, 'checksum': None}, 'data/en100/audio/00000275.tar.gz': {'num_bytes': 1005560742, 'checksum': None}, 'data/en100/audio/00000276.tar.gz': {'num_bytes': 916919741, 'checksum': None}, 'data/en100/audio/00000277.tar.gz': {'num_bytes': 960899678, 'checksum': None}, 'data/en100/audio/00000278.tar.gz': {'num_bytes': 923797938, 'checksum': None}, 'data/en100/audio/00000279.tar.gz': {'num_bytes': 926484396, 'checksum': None}, 'data/en100/audio/00000280.tar.gz': {'num_bytes': 931194642, 'checksum': None}, 'data/en100/audio/00000281.tar.gz': {'num_bytes': 983600217, 'checksum': None}, 'data/en100/audio/00000282.tar.gz': {'num_bytes': 915248398, 'checksum': None}, 'data/en100/audio/00000283.tar.gz': {'num_bytes': 911766547, 'checksum': None}, 'data/en100/audio/00000284.tar.gz': {'num_bytes': 1016097183, 'checksum': None}, 'data/en100/audio/00000285.tar.gz': {'num_bytes': 964741252, 'checksum': None}, 'data/en100/audio/00000286.tar.gz': {'num_bytes': 990895512, 'checksum': None}, 'data/en100/audio/00000287.tar.gz': {'num_bytes': 942206277, 'checksum': None}, 'data/en100/audio/00000288.tar.gz': {'num_bytes': 933627662, 'checksum': None}, 'data/en100/audio/00000289.tar.gz': {'num_bytes': 961168012, 'checksum': None}, 'data/en100/audio/00000290.tar.gz': {'num_bytes': 999200662, 'checksum': None}, 'data/en100/audio/00000291.tar.gz': {'num_bytes': 963888011, 'checksum': None}, 'data/en100/audio/00000292.tar.gz': {'num_bytes': 873096590, 'checksum': None}, 'data/en100/audio/00000293.tar.gz': {'num_bytes': 919138902, 'checksum': None}, 'data/en100/audio/00000294.tar.gz': {'num_bytes': 968655263, 'checksum': None}, 'data/en100/audio/00000295.tar.gz': {'num_bytes': 918045189, 'checksum': None}, 'data/en100/audio/00000296.tar.gz': {'num_bytes': 1110956876, 'checksum': None}, 'data/en100/audio/00000297.tar.gz': {'num_bytes': 938802486, 'checksum': None}, 'data/en100/audio/00000298.tar.gz': {'num_bytes': 1025964550, 'checksum': None}, 'data/en100/audio/00000299.tar.gz': {'num_bytes': 940137249, 'checksum': None}, 'data/en100/audio/00000300.tar.gz': {'num_bytes': 930414792, 'checksum': None}, 'data/en100/audio/00000301.tar.gz': {'num_bytes': 901033012, 'checksum': None}, 'data/en100/audio/00000302.tar.gz': {'num_bytes': 919798864, 'checksum': None}, 'data/en100/audio/00000303.tar.gz': {'num_bytes': 994442987, 'checksum': None}, 'data/en100/audio/00000304.tar.gz': {'num_bytes': 933685202, 'checksum': None}, 'data/en100/audio/00000305.tar.gz': {'num_bytes': 932865665, 'checksum': None}, 'data/en100/audio/00000306.tar.gz': {'num_bytes': 987437409, 'checksum': None}, 'data/en100/audio/00000307.tar.gz': {'num_bytes': 913440162, 'checksum': None}, 'data/en100/audio/00000308.tar.gz': {'num_bytes': 940681949, 'checksum': None}, 'data/en100/audio/00000309.tar.gz': {'num_bytes': 982556052, 'checksum': None}, 'data/en100/audio/00000310.tar.gz': {'num_bytes': 947386426, 'checksum': None}, 'data/en100/audio/00000311.tar.gz': {'num_bytes': 956299019, 'checksum': None}, 'data/en100/audio/00000312.tar.gz': {'num_bytes': 943413543, 'checksum': None}, 'data/en100/audio/00000313.tar.gz': {'num_bytes': 898243343, 'checksum': None}, 'data/en100/audio/00000314.tar.gz': {'num_bytes': 972987953, 'checksum': None}, 'data/en100/audio/00000315.tar.gz': {'num_bytes': 924989224, 'checksum': None}, 'data/en100/audio/00000316.tar.gz': {'num_bytes': 915936648, 'checksum': None}, 'data/en100/audio/00000317.tar.gz': {'num_bytes': 936886654, 'checksum': None}, 'data/en100/audio/00000318.tar.gz': {'num_bytes': 955409488, 'checksum': None}, 'data/en100/audio/00000319.tar.gz': {'num_bytes': 458601780, 'checksum': None}, 'data/en100/audio/00000320.tar.gz': {'num_bytes': 955549514, 'checksum': None}, 'data/en100/audio/00000321.tar.gz': {'num_bytes': 897689545, 'checksum': None}, 'data/en100/audio/00000322.tar.gz': {'num_bytes': 961240045, 'checksum': None}, 'data/en100/audio/00000323.tar.gz': {'num_bytes': 983874347, 'checksum': None}, 'data/en100/audio/00000324.tar.gz': {'num_bytes': 975381459, 'checksum': None}, 'data/en100/audio/00000325.tar.gz': {'num_bytes': 913106880, 'checksum': None}, 'data/en100/audio/00000326.tar.gz': {'num_bytes': 979197478, 'checksum': None}, 'data/en100/audio/00000327.tar.gz': {'num_bytes': 957243947, 'checksum': None}, 'data/en100/audio/00000328.tar.gz': {'num_bytes': 959502969, 'checksum': None}, 'data/en100/audio/00000329.tar.gz': {'num_bytes': 913699084, 'checksum': None}, 'data/en100/audio/00000330.tar.gz': {'num_bytes': 909364848, 'checksum': None}, 'data/en100/audio/00000331.tar.gz': {'num_bytes': 943571130, 'checksum': None}, 'data/en100/audio/00000332.tar.gz': {'num_bytes': 925027759, 'checksum': None}, 'data/en100/audio/00000333.tar.gz': {'num_bytes': 977231908, 'checksum': None}, 'data/en100/audio/00000334.tar.gz': {'num_bytes': 905973227, 'checksum': None}, 'data/en100/audio/00000335.tar.gz': {'num_bytes': 984775980, 'checksum': None}, 'data/en100/audio/00000336.tar.gz': {'num_bytes': 948638038, 'checksum': None}, 'data/en100/audio/00000337.tar.gz': {'num_bytes': 928548372, 'checksum': None}, 'data/en100/audio/00000338.tar.gz': {'num_bytes': 986675921, 'checksum': None}, 'data/en100/audio/00000339.tar.gz': {'num_bytes': 911047241, 'checksum': None}, 'data/en100/audio/00000340.tar.gz': {'num_bytes': 958297573, 'checksum': None}, 'data/en100/audio/00000341.tar.gz': {'num_bytes': 904658175, 'checksum': None}, 'data/en100/audio/00000342.tar.gz': {'num_bytes': 1025575649, 'checksum': None}, 'data/en100/audio/00000343.tar.gz': {'num_bytes': 895247969, 'checksum': None}, 'data/en100/audio/00000344.tar.gz': {'num_bytes': 937687692, 'checksum': None}, 'data/en100/audio/00000345.tar.gz': {'num_bytes': 976657316, 'checksum': None}, 'data/en100/audio/00000346.tar.gz': {'num_bytes': 950868022, 'checksum': None}, 'data/en100/audio/00000347.tar.gz': {'num_bytes': 1018179357, 'checksum': None}, 'data/en100/audio/00000348.tar.gz': {'num_bytes': 914732944, 'checksum': None}, 'data/en100/audio/00000349.tar.gz': {'num_bytes': 892328507, 'checksum': None}, 'data/en100/audio/00000350.tar.gz': {'num_bytes': 936764911, 'checksum': None}, 'data/en100/audio/00000351.tar.gz': {'num_bytes': 888727205, 'checksum': None}, 'data/en100/audio/00000352.tar.gz': {'num_bytes': 1014652801, 'checksum': None}, 'data/en100/audio/00000353.tar.gz': {'num_bytes': 923894772, 'checksum': None}, 'data/en100/audio/00000354.tar.gz': {'num_bytes': 930151779, 'checksum': None}, 'data/en100/audio/00000355.tar.gz': {'num_bytes': 1037810401, 'checksum': None}, 'data/en100/audio/00000356.tar.gz': {'num_bytes': 928649136, 'checksum': None}, 'data/en100/audio/00000357.tar.gz': {'num_bytes': 984939156, 'checksum': None}, 'data/en100/audio/00000358.tar.gz': {'num_bytes': 958515627, 'checksum': None}, 'data/en100/audio/00000359.tar.gz': {'num_bytes': 889071863, 'checksum': None}, 'data/en100/audio/00000360.tar.gz': {'num_bytes': 929965690, 'checksum': None}, 'data/en100/audio/00000361.tar.gz': {'num_bytes': 915414328, 'checksum': None}, 'data/en100/audio/00000362.tar.gz': {'num_bytes': 962732740, 'checksum': None}, 'data/en100/audio/00000363.tar.gz': {'num_bytes': 965245181, 'checksum': None}, 'data/en100/audio/00000364.tar.gz': {'num_bytes': 927070511, 'checksum': None}, 'data/en100/audio/00000365.tar.gz': {'num_bytes': 932219846, 'checksum': None}, 'data/en100/audio/00000366.tar.gz': {'num_bytes': 908728416, 'checksum': None}, 'data/en100/audio/00000367.tar.gz': {'num_bytes': 1005418699, 'checksum': None}, 'data/en100/audio/00000368.tar.gz': {'num_bytes': 924999661, 'checksum': None}, 'data/en100/audio/00000369.tar.gz': {'num_bytes': 903444277, 'checksum': None}, 'data/en100/audio/00000370.tar.gz': {'num_bytes': 991989774, 'checksum': None}, 'data/en100/audio/00000371.tar.gz': {'num_bytes': 416048761, 'checksum': None}, 'data/en100/audio/00000372.tar.gz': {'num_bytes': 960794376, 'checksum': None}, 'data/en100/audio/00000373.tar.gz': {'num_bytes': 945776898, 'checksum': None}, 'data/en100/audio/00000374.tar.gz': {'num_bytes': 871021172, 'checksum': None}, 'data/en100/audio/00000375.tar.gz': {'num_bytes': 887753882, 'checksum': None}, 'data/en100/audio/00000376.tar.gz': {'num_bytes': 945453105, 'checksum': None}, 'data/en100/audio/00000377.tar.gz': {'num_bytes': 941613009, 'checksum': None}, 'data/en100/audio/00000378.tar.gz': {'num_bytes': 961023451, 'checksum': None}, 'data/en100/audio/00000379.tar.gz': {'num_bytes': 923768388, 'checksum': None}, 'data/en100/audio/00000380.tar.gz': {'num_bytes': 954752631, 'checksum': None}, 'data/en100/audio/00000381.tar.gz': {'num_bytes': 933720701, 'checksum': None}, 'data/en100/audio/00000382.tar.gz': {'num_bytes': 995136880, 'checksum': None}, 'data/en100/audio/00000383.tar.gz': {'num_bytes': 921219234, 'checksum': None}, 'data/en100/audio/00000384.tar.gz': {'num_bytes': 897228129, 'checksum': None}, 'data/en100/audio/00000385.tar.gz': {'num_bytes': 957308487, 'checksum': None}, 'data/en100/audio/00000386.tar.gz': {'num_bytes': 929060708, 'checksum': None}, 'data/en100/audio/00000387.tar.gz': {'num_bytes': 982978427, 'checksum': None}, 'data/en100/audio/00000388.tar.gz': {'num_bytes': 972613430, 'checksum': None}, 'data/en100/audio/00000389.tar.gz': {'num_bytes': 984957244, 'checksum': None}, 'data/en100/audio/00000390.tar.gz': {'num_bytes': 997066306, 'checksum': None}, 'data/en100/audio/00000391.tar.gz': {'num_bytes': 937813180, 'checksum': None}, 'data/en100/audio/00000392.tar.gz': {'num_bytes': 996825282, 'checksum': None}, 'data/en100/audio/00000393.tar.gz': {'num_bytes': 952097455, 'checksum': None}, 'data/en100/audio/00000394.tar.gz': {'num_bytes': 923426597, 'checksum': None}, 'data/en100/audio/00000395.tar.gz': {'num_bytes': 956443340, 'checksum': None}, 'data/en100/audio/00000396.tar.gz': {'num_bytes': 925404242, 'checksum': None}, 'data/en100/audio/00000397.tar.gz': {'num_bytes': 995521895, 'checksum': None}, 'data/en100/audio/00000398.tar.gz': {'num_bytes': 931375585, 'checksum': None}, 'data/en100/audio/00000399.tar.gz': {'num_bytes': 927288163, 'checksum': None}, 'data/en100/audio/00000400.tar.gz': {'num_bytes': 925674300, 'checksum': None}, 'data/en100/audio/00000401.tar.gz': {'num_bytes': 947079551, 'checksum': None}, 'data/en100/audio/00000402.tar.gz': {'num_bytes': 921250952, 'checksum': None}, 'data/en100/audio/00000403.tar.gz': {'num_bytes': 967443530, 'checksum': None}, 'data/en100/audio/00000404.tar.gz': {'num_bytes': 920392310, 'checksum': None}, 'data/en100/audio/00000405.tar.gz': {'num_bytes': 975474542, 'checksum': None}, 'data/en100/audio/00000406.tar.gz': {'num_bytes': 941324831, 'checksum': None}, 'data/en100/audio/00000407.tar.gz': {'num_bytes': 960701079, 'checksum': None}, 'data/en100/audio/00000408.tar.gz': {'num_bytes': 927153744, 'checksum': None}, 'data/en100/audio/00000409.tar.gz': {'num_bytes': 933023239, 'checksum': None}, 'data/en100/audio/00000410.tar.gz': {'num_bytes': 950507804, 'checksum': None}, 'data/en100/audio/00000411.tar.gz': {'num_bytes': 921824946, 'checksum': None}, 'data/en100/audio/00000412.tar.gz': {'num_bytes': 977108795, 'checksum': None}, 'data/en100/audio/00000413.tar.gz': {'num_bytes': 988625608, 'checksum': None}, 'data/en100/audio/00000414.tar.gz': {'num_bytes': 927082704, 'checksum': None}, 'data/en100/audio/00000415.tar.gz': {'num_bytes': 937932820, 'checksum': None}, 'data/en100/audio/00000416.tar.gz': {'num_bytes': 944131711, 'checksum': None}, 'data/en100/audio/00000417.tar.gz': {'num_bytes': 985921797, 'checksum': None}, 'data/en100/audio/00000418.tar.gz': {'num_bytes': 948935432, 'checksum': None}, 'data/en100/audio/00000419.tar.gz': {'num_bytes': 933812877, 'checksum': None}, 'data/en100/audio/00000420.tar.gz': {'num_bytes': 950650312, 'checksum': None}, 'data/en100/audio/00000421.tar.gz': {'num_bytes': 961258564, 'checksum': None}, 'data/en100/audio/00000422.tar.gz': {'num_bytes': 971630710, 'checksum': None}, 'data/en100/audio/00000423.tar.gz': {'num_bytes': 972826065, 'checksum': None}, 'data/en100/audio/00000424.tar.gz': {'num_bytes': 952303753, 'checksum': None}, 'data/en100/audio/00000425.tar.gz': {'num_bytes': 509075136, 'checksum': None}, 'data/en100/audio/00000426.tar.gz': {'num_bytes': 957858779, 'checksum': None}, 'data/en100/audio/00000427.tar.gz': {'num_bytes': 919363264, 'checksum': None}, 'data/en100/audio/00000428.tar.gz': {'num_bytes': 930621514, 'checksum': None}, 'data/en100/audio/00000429.tar.gz': {'num_bytes': 986993223, 'checksum': None}, 'data/en100/audio/00000430.tar.gz': {'num_bytes': 950958041, 'checksum': None}, 'data/en100/audio/00000431.tar.gz': {'num_bytes': 1021980260, 'checksum': None}, 'data/en100/audio/00000432.tar.gz': {'num_bytes': 911965874, 'checksum': None}, 'data/en100/audio/00000433.tar.gz': {'num_bytes': 946429357, 'checksum': None}, 'data/en100/audio/00000434.tar.gz': {'num_bytes': 913119943, 'checksum': None}, 'data/en100/audio/00000435.tar.gz': {'num_bytes': 1066810680, 'checksum': None}, 'data/en100/audio/00000436.tar.gz': {'num_bytes': 997674584, 'checksum': None}, 'data/en100/audio/00000437.tar.gz': {'num_bytes': 966972889, 'checksum': None}, 'data/en100/audio/00000438.tar.gz': {'num_bytes': 895770817, 'checksum': None}, 'data/en100/audio/00000439.tar.gz': {'num_bytes': 1030747503, 'checksum': None}, 'data/en100/audio/00000440.tar.gz': {'num_bytes': 980454654, 'checksum': None}, 'data/en100/audio/00000441.tar.gz': {'num_bytes': 922706118, 'checksum': None}, 'data/en100/audio/00000442.tar.gz': {'num_bytes': 901090763, 'checksum': None}, 'data/en100/audio/00000443.tar.gz': {'num_bytes': 903147321, 'checksum': None}, 'data/en100/audio/00000444.tar.gz': {'num_bytes': 913685944, 'checksum': None}, 'data/en100/audio/00000445.tar.gz': {'num_bytes': 937283614, 'checksum': None}, 'data/en100/audio/00000446.tar.gz': {'num_bytes': 983694254, 'checksum': None}, 'data/en100/audio/00000447.tar.gz': {'num_bytes': 961203735, 'checksum': None}, 'data/en100/audio/00000448.tar.gz': {'num_bytes': 999387109, 'checksum': None}, 'data/en100/audio/00000449.tar.gz': {'num_bytes': 980571666, 'checksum': None}, 'data/en100/audio/00000450.tar.gz': {'num_bytes': 997915574, 'checksum': None}, 'data/en100/audio/00000451.tar.gz': {'num_bytes': 793376951, 'checksum': None}, 'data/en100/audio/00000452.tar.gz': {'num_bytes': 927973724, 'checksum': None}, 'data/en100/audio/00000453.tar.gz': {'num_bytes': 944078750, 'checksum': None}, 'data/en100/audio/00000454.tar.gz': {'num_bytes': 936711718, 'checksum': None}, 'data/en100/audio/00000455.tar.gz': {'num_bytes': 976124366, 'checksum': None}, 'data/en100/audio/00000456.tar.gz': {'num_bytes': 891554073, 'checksum': None}, 'data/en100/audio/00000457.tar.gz': {'num_bytes': 1049323449, 'checksum': None}, 'data/en100/audio/00000458.tar.gz': {'num_bytes': 918950330, 'checksum': None}, 'data/en100/audio/00000459.tar.gz': {'num_bytes': 913413658, 'checksum': None}, 'data/en100/audio/00000460.tar.gz': {'num_bytes': 991394879, 'checksum': None}, 'data/en100/audio/00000461.tar.gz': {'num_bytes': 1012851851, 'checksum': None}, 'data/en100/audio/00000462.tar.gz': {'num_bytes': 990100741, 'checksum': None}, 'data/en100/audio/00000463.tar.gz': {'num_bytes': 923919991, 'checksum': None}, 'data/en100/audio/00000464.tar.gz': {'num_bytes': 1011833206, 'checksum': None}, 'data/en100/audio/00000465.tar.gz': {'num_bytes': 932732692, 'checksum': None}, 'data/en100/audio/00000466.tar.gz': {'num_bytes': 947506865, 'checksum': None}, 'data/en100/audio/00000467.tar.gz': {'num_bytes': 973448752, 'checksum': None}, 'data/en100/audio/00000468.tar.gz': {'num_bytes': 952949353, 'checksum': None}, 'data/en100/audio/00000469.tar.gz': {'num_bytes': 951851694, 'checksum': None}, 'data/en100/audio/00000470.tar.gz': {'num_bytes': 900229713, 'checksum': None}, 'data/en100/audio/00000471.tar.gz': {'num_bytes': 907368145, 'checksum': None}, 'data/en100/audio/00000472.tar.gz': {'num_bytes': 896957590, 'checksum': None}, 'data/en100/audio/00000473.tar.gz': {'num_bytes': 1044291587, 'checksum': None}, 'data/en100/audio/00000474.tar.gz': {'num_bytes': 917350293, 'checksum': None}, 'data/en100/audio/00000475.tar.gz': {'num_bytes': 1004678719, 'checksum': None}, 'data/en100/audio/00000476.tar.gz': {'num_bytes': 921906003, 'checksum': None}, 'data/en100/audio/00000477.tar.gz': {'num_bytes': 947698931, 'checksum': None}, 'data/en100/audio/00000478.tar.gz': {'num_bytes': 820127864, 'checksum': None}, 'data/en100/audio/00000479.tar.gz': {'num_bytes': 1031724482, 'checksum': None}, 'data/en100/audio/00000480.tar.gz': {'num_bytes': 903080540, 'checksum': None}, 'data/en100/audio/00000481.tar.gz': {'num_bytes': 624932903, 'checksum': None}, 'data/en100/audio/00000482.tar.gz': {'num_bytes': 955766354, 'checksum': None}, 'data/en100/audio/00000483.tar.gz': {'num_bytes': 923552387, 'checksum': None}, 'data/en100/audio/00000484.tar.gz': {'num_bytes': 947544279, 'checksum': None}, 'data/en100/audio/00000485.tar.gz': {'num_bytes': 1014749457, 'checksum': None}, 'data/en100/audio/00000486.tar.gz': {'num_bytes': 928456539, 'checksum': None}, 'data/en100/audio/00000487.tar.gz': {'num_bytes': 921518107, 'checksum': None}, 'data/en100/audio/00000488.tar.gz': {'num_bytes': 925894283, 'checksum': None}, 'data/en100/audio/00000489.tar.gz': {'num_bytes': 1013859613, 'checksum': None}, 'data/en100/audio/00000490.tar.gz': {'num_bytes': 940515785, 'checksum': None}, 'data/en100/audio/00000491.tar.gz': {'num_bytes': 930825916, 'checksum': None}, 'data/en100/audio/00000492.tar.gz': {'num_bytes': 944231624, 'checksum': None}, 'data/en100/audio/00000493.tar.gz': {'num_bytes': 851885229, 'checksum': None}, 'data/en100/audio/00000494.tar.gz': {'num_bytes': 973771996, 'checksum': None}, 'data/en100/audio/00000495.tar.gz': {'num_bytes': 965598814, 'checksum': None}, 'data/en100/audio/00000496.tar.gz': {'num_bytes': 949998279, 'checksum': None}, 'data/en100/audio/00000497.tar.gz': {'num_bytes': 959911059, 'checksum': None}, 'data/en100/audio/00000498.tar.gz': {'num_bytes': 1023075381, 'checksum': None}, 'data/en100/audio/00000499.tar.gz': {'num_bytes': 939641175, 'checksum': None}, 'data/en100/text/00000000.txt': {'num_bytes': 931638, 'checksum': None}, 'data/en100/text/00000001.txt': {'num_bytes': 970444, 'checksum': None}, 'data/en100/text/00000002.txt': {'num_bytes': 959619, 'checksum': None}, 'data/en100/text/00000003.txt': {'num_bytes': 821929, 'checksum': None}, 'data/en100/text/00000004.txt': {'num_bytes': 942485, 'checksum': None}, 'data/en100/text/00000005.txt': {'num_bytes': 990626, 'checksum': None}, 'data/en100/text/00000006.txt': {'num_bytes': 948580, 'checksum': None}, 'data/en100/text/00000007.txt': {'num_bytes': 829490, 'checksum': None}, 'data/en100/text/00000008.txt': {'num_bytes': 1000447, 'checksum': None}, 'data/en100/text/00000009.txt': {'num_bytes': 928357, 'checksum': None}, 'data/en100/text/00000010.txt': {'num_bytes': 891302, 'checksum': None}, 'data/en100/text/00000011.txt': {'num_bytes': 839879, 'checksum': None}, 'data/en100/text/00000012.txt': {'num_bytes': 946598, 'checksum': None}, 'data/en100/text/00000013.txt': {'num_bytes': 1039111, 'checksum': None}, 'data/en100/text/00000014.txt': {'num_bytes': 975869, 'checksum': None}, 'data/en100/text/00000015.txt': {'num_bytes': 914557, 'checksum': None}, 'data/en100/text/00000016.txt': {'num_bytes': 966773, 'checksum': None}, 'data/en100/text/00000017.txt': {'num_bytes': 1047481, 'checksum': None}, 'data/en100/text/00000018.txt': {'num_bytes': 1114213, 'checksum': None}, 'data/en100/text/00000019.txt': {'num_bytes': 904903, 'checksum': None}, 'data/en100/text/00000020.txt': {'num_bytes': 1003173, 'checksum': None}, 'data/en100/text/00000021.txt': {'num_bytes': 874958, 'checksum': None}, 'data/en100/text/00000022.txt': {'num_bytes': 908533, 'checksum': None}, 'data/en100/text/00000023.txt': {'num_bytes': 968035, 'checksum': None}, 'data/en100/text/00000024.txt': {'num_bytes': 905049, 'checksum': None}, 'data/en100/text/00000025.txt': {'num_bytes': 878628, 'checksum': None}, 'data/en100/text/00000026.txt': {'num_bytes': 821678, 'checksum': None}, 'data/en100/text/00000027.txt': {'num_bytes': 1041623, 'checksum': None}, 'data/en100/text/00000028.txt': {'num_bytes': 883417, 'checksum': None}, 'data/en100/text/00000029.txt': {'num_bytes': 998421, 'checksum': None}, 'data/en100/text/00000030.txt': {'num_bytes': 996288, 'checksum': None}, 'data/en100/text/00000031.txt': {'num_bytes': 983709, 'checksum': None}, 'data/en100/text/00000032.txt': {'num_bytes': 868206, 'checksum': None}, 'data/en100/text/00000033.txt': {'num_bytes': 945537, 'checksum': None}, 'data/en100/text/00000034.txt': {'num_bytes': 886780, 'checksum': None}, 'data/en100/text/00000035.txt': {'num_bytes': 1005557, 'checksum': None}, 'data/en100/text/00000036.txt': {'num_bytes': 871462, 'checksum': None}, 'data/en100/text/00000037.txt': {'num_bytes': 1008824, 'checksum': None}, 'data/en100/text/00000038.txt': {'num_bytes': 985820, 'checksum': None}, 'data/en100/text/00000039.txt': {'num_bytes': 946487, 'checksum': None}, 'data/en100/text/00000040.txt': {'num_bytes': 994600, 'checksum': None}, 'data/en100/text/00000041.txt': {'num_bytes': 906785, 'checksum': None}, 'data/en100/text/00000042.txt': {'num_bytes': 951037, 'checksum': None}, 'data/en100/text/00000043.txt': {'num_bytes': 883351, 'checksum': None}, 'data/en100/text/00000044.txt': {'num_bytes': 873280, 'checksum': None}, 'data/en100/text/00000045.txt': {'num_bytes': 786838, 'checksum': None}, 'data/en100/text/00000046.txt': {'num_bytes': 1008991, 'checksum': None}, 'data/en100/text/00000047.txt': {'num_bytes': 823715, 'checksum': None}, 'data/en100/text/00000048.txt': {'num_bytes': 869038, 'checksum': None}, 'data/en100/text/00000049.txt': {'num_bytes': 1000419, 'checksum': None}, 'data/en100/text/00000050.txt': {'num_bytes': 932764, 'checksum': None}, 'data/en100/text/00000051.txt': {'num_bytes': 989284, 'checksum': None}, 'data/en100/text/00000052.txt': {'num_bytes': 709569, 'checksum': None}, 'data/en100/text/00000053.txt': {'num_bytes': 912682, 'checksum': None}, 'data/en100/text/00000054.txt': {'num_bytes': 968424, 'checksum': None}, 'data/en100/text/00000055.txt': {'num_bytes': 965641, 'checksum': None}, 'data/en100/text/00000056.txt': {'num_bytes': 973950, 'checksum': None}, 'data/en100/text/00000057.txt': {'num_bytes': 1020125, 'checksum': None}, 'data/en100/text/00000058.txt': {'num_bytes': 863021, 'checksum': None}, 'data/en100/text/00000059.txt': {'num_bytes': 853342, 'checksum': None}, 'data/en100/text/00000060.txt': {'num_bytes': 932712, 'checksum': None}, 'data/en100/text/00000061.txt': {'num_bytes': 846220, 'checksum': None}, 'data/en100/text/00000062.txt': {'num_bytes': 874899, 'checksum': None}, 'data/en100/text/00000063.txt': {'num_bytes': 933901, 'checksum': None}, 'data/en100/text/00000064.txt': {'num_bytes': 1044698, 'checksum': None}, 'data/en100/text/00000065.txt': {'num_bytes': 906792, 'checksum': None}, 'data/en100/text/00000066.txt': {'num_bytes': 875178, 'checksum': None}, 'data/en100/text/00000067.txt': {'num_bytes': 873419, 'checksum': None}, 'data/en100/text/00000068.txt': {'num_bytes': 941329, 'checksum': None}, 'data/en100/text/00000069.txt': {'num_bytes': 862840, 'checksum': None}, 'data/en100/text/00000070.txt': {'num_bytes': 986839, 'checksum': None}, 'data/en100/text/00000071.txt': {'num_bytes': 848068, 'checksum': None}, 'data/en100/text/00000072.txt': {'num_bytes': 962576, 'checksum': None}, 'data/en100/text/00000073.txt': {'num_bytes': 1006289, 'checksum': None}, 'data/en100/text/00000074.txt': {'num_bytes': 901421, 'checksum': None}, 'data/en100/text/00000075.txt': {'num_bytes': 955108, 'checksum': None}, 'data/en100/text/00000076.txt': {'num_bytes': 884717, 'checksum': None}, 'data/en100/text/00000077.txt': {'num_bytes': 872688, 'checksum': None}, 'data/en100/text/00000078.txt': {'num_bytes': 811887, 'checksum': None}, 'data/en100/text/00000079.txt': {'num_bytes': 926972, 'checksum': None}, 'data/en100/text/00000080.txt': {'num_bytes': 818432, 'checksum': None}, 'data/en100/text/00000081.txt': {'num_bytes': 1015481, 'checksum': None}, 'data/en100/text/00000082.txt': {'num_bytes': 881754, 'checksum': None}, 'data/en100/text/00000083.txt': {'num_bytes': 880559, 'checksum': None}, 'data/en100/text/00000084.txt': {'num_bytes': 844692, 'checksum': None}, 'data/en100/text/00000085.txt': {'num_bytes': 900901, 'checksum': None}, 'data/en100/text/00000086.txt': {'num_bytes': 944409, 'checksum': None}, 'data/en100/text/00000087.txt': {'num_bytes': 844012, 'checksum': None}, 'data/en100/text/00000088.txt': {'num_bytes': 944332, 'checksum': None}, 'data/en100/text/00000089.txt': {'num_bytes': 867877, 'checksum': None}, 'data/en100/text/00000090.txt': {'num_bytes': 825021, 'checksum': None}, 'data/en100/text/00000091.txt': {'num_bytes': 834153, 'checksum': None}, 'data/en100/text/00000092.txt': {'num_bytes': 854008, 'checksum': None}, 'data/en100/text/00000093.txt': {'num_bytes': 874919, 'checksum': None}, 'data/en100/text/00000094.txt': {'num_bytes': 947265, 'checksum': None}, 'data/en100/text/00000095.txt': {'num_bytes': 896285, 'checksum': None}, 'data/en100/text/00000096.txt': {'num_bytes': 980250, 'checksum': None}, 'data/en100/text/00000097.txt': {'num_bytes': 834774, 'checksum': None}, 'data/en100/text/00000098.txt': {'num_bytes': 951200, 'checksum': None}, 'data/en100/text/00000099.txt': {'num_bytes': 939011, 'checksum': None}, 'data/en100/text/00000100.txt': {'num_bytes': 834941, 'checksum': None}, 'data/en100/text/00000101.txt': {'num_bytes': 963431, 'checksum': None}, 'data/en100/text/00000102.txt': {'num_bytes': 970225, 'checksum': None}, 'data/en100/text/00000103.txt': {'num_bytes': 967257, 'checksum': None}, 'data/en100/text/00000104.txt': {'num_bytes': 941452, 'checksum': None}, 'data/en100/text/00000105.txt': {'num_bytes': 941491, 'checksum': None}, 'data/en100/text/00000106.txt': {'num_bytes': 846522, 'checksum': None}, 'data/en100/text/00000107.txt': {'num_bytes': 869290, 'checksum': None}, 'data/en100/text/00000108.txt': {'num_bytes': 855039, 'checksum': None}, 'data/en100/text/00000109.txt': {'num_bytes': 873360, 'checksum': None}, 'data/en100/text/00000110.txt': {'num_bytes': 906110, 'checksum': None}, 'data/en100/text/00000111.txt': {'num_bytes': 888170, 'checksum': None}, 'data/en100/text/00000112.txt': {'num_bytes': 972017, 'checksum': None}, 'data/en100/text/00000113.txt': {'num_bytes': 857365, 'checksum': None}, 'data/en100/text/00000114.txt': {'num_bytes': 848263, 'checksum': None}, 'data/en100/text/00000115.txt': {'num_bytes': 971016, 'checksum': None}, 'data/en100/text/00000116.txt': {'num_bytes': 905944, 'checksum': None}, 'data/en100/text/00000117.txt': {'num_bytes': 922492, 'checksum': None}, 'data/en100/text/00000118.txt': {'num_bytes': 1029309, 'checksum': None}, 'data/en100/text/00000119.txt': {'num_bytes': 793006, 'checksum': None}, 'data/en100/text/00000120.txt': {'num_bytes': 1045011, 'checksum': None}, 'data/en100/text/00000121.txt': {'num_bytes': 1049771, 'checksum': None}, 'data/en100/text/00000122.txt': {'num_bytes': 958794, 'checksum': None}, 'data/en100/text/00000123.txt': {'num_bytes': 849121, 'checksum': None}, 'data/en100/text/00000124.txt': {'num_bytes': 1031868, 'checksum': None}, 'data/en100/text/00000125.txt': {'num_bytes': 902903, 'checksum': None}, 'data/en100/text/00000126.txt': {'num_bytes': 949496, 'checksum': None}, 'data/en100/text/00000127.txt': {'num_bytes': 920826, 'checksum': None}, 'data/en100/text/00000128.txt': {'num_bytes': 1004362, 'checksum': None}, 'data/en100/text/00000129.txt': {'num_bytes': 854276, 'checksum': None}, 'data/en100/text/00000130.txt': {'num_bytes': 844797, 'checksum': None}, 'data/en100/text/00000131.txt': {'num_bytes': 922308, 'checksum': None}, 'data/en100/text/00000132.txt': {'num_bytes': 1002097, 'checksum': None}, 'data/en100/text/00000133.txt': {'num_bytes': 882985, 'checksum': None}, 'data/en100/text/00000134.txt': {'num_bytes': 950800, 'checksum': None}, 'data/en100/text/00000135.txt': {'num_bytes': 1040261, 'checksum': None}, 'data/en100/text/00000136.txt': {'num_bytes': 858013, 'checksum': None}, 'data/en100/text/00000137.txt': {'num_bytes': 982100, 'checksum': None}, 'data/en100/text/00000138.txt': {'num_bytes': 951442, 'checksum': None}, 'data/en100/text/00000139.txt': {'num_bytes': 998995, 'checksum': None}, 'data/en100/text/00000140.txt': {'num_bytes': 876964, 'checksum': None}, 'data/en100/text/00000141.txt': {'num_bytes': 888925, 'checksum': None}, 'data/en100/text/00000142.txt': {'num_bytes': 943338, 'checksum': None}, 'data/en100/text/00000143.txt': {'num_bytes': 1045549, 'checksum': None}, 'data/en100/text/00000144.txt': {'num_bytes': 1016321, 'checksum': None}, 'data/en100/text/00000145.txt': {'num_bytes': 737225, 'checksum': None}, 'data/en100/text/00000146.txt': {'num_bytes': 998014, 'checksum': None}, 'data/en100/text/00000147.txt': {'num_bytes': 847932, 'checksum': None}, 'data/en100/text/00000148.txt': {'num_bytes': 1076691, 'checksum': None}, 'data/en100/text/00000149.txt': {'num_bytes': 1019359, 'checksum': None}, 'data/en100/text/00000150.txt': {'num_bytes': 931126, 'checksum': None}, 'data/en100/text/00000151.txt': {'num_bytes': 830887, 'checksum': None}, 'data/en100/text/00000152.txt': {'num_bytes': 936482, 'checksum': None}, 'data/en100/text/00000153.txt': {'num_bytes': 797762, 'checksum': None}, 'data/en100/text/00000154.txt': {'num_bytes': 827954, 'checksum': None}, 'data/en100/text/00000155.txt': {'num_bytes': 800996, 'checksum': None}, 'data/en100/text/00000156.txt': {'num_bytes': 978667, 'checksum': None}, 'data/en100/text/00000157.txt': {'num_bytes': 992237, 'checksum': None}, 'data/en100/text/00000158.txt': {'num_bytes': 849416, 'checksum': None}, 'data/en100/text/00000159.txt': {'num_bytes': 1104192, 'checksum': None}, 'data/en100/text/00000160.txt': {'num_bytes': 984135, 'checksum': None}, 'data/en100/text/00000161.txt': {'num_bytes': 820474, 'checksum': None}, 'data/en100/text/00000162.txt': {'num_bytes': 932162, 'checksum': None}, 'data/en100/text/00000163.txt': {'num_bytes': 994189, 'checksum': None}, 'data/en100/text/00000164.txt': {'num_bytes': 943535, 'checksum': None}, 'data/en100/text/00000165.txt': {'num_bytes': 835340, 'checksum': None}, 'data/en100/text/00000166.txt': {'num_bytes': 875025, 'checksum': None}, 'data/en100/text/00000167.txt': {'num_bytes': 938727, 'checksum': None}, 'data/en100/text/00000168.txt': {'num_bytes': 969054, 'checksum': None}, 'data/en100/text/00000169.txt': {'num_bytes': 861269, 'checksum': None}, 'data/en100/text/00000170.txt': {'num_bytes': 891972, 'checksum': None}, 'data/en100/text/00000171.txt': {'num_bytes': 911985, 'checksum': None}, 'data/en100/text/00000172.txt': {'num_bytes': 903393, 'checksum': None}, 'data/en100/text/00000173.txt': {'num_bytes': 811732, 'checksum': None}, 'data/en100/text/00000174.txt': {'num_bytes': 946512, 'checksum': None}, 'data/en100/text/00000175.txt': {'num_bytes': 806593, 'checksum': None}, 'data/en100/text/00000176.txt': {'num_bytes': 914024, 'checksum': None}, 'data/en100/text/00000177.txt': {'num_bytes': 942911, 'checksum': None}, 'data/en100/text/00000178.txt': {'num_bytes': 945624, 'checksum': None}, 'data/en100/text/00000179.txt': {'num_bytes': 905230, 'checksum': None}, 'data/en100/text/00000180.txt': {'num_bytes': 959075, 'checksum': None}, 'data/en100/text/00000181.txt': {'num_bytes': 818845, 'checksum': None}, 'data/en100/text/00000182.txt': {'num_bytes': 839900, 'checksum': None}, 'data/en100/text/00000183.txt': {'num_bytes': 973383, 'checksum': None}, 'data/en100/text/00000184.txt': {'num_bytes': 967495, 'checksum': None}, 'data/en100/text/00000185.txt': {'num_bytes': 958359, 'checksum': None}, 'data/en100/text/00000186.txt': {'num_bytes': 760175, 'checksum': None}, 'data/en100/text/00000187.txt': {'num_bytes': 1006729, 'checksum': None}, 'data/en100/text/00000188.txt': {'num_bytes': 1015779, 'checksum': None}, 'data/en100/text/00000189.txt': {'num_bytes': 910552, 'checksum': None}, 'data/en100/text/00000190.txt': {'num_bytes': 872821, 'checksum': None}, 'data/en100/text/00000191.txt': {'num_bytes': 926079, 'checksum': None}, 'data/en100/text/00000192.txt': {'num_bytes': 969941, 'checksum': None}, 'data/en100/text/00000193.txt': {'num_bytes': 891766, 'checksum': None}, 'data/en100/text/00000194.txt': {'num_bytes': 933326, 'checksum': None}, 'data/en100/text/00000195.txt': {'num_bytes': 837652, 'checksum': None}, 'data/en100/text/00000196.txt': {'num_bytes': 981676, 'checksum': None}, 'data/en100/text/00000197.txt': {'num_bytes': 936721, 'checksum': None}, 'data/en100/text/00000198.txt': {'num_bytes': 787041, 'checksum': None}, 'data/en100/text/00000199.txt': {'num_bytes': 843070, 'checksum': None}, 'data/en100/text/00000200.txt': {'num_bytes': 1047514, 'checksum': None}, 'data/en100/text/00000201.txt': {'num_bytes': 888565, 'checksum': None}, 'data/en100/text/00000202.txt': {'num_bytes': 889276, 'checksum': None}, 'data/en100/text/00000203.txt': {'num_bytes': 839240, 'checksum': None}, 'data/en100/text/00000204.txt': {'num_bytes': 930981, 'checksum': None}, 'data/en100/text/00000205.txt': {'num_bytes': 869167, 'checksum': None}, 'data/en100/text/00000206.txt': {'num_bytes': 1020218, 'checksum': None}, 'data/en100/text/00000207.txt': {'num_bytes': 811461, 'checksum': None}, 'data/en100/text/00000208.txt': {'num_bytes': 1022669, 'checksum': None}, 'data/en100/text/00000209.txt': {'num_bytes': 802809, 'checksum': None}, 'data/en100/text/00000210.txt': {'num_bytes': 892507, 'checksum': None}, 'data/en100/text/00000211.txt': {'num_bytes': 964440, 'checksum': None}, 'data/en100/text/00000212.txt': {'num_bytes': 733239, 'checksum': None}, 'data/en100/text/00000213.txt': {'num_bytes': 873426, 'checksum': None}, 'data/en100/text/00000214.txt': {'num_bytes': 930122, 'checksum': None}, 'data/en100/text/00000215.txt': {'num_bytes': 1023062, 'checksum': None}, 'data/en100/text/00000216.txt': {'num_bytes': 837927, 'checksum': None}, 'data/en100/text/00000217.txt': {'num_bytes': 971328, 'checksum': None}, 'data/en100/text/00000218.txt': {'num_bytes': 940698, 'checksum': None}, 'data/en100/text/00000219.txt': {'num_bytes': 881673, 'checksum': None}, 'data/en100/text/00000220.txt': {'num_bytes': 799574, 'checksum': None}, 'data/en100/text/00000221.txt': {'num_bytes': 1078788, 'checksum': None}, 'data/en100/text/00000222.txt': {'num_bytes': 877088, 'checksum': None}, 'data/en100/text/00000223.txt': {'num_bytes': 894340, 'checksum': None}, 'data/en100/text/00000224.txt': {'num_bytes': 948447, 'checksum': None}, 'data/en100/text/00000225.txt': {'num_bytes': 923499, 'checksum': None}, 'data/en100/text/00000226.txt': {'num_bytes': 783291, 'checksum': None}, 'data/en100/text/00000227.txt': {'num_bytes': 869386, 'checksum': None}, 'data/en100/text/00000228.txt': {'num_bytes': 881217, 'checksum': None}, 'data/en100/text/00000229.txt': {'num_bytes': 858909, 'checksum': None}, 'data/en100/text/00000230.txt': {'num_bytes': 807968, 'checksum': None}, 'data/en100/text/00000231.txt': {'num_bytes': 867011, 'checksum': None}, 'data/en100/text/00000232.txt': {'num_bytes': 979990, 'checksum': None}, 'data/en100/text/00000233.txt': {'num_bytes': 998189, 'checksum': None}, 'data/en100/text/00000234.txt': {'num_bytes': 749298, 'checksum': None}, 'data/en100/text/00000235.txt': {'num_bytes': 936882, 'checksum': None}, 'data/en100/text/00000236.txt': {'num_bytes': 941689, 'checksum': None}, 'data/en100/text/00000237.txt': {'num_bytes': 1043102, 'checksum': None}, 'data/en100/text/00000238.txt': {'num_bytes': 834309, 'checksum': None}, 'data/en100/text/00000239.txt': {'num_bytes': 893531, 'checksum': None}, 'data/en100/text/00000240.txt': {'num_bytes': 1016763, 'checksum': None}, 'data/en100/text/00000241.txt': {'num_bytes': 874596, 'checksum': None}, 'data/en100/text/00000242.txt': {'num_bytes': 845910, 'checksum': None}, 'data/en100/text/00000243.txt': {'num_bytes': 962753, 'checksum': None}, 'data/en100/text/00000244.txt': {'num_bytes': 965391, 'checksum': None}, 'data/en100/text/00000245.txt': {'num_bytes': 1071207, 'checksum': None}, 'data/en100/text/00000246.txt': {'num_bytes': 831108, 'checksum': None}, 'data/en100/text/00000247.txt': {'num_bytes': 887792, 'checksum': None}, 'data/en100/text/00000248.txt': {'num_bytes': 882943, 'checksum': None}, 'data/en100/text/00000249.txt': {'num_bytes': 761338, 'checksum': None}, 'data/en100/text/00000250.txt': {'num_bytes': 945322, 'checksum': None}, 'data/en100/text/00000251.txt': {'num_bytes': 918234, 'checksum': None}, 'data/en100/text/00000252.txt': {'num_bytes': 952112, 'checksum': None}, 'data/en100/text/00000253.txt': {'num_bytes': 846984, 'checksum': None}, 'data/en100/text/00000254.txt': {'num_bytes': 916552, 'checksum': None}, 'data/en100/text/00000255.txt': {'num_bytes': 1034396, 'checksum': None}, 'data/en100/text/00000256.txt': {'num_bytes': 854779, 'checksum': None}, 'data/en100/text/00000257.txt': {'num_bytes': 932235, 'checksum': None}, 'data/en100/text/00000258.txt': {'num_bytes': 886366, 'checksum': None}, 'data/en100/text/00000259.txt': {'num_bytes': 956414, 'checksum': None}, 'data/en100/text/00000260.txt': {'num_bytes': 829003, 'checksum': None}, 'data/en100/text/00000261.txt': {'num_bytes': 973032, 'checksum': None}, 'data/en100/text/00000262.txt': {'num_bytes': 894575, 'checksum': None}, 'data/en100/text/00000263.txt': {'num_bytes': 964121, 'checksum': None}, 'data/en100/text/00000264.txt': {'num_bytes': 646017, 'checksum': None}, 'data/en100/text/00000265.txt': {'num_bytes': 917336, 'checksum': None}, 'data/en100/text/00000266.txt': {'num_bytes': 1026146, 'checksum': None}, 'data/en100/text/00000267.txt': {'num_bytes': 917367, 'checksum': None}, 'data/en100/text/00000268.txt': {'num_bytes': 937997, 'checksum': None}, 'data/en100/text/00000269.txt': {'num_bytes': 903547, 'checksum': None}, 'data/en100/text/00000270.txt': {'num_bytes': 992869, 'checksum': None}, 'data/en100/text/00000271.txt': {'num_bytes': 940279, 'checksum': None}, 'data/en100/text/00000272.txt': {'num_bytes': 1067622, 'checksum': None}, 'data/en100/text/00000273.txt': {'num_bytes': 1030817, 'checksum': None}, 'data/en100/text/00000274.txt': {'num_bytes': 922703, 'checksum': None}, 'data/en100/text/00000275.txt': {'num_bytes': 812089, 'checksum': None}, 'data/en100/text/00000276.txt': {'num_bytes': 939282, 'checksum': None}, 'data/en100/text/00000277.txt': {'num_bytes': 889202, 'checksum': None}, 'data/en100/text/00000278.txt': {'num_bytes': 937862, 'checksum': None}, 'data/en100/text/00000279.txt': {'num_bytes': 866996, 'checksum': None}, 'data/en100/text/00000280.txt': {'num_bytes': 833320, 'checksum': None}, 'data/en100/text/00000281.txt': {'num_bytes': 1045299, 'checksum': None}, 'data/en100/text/00000282.txt': {'num_bytes': 890612, 'checksum': None}, 'data/en100/text/00000283.txt': {'num_bytes': 959892, 'checksum': None}, 'data/en100/text/00000284.txt': {'num_bytes': 979984, 'checksum': None}, 'data/en100/text/00000285.txt': {'num_bytes': 933932, 'checksum': None}, 'data/en100/text/00000286.txt': {'num_bytes': 964308, 'checksum': None}, 'data/en100/text/00000287.txt': {'num_bytes': 941287, 'checksum': None}, 'data/en100/text/00000288.txt': {'num_bytes': 917825, 'checksum': None}, 'data/en100/text/00000289.txt': {'num_bytes': 907498, 'checksum': None}, 'data/en100/text/00000290.txt': {'num_bytes': 949413, 'checksum': None}, 'data/en100/text/00000291.txt': {'num_bytes': 882105, 'checksum': None}, 'data/en100/text/00000292.txt': {'num_bytes': 948628, 'checksum': None}, 'data/en100/text/00000293.txt': {'num_bytes': 935250, 'checksum': None}, 'data/en100/text/00000294.txt': {'num_bytes': 970042, 'checksum': None}, 'data/en100/text/00000295.txt': {'num_bytes': 965995, 'checksum': None}, 'data/en100/text/00000296.txt': {'num_bytes': 961434, 'checksum': None}, 'data/en100/text/00000297.txt': {'num_bytes': 1005865, 'checksum': None}, 'data/en100/text/00000298.txt': {'num_bytes': 1036879, 'checksum': None}, 'data/en100/text/00000299.txt': {'num_bytes': 939887, 'checksum': None}, 'data/en100/text/00000300.txt': {'num_bytes': 801049, 'checksum': None}, 'data/en100/text/00000301.txt': {'num_bytes': 931698, 'checksum': None}, 'data/en100/text/00000302.txt': {'num_bytes': 882615, 'checksum': None}, 'data/en100/text/00000303.txt': {'num_bytes': 1048092, 'checksum': None}, 'data/en100/text/00000304.txt': {'num_bytes': 1032279, 'checksum': None}, 'data/en100/text/00000305.txt': {'num_bytes': 950614, 'checksum': None}, 'data/en100/text/00000306.txt': {'num_bytes': 967967, 'checksum': None}, 'data/en100/text/00000307.txt': {'num_bytes': 856640, 'checksum': None}, 'data/en100/text/00000308.txt': {'num_bytes': 960270, 'checksum': None}, 'data/en100/text/00000309.txt': {'num_bytes': 1006294, 'checksum': None}, 'data/en100/text/00000310.txt': {'num_bytes': 938496, 'checksum': None}, 'data/en100/text/00000311.txt': {'num_bytes': 924004, 'checksum': None}, 'data/en100/text/00000312.txt': {'num_bytes': 911580, 'checksum': None}, 'data/en100/text/00000313.txt': {'num_bytes': 889050, 'checksum': None}, 'data/en100/text/00000314.txt': {'num_bytes': 1020407, 'checksum': None}, 'data/en100/text/00000315.txt': {'num_bytes': 950328, 'checksum': None}, 'data/en100/text/00000316.txt': {'num_bytes': 938715, 'checksum': None}, 'data/en100/text/00000317.txt': {'num_bytes': 847562, 'checksum': None}, 'data/en100/text/00000318.txt': {'num_bytes': 874859, 'checksum': None}, 'data/en100/text/00000319.txt': {'num_bytes': 429459, 'checksum': None}, 'data/en100/text/00000320.txt': {'num_bytes': 877064, 'checksum': None}, 'data/en100/text/00000321.txt': {'num_bytes': 899071, 'checksum': None}, 'data/en100/text/00000322.txt': {'num_bytes': 998922, 'checksum': None}, 'data/en100/text/00000323.txt': {'num_bytes': 987671, 'checksum': None}, 'data/en100/text/00000324.txt': {'num_bytes': 996481, 'checksum': None}, 'data/en100/text/00000325.txt': {'num_bytes': 982594, 'checksum': None}, 'data/en100/text/00000326.txt': {'num_bytes': 897576, 'checksum': None}, 'data/en100/text/00000327.txt': {'num_bytes': 901654, 'checksum': None}, 'data/en100/text/00000328.txt': {'num_bytes': 795179, 'checksum': None}, 'data/en100/text/00000329.txt': {'num_bytes': 949359, 'checksum': None}, 'data/en100/text/00000330.txt': {'num_bytes': 896424, 'checksum': None}, 'data/en100/text/00000331.txt': {'num_bytes': 1012591, 'checksum': None}, 'data/en100/text/00000332.txt': {'num_bytes': 917547, 'checksum': None}, 'data/en100/text/00000333.txt': {'num_bytes': 878591, 'checksum': None}, 'data/en100/text/00000334.txt': {'num_bytes': 874662, 'checksum': None}, 'data/en100/text/00000335.txt': {'num_bytes': 934384, 'checksum': None}, 'data/en100/text/00000336.txt': {'num_bytes': 820907, 'checksum': None}, 'data/en100/text/00000337.txt': {'num_bytes': 923193, 'checksum': None}, 'data/en100/text/00000338.txt': {'num_bytes': 945843, 'checksum': None}, 'data/en100/text/00000339.txt': {'num_bytes': 956192, 'checksum': None}, 'data/en100/text/00000340.txt': {'num_bytes': 1009099, 'checksum': None}, 'data/en100/text/00000341.txt': {'num_bytes': 916411, 'checksum': None}, 'data/en100/text/00000342.txt': {'num_bytes': 1046244, 'checksum': None}, 'data/en100/text/00000343.txt': {'num_bytes': 896175, 'checksum': None}, 'data/en100/text/00000344.txt': {'num_bytes': 1048917, 'checksum': None}, 'data/en100/text/00000345.txt': {'num_bytes': 929199, 'checksum': None}, 'data/en100/text/00000346.txt': {'num_bytes': 908855, 'checksum': None}, 'data/en100/text/00000347.txt': {'num_bytes': 966391, 'checksum': None}, 'data/en100/text/00000348.txt': {'num_bytes': 944177, 'checksum': None}, 'data/en100/text/00000349.txt': {'num_bytes': 806339, 'checksum': None}, 'data/en100/text/00000350.txt': {'num_bytes': 849432, 'checksum': None}, 'data/en100/text/00000351.txt': {'num_bytes': 921268, 'checksum': None}, 'data/en100/text/00000352.txt': {'num_bytes': 956583, 'checksum': None}, 'data/en100/text/00000353.txt': {'num_bytes': 855400, 'checksum': None}, 'data/en100/text/00000354.txt': {'num_bytes': 917319, 'checksum': None}, 'data/en100/text/00000355.txt': {'num_bytes': 1068984, 'checksum': None}, 'data/en100/text/00000356.txt': {'num_bytes': 819576, 'checksum': None}, 'data/en100/text/00000357.txt': {'num_bytes': 923253, 'checksum': None}, 'data/en100/text/00000358.txt': {'num_bytes': 903727, 'checksum': None}, 'data/en100/text/00000359.txt': {'num_bytes': 847325, 'checksum': None}, 'data/en100/text/00000360.txt': {'num_bytes': 926131, 'checksum': None}, 'data/en100/text/00000361.txt': {'num_bytes': 853221, 'checksum': None}, 'data/en100/text/00000362.txt': {'num_bytes': 890638, 'checksum': None}, 'data/en100/text/00000363.txt': {'num_bytes': 963357, 'checksum': None}, 'data/en100/text/00000364.txt': {'num_bytes': 977587, 'checksum': None}, 'data/en100/text/00000365.txt': {'num_bytes': 882709, 'checksum': None}, 'data/en100/text/00000366.txt': {'num_bytes': 819888, 'checksum': None}, 'data/en100/text/00000367.txt': {'num_bytes': 939484, 'checksum': None}, 'data/en100/text/00000368.txt': {'num_bytes': 937518, 'checksum': None}, 'data/en100/text/00000369.txt': {'num_bytes': 941085, 'checksum': None}, 'data/en100/text/00000370.txt': {'num_bytes': 1020290, 'checksum': None}, 'data/en100/text/00000371.txt': {'num_bytes': 268979, 'checksum': None}, 'data/en100/text/00000372.txt': {'num_bytes': 852533, 'checksum': None}, 'data/en100/text/00000373.txt': {'num_bytes': 1021116, 'checksum': None}, 'data/en100/text/00000374.txt': {'num_bytes': 818369, 'checksum': None}, 'data/en100/text/00000375.txt': {'num_bytes': 824171, 'checksum': None}, 'data/en100/text/00000376.txt': {'num_bytes': 891036, 'checksum': None}, 'data/en100/text/00000377.txt': {'num_bytes': 819773, 'checksum': None}, 'data/en100/text/00000378.txt': {'num_bytes': 881614, 'checksum': None}, 'data/en100/text/00000379.txt': {'num_bytes': 874122, 'checksum': None}, 'data/en100/text/00000380.txt': {'num_bytes': 954447, 'checksum': None}, 'data/en100/text/00000381.txt': {'num_bytes': 843340, 'checksum': None}, 'data/en100/text/00000382.txt': {'num_bytes': 899134, 'checksum': None}, 'data/en100/text/00000383.txt': {'num_bytes': 874486, 'checksum': None}, 'data/en100/text/00000384.txt': {'num_bytes': 845369, 'checksum': None}, 'data/en100/text/00000385.txt': {'num_bytes': 912704, 'checksum': None}, 'data/en100/text/00000386.txt': {'num_bytes': 807484, 'checksum': None}, 'data/en100/text/00000387.txt': {'num_bytes': 967157, 'checksum': None}, 'data/en100/text/00000388.txt': {'num_bytes': 989334, 'checksum': None}, 'data/en100/text/00000389.txt': {'num_bytes': 869580, 'checksum': None}, 'data/en100/text/00000390.txt': {'num_bytes': 1070556, 'checksum': None}, 'data/en100/text/00000391.txt': {'num_bytes': 920003, 'checksum': None}, 'data/en100/text/00000392.txt': {'num_bytes': 835144, 'checksum': None}, 'data/en100/text/00000393.txt': {'num_bytes': 867912, 'checksum': None}, 'data/en100/text/00000394.txt': {'num_bytes': 818527, 'checksum': None}, 'data/en100/text/00000395.txt': {'num_bytes': 963196, 'checksum': None}, 'data/en100/text/00000396.txt': {'num_bytes': 926338, 'checksum': None}, 'data/en100/text/00000397.txt': {'num_bytes': 929706, 'checksum': None}, 'data/en100/text/00000398.txt': {'num_bytes': 988692, 'checksum': None}, 'data/en100/text/00000399.txt': {'num_bytes': 998323, 'checksum': None}, 'data/en100/text/00000400.txt': {'num_bytes': 856698, 'checksum': None}, 'data/en100/text/00000401.txt': {'num_bytes': 1011414, 'checksum': None}, 'data/en100/text/00000402.txt': {'num_bytes': 966346, 'checksum': None}, 'data/en100/text/00000403.txt': {'num_bytes': 1020015, 'checksum': None}, 'data/en100/text/00000404.txt': {'num_bytes': 923352, 'checksum': None}, 'data/en100/text/00000405.txt': {'num_bytes': 873772, 'checksum': None}, 'data/en100/text/00000406.txt': {'num_bytes': 852656, 'checksum': None}, 'data/en100/text/00000407.txt': {'num_bytes': 893686, 'checksum': None}, 'data/en100/text/00000408.txt': {'num_bytes': 851198, 'checksum': None}, 'data/en100/text/00000409.txt': {'num_bytes': 916977, 'checksum': None}, 'data/en100/text/00000410.txt': {'num_bytes': 1010620, 'checksum': None}, 'data/en100/text/00000411.txt': {'num_bytes': 952798, 'checksum': None}, 'data/en100/text/00000412.txt': {'num_bytes': 874730, 'checksum': None}, 'data/en100/text/00000413.txt': {'num_bytes': 916417, 'checksum': None}, 'data/en100/text/00000414.txt': {'num_bytes': 873721, 'checksum': None}, 'data/en100/text/00000415.txt': {'num_bytes': 977454, 'checksum': None}, 'data/en100/text/00000416.txt': {'num_bytes': 944386, 'checksum': None}, 'data/en100/text/00000417.txt': {'num_bytes': 802874, 'checksum': None}, 'data/en100/text/00000418.txt': {'num_bytes': 933435, 'checksum': None}, 'data/en100/text/00000419.txt': {'num_bytes': 939678, 'checksum': None}, 'data/en100/text/00000420.txt': {'num_bytes': 978951, 'checksum': None}, 'data/en100/text/00000421.txt': {'num_bytes': 1031689, 'checksum': None}, 'data/en100/text/00000422.txt': {'num_bytes': 990474, 'checksum': None}, 'data/en100/text/00000423.txt': {'num_bytes': 916968, 'checksum': None}, 'data/en100/text/00000424.txt': {'num_bytes': 888486, 'checksum': None}, 'data/en100/text/00000425.txt': {'num_bytes': 558814, 'checksum': None}, 'data/en100/text/00000426.txt': {'num_bytes': 1008000, 'checksum': None}, 'data/en100/text/00000427.txt': {'num_bytes': 978810, 'checksum': None}, 'data/en100/text/00000428.txt': {'num_bytes': 927228, 'checksum': None}, 'data/en100/text/00000429.txt': {'num_bytes': 810620, 'checksum': None}, 'data/en100/text/00000430.txt': {'num_bytes': 800188, 'checksum': None}, 'data/en100/text/00000431.txt': {'num_bytes': 969802, 'checksum': None}, 'data/en100/text/00000432.txt': {'num_bytes': 997431, 'checksum': None}, 'data/en100/text/00000433.txt': {'num_bytes': 947197, 'checksum': None}, 'data/en100/text/00000434.txt': {'num_bytes': 984726, 'checksum': None}, 'data/en100/text/00000435.txt': {'num_bytes': 975501, 'checksum': None}, 'data/en100/text/00000436.txt': {'num_bytes': 1020301, 'checksum': None}, 'data/en100/text/00000437.txt': {'num_bytes': 968908, 'checksum': None}, 'data/en100/text/00000438.txt': {'num_bytes': 841127, 'checksum': None}, 'data/en100/text/00000439.txt': {'num_bytes': 843444, 'checksum': None}, 'data/en100/text/00000440.txt': {'num_bytes': 886023, 'checksum': None}, 'data/en100/text/00000441.txt': {'num_bytes': 795422, 'checksum': None}, 'data/en100/text/00000442.txt': {'num_bytes': 857549, 'checksum': None}, 'data/en100/text/00000443.txt': {'num_bytes': 866107, 'checksum': None}, 'data/en100/text/00000444.txt': {'num_bytes': 894181, 'checksum': None}, 'data/en100/text/00000445.txt': {'num_bytes': 916911, 'checksum': None}, 'data/en100/text/00000446.txt': {'num_bytes': 848543, 'checksum': None}, 'data/en100/text/00000447.txt': {'num_bytes': 927684, 'checksum': None}, 'data/en100/text/00000448.txt': {'num_bytes': 917796, 'checksum': None}, 'data/en100/text/00000449.txt': {'num_bytes': 882211, 'checksum': None}, 'data/en100/text/00000450.txt': {'num_bytes': 947356, 'checksum': None}, 'data/en100/text/00000451.txt': {'num_bytes': 732046, 'checksum': None}, 'data/en100/text/00000452.txt': {'num_bytes': 890722, 'checksum': None}, 'data/en100/text/00000453.txt': {'num_bytes': 809658, 'checksum': None}, 'data/en100/text/00000454.txt': {'num_bytes': 983914, 'checksum': None}, 'data/en100/text/00000455.txt': {'num_bytes': 922259, 'checksum': None}, 'data/en100/text/00000456.txt': {'num_bytes': 833874, 'checksum': None}, 'data/en100/text/00000457.txt': {'num_bytes': 941463, 'checksum': None}, 'data/en100/text/00000458.txt': {'num_bytes': 938156, 'checksum': None}, 'data/en100/text/00000459.txt': {'num_bytes': 926535, 'checksum': None}, 'data/en100/text/00000460.txt': {'num_bytes': 1004341, 'checksum': None}, 'data/en100/text/00000461.txt': {'num_bytes': 1012608, 'checksum': None}, 'data/en100/text/00000462.txt': {'num_bytes': 1022340, 'checksum': None}, 'data/en100/text/00000463.txt': {'num_bytes': 900830, 'checksum': None}, 'data/en100/text/00000464.txt': {'num_bytes': 1048119, 'checksum': None}, 'data/en100/text/00000465.txt': {'num_bytes': 771403, 'checksum': None}, 'data/en100/text/00000466.txt': {'num_bytes': 915395, 'checksum': None}, 'data/en100/text/00000467.txt': {'num_bytes': 1034659, 'checksum': None}, 'data/en100/text/00000468.txt': {'num_bytes': 992028, 'checksum': None}, 'data/en100/text/00000469.txt': {'num_bytes': 914582, 'checksum': None}, 'data/en100/text/00000470.txt': {'num_bytes': 893958, 'checksum': None}, 'data/en100/text/00000471.txt': {'num_bytes': 989145, 'checksum': None}, 'data/en100/text/00000472.txt': {'num_bytes': 910942, 'checksum': None}, 'data/en100/text/00000473.txt': {'num_bytes': 1045869, 'checksum': None}, 'data/en100/text/00000474.txt': {'num_bytes': 888830, 'checksum': None}, 'data/en100/text/00000475.txt': {'num_bytes': 1083894, 'checksum': None}, 'data/en100/text/00000476.txt': {'num_bytes': 747486, 'checksum': None}, 'data/en100/text/00000477.txt': {'num_bytes': 834973, 'checksum': None}, 'data/en100/text/00000478.txt': {'num_bytes': 908730, 'checksum': None}, 'data/en100/text/00000479.txt': {'num_bytes': 1047642, 'checksum': None}, 'data/en100/text/00000480.txt': {'num_bytes': 950402, 'checksum': None}, 'data/en100/text/00000481.txt': {'num_bytes': 550638, 'checksum': None}, 'data/en100/text/00000482.txt': {'num_bytes': 797780, 'checksum': None}, 'data/en100/text/00000483.txt': {'num_bytes': 828493, 'checksum': None}, 'data/en100/text/00000484.txt': {'num_bytes': 937009, 'checksum': None}, 'data/en100/text/00000485.txt': {'num_bytes': 929017, 'checksum': None}, 'data/en100/text/00000486.txt': {'num_bytes': 821325, 'checksum': None}, 'data/en100/text/00000487.txt': {'num_bytes': 970819, 'checksum': None}, 'data/en100/text/00000488.txt': {'num_bytes': 804129, 'checksum': None}, 'data/en100/text/00000489.txt': {'num_bytes': 997727, 'checksum': None}, 'data/en100/text/00000490.txt': {'num_bytes': 929775, 'checksum': None}, 'data/en100/text/00000491.txt': {'num_bytes': 818868, 'checksum': None}, 'data/en100/text/00000492.txt': {'num_bytes': 949258, 'checksum': None}, 'data/en100/text/00000493.txt': {'num_bytes': 771431, 'checksum': None}, 'data/en100/text/00000494.txt': {'num_bytes': 1064876, 'checksum': None}, 'data/en100/text/00000495.txt': {'num_bytes': 844406, 'checksum': None}, 'data/en100/text/00000496.txt': {'num_bytes': 901815, 'checksum': None}, 'data/en100/text/00000497.txt': {'num_bytes': 931944, 'checksum': None}, 'data/en100/text/00000498.txt': {'num_bytes': 916440, 'checksum': None}, 'data/en100/text/00000499.txt': {'num_bytes': 894737, 'checksum': None}}, download_size=472841119873, post_processing_size=None, dataset_size=1624574577, size_in_bytes=474465694450)"
      ]
     },
     "execution_count": 27,
     "metadata": {},
     "output_type": "execute_result"
    }
   ],
   "source": [
    "from datasets import load_dataset, Dataset\n",
    "\n",
    "ds = load_dataset('espnet/yodas', 'en100', split=\"train\", cache_dir=\"E:/yodas/datasets\", streaming=True, trust_remote_code=True, num_proc=)\n",
    "# state_dict = iterable_dataset.state_dict()\n",
    "state_dic = {'shard_idx': 0, 'shard_example_idx': 5}\n",
    "\n",
    "# and resume later\n",
    "ds.load_state_dict(state_dic)\n",
    "\n",
    "for i in ds:\n",
    "    dictt = i\n",
    "    print(i)\n",
    "    print(ds.state_dict())\n",
    "    break"
   ]
  },
  {
   "cell_type": "code",
   "execution_count": 2,
   "metadata": {},
   "outputs": [
    {
     "name": "stdout",
     "output_type": "stream",
     "text": [
      "angel\n"
     ]
    }
   ],
   "source": [
    "angel = [0,1,'angel',3,4,5]\n",
    "print(angel[2])"
   ]
  },
  {
   "cell_type": "code",
   "execution_count": 28,
   "metadata": {},
   "outputs": [
    {
     "name": "stdout",
     "output_type": "stream",
     "text": [
      "Dataset({\n",
      "    features: ['id', 'utt_id', 'audio', 'text'],\n",
      "    num_rows: 6637880\n",
      "})\n"
     ]
    }
   ],
   "source": [
    "from datasets import load_dataset, Dataset\n",
    "from numpy import short\n",
    "\n",
    "ds = load_dataset('espnet/yodas', 'en100', split=\"train\", cache_dir=\"E:/yodas/datasets\", streaming=False, trust_remote_code=True)\n",
    "# state_dict = iterable_dataset.state_dict()\n",
    "\n",
    "print(ds)"
   ]
  },
  {
   "cell_type": "code",
   "execution_count": 30,
   "metadata": {},
   "outputs": [
    {
     "name": "stdout",
     "output_type": "stream",
     "text": [
      "['The word music was played', 'Background music', 'Music is powerful', 'Background noise', 'noise is powerful']\n"
     ]
    }
   ],
   "source": [
    "def filter_music_transcriptions(transcriptions):\n",
    "    clean_transcriptions = []\n",
    "    \n",
    "    for transcription in transcriptions:\n",
    "        # Check if \"music\" is the only word detected\n",
    "        if transcription.strip().lower() in [\"music\",'noise','sound']:\n",
    "            continue  # Skip it if it's just noise\n",
    "        \n",
    "        # Otherwise, keep the transcription\n",
    "        clean_transcriptions.append(transcription)\n",
    "    \n",
    "    return clean_transcriptions\n",
    "\n",
    "# Example usage\n",
    "transcriptions = [\n",
    "    \"music\", \n",
    "    \"The word music was played\", \n",
    "    \"Background music\", \n",
    "    \"music\", \n",
    "    \"Music is powerful\",\n",
    "    \"Background noise\", \n",
    "    \"sound\", \n",
    "    \"noise is powerful\"\n",
    "]\n",
    "\n",
    "cleaned_transcriptions = filter_music_transcriptions(transcriptions)\n",
    "print(cleaned_transcriptions)\n"
   ]
  },
  {
   "cell_type": "code",
   "execution_count": 30,
   "metadata": {},
   "outputs": [
    {
     "ename": "NameError",
     "evalue": "name 'API_TOKEN' is not defined",
     "output_type": "error",
     "traceback": [
      "\u001b[1;31m---------------------------------------------------------------------------\u001b[0m",
      "\u001b[1;31mNameError\u001b[0m                                 Traceback (most recent call last)",
      "Cell \u001b[1;32mIn[30], line 2\u001b[0m\n\u001b[0;32m      1\u001b[0m \u001b[38;5;28;01mimport\u001b[39;00m \u001b[38;5;21;01mrequests\u001b[39;00m\n\u001b[1;32m----> 2\u001b[0m headers \u001b[38;5;241m=\u001b[39m {\u001b[38;5;124m\"\u001b[39m\u001b[38;5;124mAuthorization\u001b[39m\u001b[38;5;124m\"\u001b[39m: \u001b[38;5;124mf\u001b[39m\u001b[38;5;124m\"\u001b[39m\u001b[38;5;124mBearer \u001b[39m\u001b[38;5;132;01m{\u001b[39;00m\u001b[43mAPI_TOKEN\u001b[49m\u001b[38;5;132;01m}\u001b[39;00m\u001b[38;5;124m\"\u001b[39m}\n\u001b[0;32m      3\u001b[0m API_URL \u001b[38;5;241m=\u001b[39m \u001b[38;5;124m\"\u001b[39m\u001b[38;5;124mhttps://datasets-server.huggingface.co/size?dataset=espnet/yodas\u001b[39m\u001b[38;5;124m\"\u001b[39m\n\u001b[0;32m      4\u001b[0m \u001b[38;5;28;01mdef\u001b[39;00m \u001b[38;5;21mquery\u001b[39m():\n",
      "\u001b[1;31mNameError\u001b[0m: name 'API_TOKEN' is not defined"
     ]
    }
   ],
   "source": [
    "import requests\n",
    "headers = {\"Authorization\": f\"Bearer {API_TOKEN}\"}\n",
    "API_URL = \"https://datasets-server.huggingface.co/size?dataset=espnet/yodas\"\n",
    "def query():\n",
    "    response = requests.get(API_URL, headers=headers)\n",
    "    return response.json()\n",
    "data = query()"
   ]
  },
  {
   "cell_type": "code",
   "execution_count": 2,
   "metadata": {},
   "outputs": [
    {
     "ename": "NameError",
     "evalue": "name 'itertools' is not defined",
     "output_type": "error",
     "traceback": [
      "\u001b[1;31m---------------------------------------------------------------------------\u001b[0m",
      "\u001b[1;31mNameError\u001b[0m                                 Traceback (most recent call last)",
      "Cell \u001b[1;32mIn[2], line 15\u001b[0m\n\u001b[0;32m     13\u001b[0m gen \u001b[38;5;241m=\u001b[39m (x \u001b[38;5;28;01mfor\u001b[39;00m x \u001b[38;5;129;01min\u001b[39;00m \u001b[38;5;28mrange\u001b[39m(\u001b[38;5;241m10\u001b[39m))\n\u001b[0;32m     14\u001b[0m index \u001b[38;5;241m=\u001b[39m \u001b[38;5;241m5\u001b[39m\n\u001b[1;32m---> 15\u001b[0m \u001b[38;5;28mnext\u001b[39m(\u001b[43mitertools\u001b[49m\u001b[38;5;241m.\u001b[39mislice(gen, index, \u001b[38;5;28;01mNone\u001b[39;00m))\n",
      "\u001b[1;31mNameError\u001b[0m: name 'itertools' is not defined"
     ]
    }
   ],
   "source": [
    "# from datasets import load_dataset, Dataset\n",
    "# from multiprocessing import Pool\n",
    "\n",
    "# def making_transcription():\n",
    "#     print()\n",
    "\n",
    "# ds = load_dataset('espnet/yodas', 'en100', split=\"train\", cache_dir=\"E:/yodas/datasets\", streaming=False, trust_remote_code=True)\n",
    "# # state_dict = iterable_dataset.state_dict()\n",
    "\n",
    "# pool = Pool(4)\n",
    "# pool.map(making_transcription,ds)\n",
    "\n",
    "gen = (x for x in range(10))\n",
    "index = 5\n",
    "next(itertools.islice(gen, index, None))\n"
   ]
  },
  {
   "cell_type": "code",
   "execution_count": 1,
   "metadata": {},
   "outputs": [
    {
     "ename": "TypeError",
     "evalue": "Object of type ndarray is not JSON serializable",
     "output_type": "error",
     "traceback": [
      "\u001b[1;31m---------------------------------------------------------------------------\u001b[0m",
      "\u001b[1;31mTypeError\u001b[0m                                 Traceback (most recent call last)",
      "Cell \u001b[1;32mIn[1], line 7\u001b[0m\n\u001b[0;32m      4\u001b[0m arr \u001b[38;5;241m=\u001b[39m np\u001b[38;5;241m.\u001b[39marray([\u001b[38;5;241m1\u001b[39m, \u001b[38;5;241m2\u001b[39m, \u001b[38;5;241m3\u001b[39m])\n\u001b[0;32m      6\u001b[0m \u001b[38;5;66;03m#TypeError: Object of type ndarray is not JSON serializable\u001b[39;00m\n\u001b[1;32m----> 7\u001b[0m json_str \u001b[38;5;241m=\u001b[39m \u001b[43mjson\u001b[49m\u001b[38;5;241;43m.\u001b[39;49m\u001b[43mdumps\u001b[49m\u001b[43m(\u001b[49m\u001b[43m{\u001b[49m\u001b[38;5;124;43m'\u001b[39;49m\u001b[38;5;124;43mnums\u001b[39;49m\u001b[38;5;124;43m'\u001b[39;49m\u001b[43m:\u001b[49m\u001b[43m \u001b[49m\u001b[43marr\u001b[49m\u001b[43m}\u001b[49m\u001b[43m)\u001b[49m\n",
      "File \u001b[1;32mc:\\Users\\hudso\\miniconda3\\envs\\backend\\lib\\json\\__init__.py:231\u001b[0m, in \u001b[0;36mdumps\u001b[1;34m(obj, skipkeys, ensure_ascii, check_circular, allow_nan, cls, indent, separators, default, sort_keys, **kw)\u001b[0m\n\u001b[0;32m    226\u001b[0m \u001b[38;5;66;03m# cached encoder\u001b[39;00m\n\u001b[0;32m    227\u001b[0m \u001b[38;5;28;01mif\u001b[39;00m (\u001b[38;5;129;01mnot\u001b[39;00m skipkeys \u001b[38;5;129;01mand\u001b[39;00m ensure_ascii \u001b[38;5;129;01mand\u001b[39;00m\n\u001b[0;32m    228\u001b[0m     check_circular \u001b[38;5;129;01mand\u001b[39;00m allow_nan \u001b[38;5;129;01mand\u001b[39;00m\n\u001b[0;32m    229\u001b[0m     \u001b[38;5;28mcls\u001b[39m \u001b[38;5;129;01mis\u001b[39;00m \u001b[38;5;28;01mNone\u001b[39;00m \u001b[38;5;129;01mand\u001b[39;00m indent \u001b[38;5;129;01mis\u001b[39;00m \u001b[38;5;28;01mNone\u001b[39;00m \u001b[38;5;129;01mand\u001b[39;00m separators \u001b[38;5;129;01mis\u001b[39;00m \u001b[38;5;28;01mNone\u001b[39;00m \u001b[38;5;129;01mand\u001b[39;00m\n\u001b[0;32m    230\u001b[0m     default \u001b[38;5;129;01mis\u001b[39;00m \u001b[38;5;28;01mNone\u001b[39;00m \u001b[38;5;129;01mand\u001b[39;00m \u001b[38;5;129;01mnot\u001b[39;00m sort_keys \u001b[38;5;129;01mand\u001b[39;00m \u001b[38;5;129;01mnot\u001b[39;00m kw):\n\u001b[1;32m--> 231\u001b[0m     \u001b[38;5;28;01mreturn\u001b[39;00m \u001b[43m_default_encoder\u001b[49m\u001b[38;5;241;43m.\u001b[39;49m\u001b[43mencode\u001b[49m\u001b[43m(\u001b[49m\u001b[43mobj\u001b[49m\u001b[43m)\u001b[49m\n\u001b[0;32m    232\u001b[0m \u001b[38;5;28;01mif\u001b[39;00m \u001b[38;5;28mcls\u001b[39m \u001b[38;5;129;01mis\u001b[39;00m \u001b[38;5;28;01mNone\u001b[39;00m:\n\u001b[0;32m    233\u001b[0m     \u001b[38;5;28mcls\u001b[39m \u001b[38;5;241m=\u001b[39m JSONEncoder\n",
      "File \u001b[1;32mc:\\Users\\hudso\\miniconda3\\envs\\backend\\lib\\json\\encoder.py:199\u001b[0m, in \u001b[0;36mJSONEncoder.encode\u001b[1;34m(self, o)\u001b[0m\n\u001b[0;32m    195\u001b[0m         \u001b[38;5;28;01mreturn\u001b[39;00m encode_basestring(o)\n\u001b[0;32m    196\u001b[0m \u001b[38;5;66;03m# This doesn't pass the iterator directly to ''.join() because the\u001b[39;00m\n\u001b[0;32m    197\u001b[0m \u001b[38;5;66;03m# exceptions aren't as detailed.  The list call should be roughly\u001b[39;00m\n\u001b[0;32m    198\u001b[0m \u001b[38;5;66;03m# equivalent to the PySequence_Fast that ''.join() would do.\u001b[39;00m\n\u001b[1;32m--> 199\u001b[0m chunks \u001b[38;5;241m=\u001b[39m \u001b[38;5;28;43mself\u001b[39;49m\u001b[38;5;241;43m.\u001b[39;49m\u001b[43miterencode\u001b[49m\u001b[43m(\u001b[49m\u001b[43mo\u001b[49m\u001b[43m,\u001b[49m\u001b[43m \u001b[49m\u001b[43m_one_shot\u001b[49m\u001b[38;5;241;43m=\u001b[39;49m\u001b[38;5;28;43;01mTrue\u001b[39;49;00m\u001b[43m)\u001b[49m\n\u001b[0;32m    200\u001b[0m \u001b[38;5;28;01mif\u001b[39;00m \u001b[38;5;129;01mnot\u001b[39;00m \u001b[38;5;28misinstance\u001b[39m(chunks, (\u001b[38;5;28mlist\u001b[39m, \u001b[38;5;28mtuple\u001b[39m)):\n\u001b[0;32m    201\u001b[0m     chunks \u001b[38;5;241m=\u001b[39m \u001b[38;5;28mlist\u001b[39m(chunks)\n",
      "File \u001b[1;32mc:\\Users\\hudso\\miniconda3\\envs\\backend\\lib\\json\\encoder.py:257\u001b[0m, in \u001b[0;36mJSONEncoder.iterencode\u001b[1;34m(self, o, _one_shot)\u001b[0m\n\u001b[0;32m    252\u001b[0m \u001b[38;5;28;01melse\u001b[39;00m:\n\u001b[0;32m    253\u001b[0m     _iterencode \u001b[38;5;241m=\u001b[39m _make_iterencode(\n\u001b[0;32m    254\u001b[0m         markers, \u001b[38;5;28mself\u001b[39m\u001b[38;5;241m.\u001b[39mdefault, _encoder, \u001b[38;5;28mself\u001b[39m\u001b[38;5;241m.\u001b[39mindent, floatstr,\n\u001b[0;32m    255\u001b[0m         \u001b[38;5;28mself\u001b[39m\u001b[38;5;241m.\u001b[39mkey_separator, \u001b[38;5;28mself\u001b[39m\u001b[38;5;241m.\u001b[39mitem_separator, \u001b[38;5;28mself\u001b[39m\u001b[38;5;241m.\u001b[39msort_keys,\n\u001b[0;32m    256\u001b[0m         \u001b[38;5;28mself\u001b[39m\u001b[38;5;241m.\u001b[39mskipkeys, _one_shot)\n\u001b[1;32m--> 257\u001b[0m \u001b[38;5;28;01mreturn\u001b[39;00m \u001b[43m_iterencode\u001b[49m\u001b[43m(\u001b[49m\u001b[43mo\u001b[49m\u001b[43m,\u001b[49m\u001b[43m \u001b[49m\u001b[38;5;241;43m0\u001b[39;49m\u001b[43m)\u001b[49m\n",
      "File \u001b[1;32mc:\\Users\\hudso\\miniconda3\\envs\\backend\\lib\\json\\encoder.py:179\u001b[0m, in \u001b[0;36mJSONEncoder.default\u001b[1;34m(self, o)\u001b[0m\n\u001b[0;32m    160\u001b[0m \u001b[38;5;28;01mdef\u001b[39;00m \u001b[38;5;21mdefault\u001b[39m(\u001b[38;5;28mself\u001b[39m, o):\n\u001b[0;32m    161\u001b[0m \u001b[38;5;250m    \u001b[39m\u001b[38;5;124;03m\"\"\"Implement this method in a subclass such that it returns\u001b[39;00m\n\u001b[0;32m    162\u001b[0m \u001b[38;5;124;03m    a serializable object for ``o``, or calls the base implementation\u001b[39;00m\n\u001b[0;32m    163\u001b[0m \u001b[38;5;124;03m    (to raise a ``TypeError``).\u001b[39;00m\n\u001b[1;32m   (...)\u001b[0m\n\u001b[0;32m    177\u001b[0m \n\u001b[0;32m    178\u001b[0m \u001b[38;5;124;03m    \"\"\"\u001b[39;00m\n\u001b[1;32m--> 179\u001b[0m     \u001b[38;5;28;01mraise\u001b[39;00m \u001b[38;5;167;01mTypeError\u001b[39;00m(\u001b[38;5;124mf\u001b[39m\u001b[38;5;124m'\u001b[39m\u001b[38;5;124mObject of type \u001b[39m\u001b[38;5;132;01m{\u001b[39;00mo\u001b[38;5;241m.\u001b[39m\u001b[38;5;18m__class__\u001b[39m\u001b[38;5;241m.\u001b[39m\u001b[38;5;18m__name__\u001b[39m\u001b[38;5;132;01m}\u001b[39;00m\u001b[38;5;124m \u001b[39m\u001b[38;5;124m'\u001b[39m\n\u001b[0;32m    180\u001b[0m                     \u001b[38;5;124mf\u001b[39m\u001b[38;5;124m'\u001b[39m\u001b[38;5;124mis not JSON serializable\u001b[39m\u001b[38;5;124m'\u001b[39m)\n",
      "\u001b[1;31mTypeError\u001b[0m: Object of type ndarray is not JSON serializable"
     ]
    }
   ],
   "source": [
    "import json\n",
    "import numpy as np\n",
    " \n",
    "arr = np.array([1, 2, 3])\n",
    " \n",
    "#TypeError: Object of type ndarray is not JSON serializable\n",
    "json_str = json.dumps({'nums': arr})"
   ]
  },
  {
   "cell_type": "code",
   "execution_count": 135,
   "metadata": {},
   "outputs": [
    {
     "name": "stdout",
     "output_type": "stream",
     "text": [
      "{'id': '11976', 'utt_id': 'SLP0vkES_rY-00000-00000000-00000250', 'text': '[Música]', 'audio': {'path': None, 'array': array([0.        , 0.        , 0.        , ..., 0.12814331, 0.11999512,\n",
      "       0.06689453]), 'sampling_rate': 16000}}\n",
      "{'id': '11976', 'utt_id': 'SLP0vkES_rY-00000-00000000-00000250', 'text': '[Música]', 'audio': {'path': None, 'array': array([0.        , 0.        , 0.        , ..., 0.12814331, 0.11999512,\n",
      "       0.06689453]), 'sampling_rate': 16000}}\n",
      "{'id': '11976', 'utt_id': 'SLP0vkES_rY-00000-00000000-00000250', 'text': '[Música]', 'audio': {'path': None, 'array': array([0.        , 0.        , 0.        , ..., 0.12814331, 0.11999512,\n",
      "       0.06689453]), 'sampling_rate': 16000}}\n",
      "{'id': '11976', 'utt_id': 'SLP0vkES_rY-00000-00000000-00000250', 'text': '[Música]', 'audio': {'path': None, 'array': array([0.        , 0.        , 0.        , ..., 0.12814331, 0.11999512,\n",
      "       0.06689453]), 'sampling_rate': 16000}}\n"
     ]
    }
   ],
   "source": [
    "import pickle\n",
    "with open('data.pkl', 'rb') as file:\n",
    "    loaded_data = pickle.load(file)\n",
    "\n",
    "for i in loaded_data:\n",
    "    print(loaded_data)"
   ]
  },
  {
   "cell_type": "code",
   "execution_count": 8,
   "metadata": {},
   "outputs": [
    {
     "name": "stdout",
     "output_type": "stream",
     "text": [
      "<class 'datasets.iterable_dataset.IterableDataset'>\n"
     ]
    }
   ],
   "source": [
    "filtered_dataset = ds.filter(lambda x: x[\"utt_id\"] in ['Y4IaKXIH-mQ-00001-00000447-00000722', '2Jqpurd1YXI-00668-00192813-00192968',\n",
    "'7tboNglgYFY-00219-00058133-00058391','aCDXTce1RfQ-00052-00015276-00015725','c0gnS00j-Ly-00275-00062200-00062415','gvAEYO2L7Bu-00006-00002093-00002351',\n",
    "'nXDaKT7_wAQ-00072-00018063-00018413','rD6HsJmrA0E-00170-00033703-00033831'])\n",
    "# print(type(filtered_dataset))\n",
    "\n",
    "filtered_dataset2 = ds.filter(lambda x: x[\"id\"] in ['13422'])\n",
    "print(type(filtered_dataset2))"
   ]
  },
  {
   "cell_type": "code",
   "execution_count": 137,
   "metadata": {},
   "outputs": [
    {
     "ename": "ModuleNotFoundError",
     "evalue": "No module named 'cPickle'",
     "output_type": "error",
     "traceback": [
      "\u001b[1;31m---------------------------------------------------------------------------\u001b[0m",
      "\u001b[1;31mModuleNotFoundError\u001b[0m                       Traceback (most recent call last)",
      "Cell \u001b[1;32mIn[137], line 1\u001b[0m\n\u001b[1;32m----> 1\u001b[0m \u001b[38;5;28;01mimport\u001b[39;00m \u001b[38;5;21;01mcPickle\u001b[39;00m \u001b[38;5;28;01mas\u001b[39;00m \u001b[38;5;21;01mpkl\u001b[39;00m\n\u001b[0;32m      3\u001b[0m MyFirstDict \u001b[38;5;241m=\u001b[39m { \u001b[38;5;124m\"\u001b[39m\u001b[38;5;124mhat\u001b[39m\u001b[38;5;124m\"\u001b[39m: \u001b[38;5;241m7\u001b[39m, \u001b[38;5;124m\"\u001b[39m\u001b[38;5;124mcarpet\u001b[39m\u001b[38;5;124m\"\u001b[39m: \u001b[38;5;241m5\u001b[39m }\n\u001b[0;32m      4\u001b[0m MySecondDict \u001b[38;5;241m=\u001b[39m { \u001b[38;5;124m\"\u001b[39m\u001b[38;5;124msyrup\u001b[39m\u001b[38;5;124m\"\u001b[39m:\u001b[38;5;241m15\u001b[39m, \u001b[38;5;124m\"\u001b[39m\u001b[38;5;124myogurt\u001b[39m\u001b[38;5;124m\"\u001b[39m: \u001b[38;5;241m18\u001b[39m }\n",
      "\u001b[1;31mModuleNotFoundError\u001b[0m: No module named 'cPickle'"
     ]
    }
   ],
   "source": [
    "import cPickle as pkl\n",
    "\n",
    "MyFirstDict = { \"hat\": 7, \"carpet\": 5 }\n",
    "MySecondDict = { \"syrup\":15, \"yogurt\": 18 }\n",
    "\n",
    "MyDicts = [MyFirstDict, MySecondDict]\n",
    "\n",
    "pkl.dump( MyDicts, open( \"myDicts.p\", \"wb\" ) )"
   ]
  },
  {
   "cell_type": "code",
   "execution_count": 142,
   "metadata": {},
   "outputs": [
    {
     "name": "stdout",
     "output_type": "stream",
     "text": [
      "c:\\Users\\hudso\\Downloads\\HudsonAI\n"
     ]
    }
   ],
   "source": [
    "import os\n",
    "dir = os.getcwd()\n",
    "print(dir)"
   ]
  },
  {
   "cell_type": "code",
   "execution_count": 11,
   "metadata": {},
   "outputs": [
    {
     "name": "stdout",
     "output_type": "stream",
     "text": [
      "{'id': '13422', 'utt_id': 'Y4IaKXIH-mQ-00001-00000447-00000722', 'audio': {'path': None, 'array': array([ 0.01132202, -0.00115967, -0.0111084 , ...,  0.00500488,\n",
      "        0.00457764,  0.00402832]), 'sampling_rate': 16000}, 'text': 'was the program responsible for'}\n",
      "{'id': '13422', 'utt_id': '2Jqpurd1YXI-00668-00192813-00192968', 'audio': {'path': None, 'array': array([0.06710815, 0.06478882, 0.06219482, ..., 0.05206299, 0.10543823,\n",
      "       0.15267944]), 'sampling_rate': 16000}, 'text': 'leading role due to their small'}\n",
      "{'id': '13422', 'utt_id': '7tboNglgYFY-00219-00058133-00058391', 'audio': {'path': None, 'array': array([ 0.00167847,  0.00189209,  0.00289917, ...,  0.00411987,\n",
      "       -0.01300049, -0.00531006]), 'sampling_rate': 16000}, 'text': 'so when FES 2 is dissociating what we'}\n"
     ]
    },
    {
     "ename": "KeyboardInterrupt",
     "evalue": "",
     "output_type": "error",
     "traceback": [
      "\u001b[1;31m---------------------------------------------------------------------------\u001b[0m",
      "\u001b[1;31mKeyboardInterrupt\u001b[0m                         Traceback (most recent call last)",
      "Cell \u001b[1;32mIn[11], line 1\u001b[0m\n\u001b[1;32m----> 1\u001b[0m \u001b[38;5;28;01mfor\u001b[39;00m i \u001b[38;5;129;01min\u001b[39;00m filtered_dataset:\n\u001b[0;32m      2\u001b[0m     \u001b[38;5;28mprint\u001b[39m(i)\n",
      "File \u001b[1;32mc:\\Users\\hudso\\miniconda3\\envs\\backend\\lib\\site-packages\\datasets\\iterable_dataset.py:1816\u001b[0m, in \u001b[0;36mIterableDataset.__iter__\u001b[1;34m(self)\u001b[0m\n\u001b[0;32m   1813\u001b[0m         \u001b[38;5;28;01myield\u001b[39;00m formatter\u001b[38;5;241m.\u001b[39mformat_row(pa_table)\n\u001b[0;32m   1814\u001b[0m     \u001b[38;5;28;01mreturn\u001b[39;00m\n\u001b[1;32m-> 1816\u001b[0m \u001b[38;5;28;01mfor\u001b[39;00m key, example \u001b[38;5;129;01min\u001b[39;00m ex_iterable:\n\u001b[0;32m   1817\u001b[0m     \u001b[38;5;28;01mif\u001b[39;00m \u001b[38;5;28mself\u001b[39m\u001b[38;5;241m.\u001b[39mfeatures:\n\u001b[0;32m   1818\u001b[0m         \u001b[38;5;66;03m# `IterableDataset` automatically fills missing columns with None.\u001b[39;00m\n\u001b[0;32m   1819\u001b[0m         \u001b[38;5;66;03m# This is done with `_apply_feature_types_on_example`.\u001b[39;00m\n\u001b[0;32m   1820\u001b[0m         example \u001b[38;5;241m=\u001b[39m _apply_feature_types_on_example(\n\u001b[0;32m   1821\u001b[0m             example, \u001b[38;5;28mself\u001b[39m\u001b[38;5;241m.\u001b[39mfeatures, token_per_repo_id\u001b[38;5;241m=\u001b[39m\u001b[38;5;28mself\u001b[39m\u001b[38;5;241m.\u001b[39m_token_per_repo_id\n\u001b[0;32m   1822\u001b[0m         )\n",
      "File \u001b[1;32mc:\\Users\\hudso\\miniconda3\\envs\\backend\\lib\\site-packages\\datasets\\iterable_dataset.py:1103\u001b[0m, in \u001b[0;36mFilteredExamplesIterable.__iter__\u001b[1;34m(self)\u001b[0m\n\u001b[0;32m   1101\u001b[0m     \u001b[38;5;28;01myield from\u001b[39;00m ArrowExamplesIterable(\u001b[38;5;28mself\u001b[39m\u001b[38;5;241m.\u001b[39m_iter_arrow, {})\n\u001b[0;32m   1102\u001b[0m \u001b[38;5;28;01melse\u001b[39;00m:\n\u001b[1;32m-> 1103\u001b[0m     \u001b[38;5;28;01myield from\u001b[39;00m \u001b[38;5;28mself\u001b[39m\u001b[38;5;241m.\u001b[39m_iter()\n",
      "File \u001b[1;32mc:\\Users\\hudso\\miniconda3\\envs\\backend\\lib\\site-packages\\datasets\\iterable_dataset.py:1159\u001b[0m, in \u001b[0;36mFilteredExamplesIterable._iter\u001b[1;34m(self)\u001b[0m\n\u001b[0;32m   1157\u001b[0m             \u001b[38;5;28mself\u001b[39m\u001b[38;5;241m.\u001b[39m_state_dict[\u001b[38;5;124m\"\u001b[39m\u001b[38;5;124mprevious_state_example_idx\u001b[39m\u001b[38;5;124m\"\u001b[39m] \u001b[38;5;241m=\u001b[39m current_idx\n\u001b[0;32m   1158\u001b[0m \u001b[38;5;28;01melse\u001b[39;00m:\n\u001b[1;32m-> 1159\u001b[0m     \u001b[38;5;28;01mfor\u001b[39;00m key, example \u001b[38;5;129;01min\u001b[39;00m iterator:\n\u001b[0;32m   1160\u001b[0m         \u001b[38;5;66;03m# If not batched, we can apply the filtering function direcly\u001b[39;00m\n\u001b[0;32m   1161\u001b[0m         example \u001b[38;5;241m=\u001b[39m \u001b[38;5;28mdict\u001b[39m(example)\n\u001b[0;32m   1162\u001b[0m         inputs \u001b[38;5;241m=\u001b[39m format_dict(example) \u001b[38;5;28;01mif\u001b[39;00m format_dict \u001b[38;5;28;01melse\u001b[39;00m example\n",
      "File \u001b[1;32mc:\\Users\\hudso\\miniconda3\\envs\\backend\\lib\\site-packages\\datasets\\iterable_dataset.py:1433\u001b[0m, in \u001b[0;36mTypedExamplesIterable.__iter__\u001b[1;34m(self)\u001b[0m\n\u001b[0;32m   1430\u001b[0m \u001b[38;5;28;01mdef\u001b[39;00m \u001b[38;5;21m__iter__\u001b[39m(\u001b[38;5;28mself\u001b[39m):\n\u001b[0;32m   1431\u001b[0m     \u001b[38;5;66;03m# Then for each example, `TypedExamplesIterable` automatically fills missing columns with None.\u001b[39;00m\n\u001b[0;32m   1432\u001b[0m     \u001b[38;5;66;03m# This is done with `_apply_feature_types_on_example`.\u001b[39;00m\n\u001b[1;32m-> 1433\u001b[0m     \u001b[38;5;28;01mfor\u001b[39;00m key, example \u001b[38;5;129;01min\u001b[39;00m \u001b[38;5;28mself\u001b[39m\u001b[38;5;241m.\u001b[39mex_iterable:\n\u001b[0;32m   1434\u001b[0m         \u001b[38;5;28;01myield\u001b[39;00m (\n\u001b[0;32m   1435\u001b[0m             key,\n\u001b[0;32m   1436\u001b[0m             _apply_feature_types_on_example(example, \u001b[38;5;28mself\u001b[39m\u001b[38;5;241m.\u001b[39mfeatures, token_per_repo_id\u001b[38;5;241m=\u001b[39m\u001b[38;5;28mself\u001b[39m\u001b[38;5;241m.\u001b[39mtoken_per_repo_id),\n\u001b[0;32m   1437\u001b[0m         )\n",
      "File \u001b[1;32mc:\\Users\\hudso\\miniconda3\\envs\\backend\\lib\\site-packages\\datasets\\iterable_dataset.py:238\u001b[0m, in \u001b[0;36mExamplesIterable.__iter__\u001b[1;34m(self)\u001b[0m\n\u001b[0;32m    236\u001b[0m \u001b[38;5;28;01mfor\u001b[39;00m gen_kwags \u001b[38;5;129;01min\u001b[39;00m islice(_split_gen_kwargs(\u001b[38;5;28mself\u001b[39m\u001b[38;5;241m.\u001b[39mkwargs, max_num_jobs\u001b[38;5;241m=\u001b[39m\u001b[38;5;28mself\u001b[39m\u001b[38;5;241m.\u001b[39mn_shards), shard_idx_start, \u001b[38;5;28;01mNone\u001b[39;00m):\n\u001b[0;32m    237\u001b[0m     shard_example_idx_start \u001b[38;5;241m=\u001b[39m \u001b[38;5;28mself\u001b[39m\u001b[38;5;241m.\u001b[39m_state_dict[\u001b[38;5;124m\"\u001b[39m\u001b[38;5;124mshard_example_idx\u001b[39m\u001b[38;5;124m\"\u001b[39m] \u001b[38;5;28;01mif\u001b[39;00m \u001b[38;5;28mself\u001b[39m\u001b[38;5;241m.\u001b[39m_state_dict \u001b[38;5;28;01melse\u001b[39;00m \u001b[38;5;241m0\u001b[39m\n\u001b[1;32m--> 238\u001b[0m     \u001b[38;5;28;01mfor\u001b[39;00m key_example \u001b[38;5;129;01min\u001b[39;00m islice(\u001b[38;5;28mself\u001b[39m\u001b[38;5;241m.\u001b[39mgenerate_examples_fn(\u001b[38;5;241m*\u001b[39m\u001b[38;5;241m*\u001b[39mgen_kwags), shard_example_idx_start, \u001b[38;5;28;01mNone\u001b[39;00m):\n\u001b[0;32m    239\u001b[0m         \u001b[38;5;28;01mif\u001b[39;00m \u001b[38;5;28mself\u001b[39m\u001b[38;5;241m.\u001b[39m_state_dict:\n\u001b[0;32m    240\u001b[0m             \u001b[38;5;28mself\u001b[39m\u001b[38;5;241m.\u001b[39m_state_dict[\u001b[38;5;124m\"\u001b[39m\u001b[38;5;124mshard_example_idx\u001b[39m\u001b[38;5;124m\"\u001b[39m] \u001b[38;5;241m+\u001b[39m\u001b[38;5;241m=\u001b[39m \u001b[38;5;241m1\u001b[39m\n",
      "File \u001b[1;32m~\\.cache\\huggingface\\modules\\datasets_modules\\datasets\\espnet--yodas\\3e817d4d05cb9d178f6e01b4c696ac7fdfd9aed85e66b0d6d1888efc661a0f3f\\yodas.py:120\u001b[0m, in \u001b[0;36mYodas._generate_examples\u001b[1;34m(self, is_streaming, audio_archives, text_archives)\u001b[0m\n\u001b[0;32m    113\u001b[0m utt_id \u001b[38;5;241m=\u001b[39m path\u001b[38;5;241m.\u001b[39mstem\n\u001b[0;32m    115\u001b[0m \u001b[38;5;28;01mif\u001b[39;00m utt_id \u001b[38;5;129;01min\u001b[39;00m utt2text:\n\u001b[0;32m    117\u001b[0m     result \u001b[38;5;241m=\u001b[39m {\n\u001b[0;32m    118\u001b[0m         \u001b[38;5;124m'\u001b[39m\u001b[38;5;124mid\u001b[39m\u001b[38;5;124m'\u001b[39m: id_,\n\u001b[0;32m    119\u001b[0m         \u001b[38;5;124m'\u001b[39m\u001b[38;5;124mutt_id\u001b[39m\u001b[38;5;124m'\u001b[39m: utt_id,\n\u001b[1;32m--> 120\u001b[0m         \u001b[38;5;124m'\u001b[39m\u001b[38;5;124maudio\u001b[39m\u001b[38;5;124m'\u001b[39m: {\u001b[38;5;124m\"\u001b[39m\u001b[38;5;124mpath\u001b[39m\u001b[38;5;124m\"\u001b[39m: \u001b[38;5;28;01mNone\u001b[39;00m, \u001b[38;5;124m\"\u001b[39m\u001b[38;5;124mbytes\u001b[39m\u001b[38;5;124m\"\u001b[39m: \u001b[43maudio_f\u001b[49m\u001b[38;5;241;43m.\u001b[39;49m\u001b[43mread\u001b[49m\u001b[43m(\u001b[49m\u001b[43m)\u001b[49m},\n\u001b[0;32m    121\u001b[0m         \u001b[38;5;124m'\u001b[39m\u001b[38;5;124mtext\u001b[39m\u001b[38;5;124m'\u001b[39m: utt2text[utt_id]\n\u001b[0;32m    122\u001b[0m     }\n\u001b[0;32m    124\u001b[0m     \u001b[38;5;28;01myield\u001b[39;00m id_, result\n\u001b[0;32m    125\u001b[0m     id_ \u001b[38;5;241m+\u001b[39m\u001b[38;5;241m=\u001b[39m \u001b[38;5;241m1\u001b[39m\n",
      "File \u001b[1;32mc:\\Users\\hudso\\miniconda3\\envs\\backend\\lib\\tarfile.py:689\u001b[0m, in \u001b[0;36m_FileInFile.read\u001b[1;34m(self, size)\u001b[0m\n\u001b[0;32m    687\u001b[0m \u001b[38;5;28;01mif\u001b[39;00m data:\n\u001b[0;32m    688\u001b[0m     \u001b[38;5;28mself\u001b[39m\u001b[38;5;241m.\u001b[39mfileobj\u001b[38;5;241m.\u001b[39mseek(offset \u001b[38;5;241m+\u001b[39m (\u001b[38;5;28mself\u001b[39m\u001b[38;5;241m.\u001b[39mposition \u001b[38;5;241m-\u001b[39m start))\n\u001b[1;32m--> 689\u001b[0m     b \u001b[38;5;241m=\u001b[39m \u001b[38;5;28;43mself\u001b[39;49m\u001b[38;5;241;43m.\u001b[39;49m\u001b[43mfileobj\u001b[49m\u001b[38;5;241;43m.\u001b[39;49m\u001b[43mread\u001b[49m\u001b[43m(\u001b[49m\u001b[43mlength\u001b[49m\u001b[43m)\u001b[49m\n\u001b[0;32m    690\u001b[0m     \u001b[38;5;28;01mif\u001b[39;00m \u001b[38;5;28mlen\u001b[39m(b) \u001b[38;5;241m!=\u001b[39m length:\n\u001b[0;32m    691\u001b[0m         \u001b[38;5;28;01mraise\u001b[39;00m ReadError(\u001b[38;5;124m\"\u001b[39m\u001b[38;5;124munexpected end of data\u001b[39m\u001b[38;5;124m\"\u001b[39m)\n",
      "File \u001b[1;32mc:\\Users\\hudso\\miniconda3\\envs\\backend\\lib\\tarfile.py:526\u001b[0m, in \u001b[0;36m_Stream.read\u001b[1;34m(self, size)\u001b[0m\n\u001b[0;32m    524\u001b[0m \u001b[38;5;250m\u001b[39m\u001b[38;5;124;03m\"\"\"Return the next size number of bytes from the stream.\"\"\"\u001b[39;00m\n\u001b[0;32m    525\u001b[0m \u001b[38;5;28;01massert\u001b[39;00m size \u001b[38;5;129;01mis\u001b[39;00m \u001b[38;5;129;01mnot\u001b[39;00m \u001b[38;5;28;01mNone\u001b[39;00m\n\u001b[1;32m--> 526\u001b[0m buf \u001b[38;5;241m=\u001b[39m \u001b[38;5;28;43mself\u001b[39;49m\u001b[38;5;241;43m.\u001b[39;49m\u001b[43m_read\u001b[49m\u001b[43m(\u001b[49m\u001b[43msize\u001b[49m\u001b[43m)\u001b[49m\n\u001b[0;32m    527\u001b[0m \u001b[38;5;28mself\u001b[39m\u001b[38;5;241m.\u001b[39mpos \u001b[38;5;241m+\u001b[39m\u001b[38;5;241m=\u001b[39m \u001b[38;5;28mlen\u001b[39m(buf)\n\u001b[0;32m    528\u001b[0m \u001b[38;5;28;01mreturn\u001b[39;00m buf\n",
      "File \u001b[1;32mc:\\Users\\hudso\\miniconda3\\envs\\backend\\lib\\tarfile.py:544\u001b[0m, in \u001b[0;36m_Stream._read\u001b[1;34m(self, size)\u001b[0m\n\u001b[0;32m    542\u001b[0m     \u001b[38;5;28mself\u001b[39m\u001b[38;5;241m.\u001b[39mbuf \u001b[38;5;241m=\u001b[39m \u001b[38;5;124mb\u001b[39m\u001b[38;5;124m\"\u001b[39m\u001b[38;5;124m\"\u001b[39m\n\u001b[0;32m    543\u001b[0m \u001b[38;5;28;01melse\u001b[39;00m:\n\u001b[1;32m--> 544\u001b[0m     buf \u001b[38;5;241m=\u001b[39m \u001b[38;5;28;43mself\u001b[39;49m\u001b[38;5;241;43m.\u001b[39;49m\u001b[43mfileobj\u001b[49m\u001b[38;5;241;43m.\u001b[39;49m\u001b[43mread\u001b[49m\u001b[43m(\u001b[49m\u001b[38;5;28;43mself\u001b[39;49m\u001b[38;5;241;43m.\u001b[39;49m\u001b[43mbufsize\u001b[49m\u001b[43m)\u001b[49m\n\u001b[0;32m    545\u001b[0m     \u001b[38;5;28;01mif\u001b[39;00m \u001b[38;5;129;01mnot\u001b[39;00m buf:\n\u001b[0;32m    546\u001b[0m         \u001b[38;5;28;01mbreak\u001b[39;00m\n",
      "File \u001b[1;32mc:\\Users\\hudso\\miniconda3\\envs\\backend\\lib\\site-packages\\datasets\\utils\\file_utils.py:1104\u001b[0m, in \u001b[0;36m_add_retries_to_file_obj_read_method.<locals>.read_with_retries\u001b[1;34m(*args, **kwargs)\u001b[0m\n\u001b[0;32m   1102\u001b[0m \u001b[38;5;28;01mfor\u001b[39;00m retry \u001b[38;5;129;01min\u001b[39;00m \u001b[38;5;28mrange\u001b[39m(\u001b[38;5;241m1\u001b[39m, max_retries \u001b[38;5;241m+\u001b[39m \u001b[38;5;241m1\u001b[39m):\n\u001b[0;32m   1103\u001b[0m     \u001b[38;5;28;01mtry\u001b[39;00m:\n\u001b[1;32m-> 1104\u001b[0m         out \u001b[38;5;241m=\u001b[39m read(\u001b[38;5;241m*\u001b[39margs, \u001b[38;5;241m*\u001b[39m\u001b[38;5;241m*\u001b[39mkwargs)\n\u001b[0;32m   1105\u001b[0m         \u001b[38;5;28;01mbreak\u001b[39;00m\n\u001b[0;32m   1106\u001b[0m     \u001b[38;5;28;01mexcept\u001b[39;00m (ClientError, \u001b[38;5;167;01mTimeoutError\u001b[39;00m) \u001b[38;5;28;01mas\u001b[39;00m err:\n",
      "File \u001b[1;32mc:\\Users\\hudso\\miniconda3\\envs\\backend\\lib\\site-packages\\huggingface_hub\\hf_file_system.py:755\u001b[0m, in \u001b[0;36mHfFileSystemFile.read\u001b[1;34m(self, length)\u001b[0m\n\u001b[0;32m    753\u001b[0m     \u001b[38;5;28;01mwith\u001b[39;00m \u001b[38;5;28mself\u001b[39m\u001b[38;5;241m.\u001b[39mfs\u001b[38;5;241m.\u001b[39mopen(\u001b[38;5;28mself\u001b[39m\u001b[38;5;241m.\u001b[39mpath, \u001b[38;5;124m\"\u001b[39m\u001b[38;5;124mrb\u001b[39m\u001b[38;5;124m\"\u001b[39m, block_size\u001b[38;5;241m=\u001b[39m\u001b[38;5;241m0\u001b[39m) \u001b[38;5;28;01mas\u001b[39;00m f:  \u001b[38;5;66;03m# block_size=0 enables fast streaming\u001b[39;00m\n\u001b[0;32m    754\u001b[0m         \u001b[38;5;28;01mreturn\u001b[39;00m f\u001b[38;5;241m.\u001b[39mread()\n\u001b[1;32m--> 755\u001b[0m \u001b[38;5;28;01mreturn\u001b[39;00m \u001b[38;5;28;43msuper\u001b[39;49m\u001b[43m(\u001b[49m\u001b[43m)\u001b[49m\u001b[38;5;241;43m.\u001b[39;49m\u001b[43mread\u001b[49m\u001b[43m(\u001b[49m\u001b[43mlength\u001b[49m\u001b[43m)\u001b[49m\n",
      "File \u001b[1;32mc:\\Users\\hudso\\miniconda3\\envs\\backend\\lib\\site-packages\\fsspec\\spec.py:1844\u001b[0m, in \u001b[0;36mAbstractBufferedFile.read\u001b[1;34m(self, length)\u001b[0m\n\u001b[0;32m   1841\u001b[0m \u001b[38;5;28;01mif\u001b[39;00m length \u001b[38;5;241m==\u001b[39m \u001b[38;5;241m0\u001b[39m:\n\u001b[0;32m   1842\u001b[0m     \u001b[38;5;66;03m# don't even bother calling fetch\u001b[39;00m\n\u001b[0;32m   1843\u001b[0m     \u001b[38;5;28;01mreturn\u001b[39;00m \u001b[38;5;124mb\u001b[39m\u001b[38;5;124m\"\u001b[39m\u001b[38;5;124m\"\u001b[39m\n\u001b[1;32m-> 1844\u001b[0m out \u001b[38;5;241m=\u001b[39m \u001b[38;5;28;43mself\u001b[39;49m\u001b[38;5;241;43m.\u001b[39;49m\u001b[43mcache\u001b[49m\u001b[38;5;241;43m.\u001b[39;49m\u001b[43m_fetch\u001b[49m\u001b[43m(\u001b[49m\u001b[38;5;28;43mself\u001b[39;49m\u001b[38;5;241;43m.\u001b[39;49m\u001b[43mloc\u001b[49m\u001b[43m,\u001b[49m\u001b[43m \u001b[49m\u001b[38;5;28;43mself\u001b[39;49m\u001b[38;5;241;43m.\u001b[39;49m\u001b[43mloc\u001b[49m\u001b[43m \u001b[49m\u001b[38;5;241;43m+\u001b[39;49m\u001b[43m \u001b[49m\u001b[43mlength\u001b[49m\u001b[43m)\u001b[49m\n\u001b[0;32m   1845\u001b[0m \u001b[38;5;28mself\u001b[39m\u001b[38;5;241m.\u001b[39mloc \u001b[38;5;241m+\u001b[39m\u001b[38;5;241m=\u001b[39m \u001b[38;5;28mlen\u001b[39m(out)\n\u001b[0;32m   1846\u001b[0m \u001b[38;5;28;01mreturn\u001b[39;00m out\n",
      "File \u001b[1;32mc:\\Users\\hudso\\miniconda3\\envs\\backend\\lib\\site-packages\\fsspec\\caching.py:189\u001b[0m, in \u001b[0;36mReadAheadCache._fetch\u001b[1;34m(self, start, end)\u001b[0m\n\u001b[0;32m    187\u001b[0m     part \u001b[38;5;241m=\u001b[39m \u001b[38;5;124mb\u001b[39m\u001b[38;5;124m\"\u001b[39m\u001b[38;5;124m\"\u001b[39m\n\u001b[0;32m    188\u001b[0m end \u001b[38;5;241m=\u001b[39m \u001b[38;5;28mmin\u001b[39m(\u001b[38;5;28mself\u001b[39m\u001b[38;5;241m.\u001b[39msize, end \u001b[38;5;241m+\u001b[39m \u001b[38;5;28mself\u001b[39m\u001b[38;5;241m.\u001b[39mblocksize)\n\u001b[1;32m--> 189\u001b[0m \u001b[38;5;28mself\u001b[39m\u001b[38;5;241m.\u001b[39mcache \u001b[38;5;241m=\u001b[39m \u001b[38;5;28;43mself\u001b[39;49m\u001b[38;5;241;43m.\u001b[39;49m\u001b[43mfetcher\u001b[49m\u001b[43m(\u001b[49m\u001b[43mstart\u001b[49m\u001b[43m,\u001b[49m\u001b[43m \u001b[49m\u001b[43mend\u001b[49m\u001b[43m)\u001b[49m  \u001b[38;5;66;03m# new block replaces old\u001b[39;00m\n\u001b[0;32m    190\u001b[0m \u001b[38;5;28mself\u001b[39m\u001b[38;5;241m.\u001b[39mstart \u001b[38;5;241m=\u001b[39m start\n\u001b[0;32m    191\u001b[0m \u001b[38;5;28mself\u001b[39m\u001b[38;5;241m.\u001b[39mend \u001b[38;5;241m=\u001b[39m \u001b[38;5;28mself\u001b[39m\u001b[38;5;241m.\u001b[39mstart \u001b[38;5;241m+\u001b[39m \u001b[38;5;28mlen\u001b[39m(\u001b[38;5;28mself\u001b[39m\u001b[38;5;241m.\u001b[39mcache)\n",
      "File \u001b[1;32mc:\\Users\\hudso\\miniconda3\\envs\\backend\\lib\\site-packages\\huggingface_hub\\hf_file_system.py:711\u001b[0m, in \u001b[0;36mHfFileSystemFile._fetch_range\u001b[1;34m(self, start, end)\u001b[0m\n\u001b[0;32m    700\u001b[0m headers \u001b[38;5;241m=\u001b[39m {\n\u001b[0;32m    701\u001b[0m     \u001b[38;5;124m\"\u001b[39m\u001b[38;5;124mrange\u001b[39m\u001b[38;5;124m\"\u001b[39m: \u001b[38;5;124mf\u001b[39m\u001b[38;5;124m\"\u001b[39m\u001b[38;5;124mbytes=\u001b[39m\u001b[38;5;132;01m{\u001b[39;00mstart\u001b[38;5;132;01m}\u001b[39;00m\u001b[38;5;124m-\u001b[39m\u001b[38;5;132;01m{\u001b[39;00mend\u001b[38;5;250m \u001b[39m\u001b[38;5;241m-\u001b[39m\u001b[38;5;250m \u001b[39m\u001b[38;5;241m1\u001b[39m\u001b[38;5;132;01m}\u001b[39;00m\u001b[38;5;124m\"\u001b[39m,\n\u001b[0;32m    702\u001b[0m     \u001b[38;5;241m*\u001b[39m\u001b[38;5;241m*\u001b[39m\u001b[38;5;28mself\u001b[39m\u001b[38;5;241m.\u001b[39mfs\u001b[38;5;241m.\u001b[39m_api\u001b[38;5;241m.\u001b[39m_build_hf_headers(),\n\u001b[0;32m    703\u001b[0m }\n\u001b[0;32m    704\u001b[0m url \u001b[38;5;241m=\u001b[39m hf_hub_url(\n\u001b[0;32m    705\u001b[0m     repo_id\u001b[38;5;241m=\u001b[39m\u001b[38;5;28mself\u001b[39m\u001b[38;5;241m.\u001b[39mresolved_path\u001b[38;5;241m.\u001b[39mrepo_id,\n\u001b[0;32m    706\u001b[0m     revision\u001b[38;5;241m=\u001b[39m\u001b[38;5;28mself\u001b[39m\u001b[38;5;241m.\u001b[39mresolved_path\u001b[38;5;241m.\u001b[39mrevision,\n\u001b[1;32m   (...)\u001b[0m\n\u001b[0;32m    709\u001b[0m     endpoint\u001b[38;5;241m=\u001b[39m\u001b[38;5;28mself\u001b[39m\u001b[38;5;241m.\u001b[39mfs\u001b[38;5;241m.\u001b[39mendpoint,\n\u001b[0;32m    710\u001b[0m )\n\u001b[1;32m--> 711\u001b[0m r \u001b[38;5;241m=\u001b[39m \u001b[43mhttp_backoff\u001b[49m\u001b[43m(\u001b[49m\n\u001b[0;32m    712\u001b[0m \u001b[43m    \u001b[49m\u001b[38;5;124;43m\"\u001b[39;49m\u001b[38;5;124;43mGET\u001b[39;49m\u001b[38;5;124;43m\"\u001b[39;49m\u001b[43m,\u001b[49m\n\u001b[0;32m    713\u001b[0m \u001b[43m    \u001b[49m\u001b[43murl\u001b[49m\u001b[43m,\u001b[49m\n\u001b[0;32m    714\u001b[0m \u001b[43m    \u001b[49m\u001b[43mheaders\u001b[49m\u001b[38;5;241;43m=\u001b[39;49m\u001b[43mheaders\u001b[49m\u001b[43m,\u001b[49m\n\u001b[0;32m    715\u001b[0m \u001b[43m    \u001b[49m\u001b[43mretry_on_status_codes\u001b[49m\u001b[38;5;241;43m=\u001b[39;49m\u001b[43m(\u001b[49m\u001b[38;5;241;43m502\u001b[39;49m\u001b[43m,\u001b[49m\u001b[43m \u001b[49m\u001b[38;5;241;43m503\u001b[39;49m\u001b[43m,\u001b[49m\u001b[43m \u001b[49m\u001b[38;5;241;43m504\u001b[39;49m\u001b[43m)\u001b[49m\u001b[43m,\u001b[49m\n\u001b[0;32m    716\u001b[0m \u001b[43m    \u001b[49m\u001b[43mtimeout\u001b[49m\u001b[38;5;241;43m=\u001b[39;49m\u001b[43mHF_HUB_DOWNLOAD_TIMEOUT\u001b[49m\u001b[43m,\u001b[49m\n\u001b[0;32m    717\u001b[0m \u001b[43m\u001b[49m\u001b[43m)\u001b[49m\n\u001b[0;32m    718\u001b[0m hf_raise_for_status(r)\n\u001b[0;32m    719\u001b[0m \u001b[38;5;28;01mreturn\u001b[39;00m r\u001b[38;5;241m.\u001b[39mcontent\n",
      "File \u001b[1;32mc:\\Users\\hudso\\miniconda3\\envs\\backend\\lib\\site-packages\\huggingface_hub\\utils\\_http.py:280\u001b[0m, in \u001b[0;36mhttp_backoff\u001b[1;34m(method, url, max_retries, base_wait_time, max_wait_time, retry_on_exceptions, retry_on_status_codes, **kwargs)\u001b[0m\n\u001b[0;32m    277\u001b[0m     kwargs[\u001b[38;5;124m\"\u001b[39m\u001b[38;5;124mdata\u001b[39m\u001b[38;5;124m\"\u001b[39m]\u001b[38;5;241m.\u001b[39mseek(io_obj_initial_pos)\n\u001b[0;32m    279\u001b[0m \u001b[38;5;66;03m# Perform request and return if status_code is not in the retry list.\u001b[39;00m\n\u001b[1;32m--> 280\u001b[0m response \u001b[38;5;241m=\u001b[39m session\u001b[38;5;241m.\u001b[39mrequest(method\u001b[38;5;241m=\u001b[39mmethod, url\u001b[38;5;241m=\u001b[39murl, \u001b[38;5;241m*\u001b[39m\u001b[38;5;241m*\u001b[39mkwargs)\n\u001b[0;32m    281\u001b[0m \u001b[38;5;28;01mif\u001b[39;00m response\u001b[38;5;241m.\u001b[39mstatus_code \u001b[38;5;129;01mnot\u001b[39;00m \u001b[38;5;129;01min\u001b[39;00m retry_on_status_codes:\n\u001b[0;32m    282\u001b[0m     \u001b[38;5;28;01mreturn\u001b[39;00m response\n",
      "File \u001b[1;32mc:\\Users\\hudso\\miniconda3\\envs\\backend\\lib\\site-packages\\requests\\sessions.py:589\u001b[0m, in \u001b[0;36mSession.request\u001b[1;34m(self, method, url, params, data, headers, cookies, files, auth, timeout, allow_redirects, proxies, hooks, stream, verify, cert, json)\u001b[0m\n\u001b[0;32m    584\u001b[0m send_kwargs \u001b[38;5;241m=\u001b[39m {\n\u001b[0;32m    585\u001b[0m     \u001b[38;5;124m\"\u001b[39m\u001b[38;5;124mtimeout\u001b[39m\u001b[38;5;124m\"\u001b[39m: timeout,\n\u001b[0;32m    586\u001b[0m     \u001b[38;5;124m\"\u001b[39m\u001b[38;5;124mallow_redirects\u001b[39m\u001b[38;5;124m\"\u001b[39m: allow_redirects,\n\u001b[0;32m    587\u001b[0m }\n\u001b[0;32m    588\u001b[0m send_kwargs\u001b[38;5;241m.\u001b[39mupdate(settings)\n\u001b[1;32m--> 589\u001b[0m resp \u001b[38;5;241m=\u001b[39m \u001b[38;5;28mself\u001b[39m\u001b[38;5;241m.\u001b[39msend(prep, \u001b[38;5;241m*\u001b[39m\u001b[38;5;241m*\u001b[39msend_kwargs)\n\u001b[0;32m    591\u001b[0m \u001b[38;5;28;01mreturn\u001b[39;00m resp\n",
      "File \u001b[1;32mc:\\Users\\hudso\\miniconda3\\envs\\backend\\lib\\site-packages\\requests\\sessions.py:703\u001b[0m, in \u001b[0;36mSession.send\u001b[1;34m(self, request, **kwargs)\u001b[0m\n\u001b[0;32m    700\u001b[0m start \u001b[38;5;241m=\u001b[39m preferred_clock()\n\u001b[0;32m    702\u001b[0m \u001b[38;5;66;03m# Send the request\u001b[39;00m\n\u001b[1;32m--> 703\u001b[0m r \u001b[38;5;241m=\u001b[39m adapter\u001b[38;5;241m.\u001b[39msend(request, \u001b[38;5;241m*\u001b[39m\u001b[38;5;241m*\u001b[39mkwargs)\n\u001b[0;32m    705\u001b[0m \u001b[38;5;66;03m# Total elapsed time of the request (approximately)\u001b[39;00m\n\u001b[0;32m    706\u001b[0m elapsed \u001b[38;5;241m=\u001b[39m preferred_clock() \u001b[38;5;241m-\u001b[39m start\n",
      "File \u001b[1;32mc:\\Users\\hudso\\miniconda3\\envs\\backend\\lib\\site-packages\\huggingface_hub\\utils\\_http.py:66\u001b[0m, in \u001b[0;36mUniqueRequestIdAdapter.send\u001b[1;34m(self, request, *args, **kwargs)\u001b[0m\n\u001b[0;32m     64\u001b[0m \u001b[38;5;250m\u001b[39m\u001b[38;5;124;03m\"\"\"Catch any RequestException to append request id to the error message for debugging.\"\"\"\u001b[39;00m\n\u001b[0;32m     65\u001b[0m \u001b[38;5;28;01mtry\u001b[39;00m:\n\u001b[1;32m---> 66\u001b[0m     \u001b[38;5;28;01mreturn\u001b[39;00m \u001b[38;5;28msuper\u001b[39m()\u001b[38;5;241m.\u001b[39msend(request, \u001b[38;5;241m*\u001b[39margs, \u001b[38;5;241m*\u001b[39m\u001b[38;5;241m*\u001b[39mkwargs)\n\u001b[0;32m     67\u001b[0m \u001b[38;5;28;01mexcept\u001b[39;00m requests\u001b[38;5;241m.\u001b[39mRequestException \u001b[38;5;28;01mas\u001b[39;00m e:\n\u001b[0;32m     68\u001b[0m     request_id \u001b[38;5;241m=\u001b[39m request\u001b[38;5;241m.\u001b[39mheaders\u001b[38;5;241m.\u001b[39mget(X_AMZN_TRACE_ID)\n",
      "File \u001b[1;32mc:\\Users\\hudso\\miniconda3\\envs\\backend\\lib\\site-packages\\requests\\adapters.py:667\u001b[0m, in \u001b[0;36mHTTPAdapter.send\u001b[1;34m(self, request, stream, timeout, verify, cert, proxies)\u001b[0m\n\u001b[0;32m    664\u001b[0m     timeout \u001b[38;5;241m=\u001b[39m TimeoutSauce(connect\u001b[38;5;241m=\u001b[39mtimeout, read\u001b[38;5;241m=\u001b[39mtimeout)\n\u001b[0;32m    666\u001b[0m \u001b[38;5;28;01mtry\u001b[39;00m:\n\u001b[1;32m--> 667\u001b[0m     resp \u001b[38;5;241m=\u001b[39m \u001b[43mconn\u001b[49m\u001b[38;5;241;43m.\u001b[39;49m\u001b[43murlopen\u001b[49m\u001b[43m(\u001b[49m\n\u001b[0;32m    668\u001b[0m \u001b[43m        \u001b[49m\u001b[43mmethod\u001b[49m\u001b[38;5;241;43m=\u001b[39;49m\u001b[43mrequest\u001b[49m\u001b[38;5;241;43m.\u001b[39;49m\u001b[43mmethod\u001b[49m\u001b[43m,\u001b[49m\n\u001b[0;32m    669\u001b[0m \u001b[43m        \u001b[49m\u001b[43murl\u001b[49m\u001b[38;5;241;43m=\u001b[39;49m\u001b[43murl\u001b[49m\u001b[43m,\u001b[49m\n\u001b[0;32m    670\u001b[0m \u001b[43m        \u001b[49m\u001b[43mbody\u001b[49m\u001b[38;5;241;43m=\u001b[39;49m\u001b[43mrequest\u001b[49m\u001b[38;5;241;43m.\u001b[39;49m\u001b[43mbody\u001b[49m\u001b[43m,\u001b[49m\n\u001b[0;32m    671\u001b[0m \u001b[43m        \u001b[49m\u001b[43mheaders\u001b[49m\u001b[38;5;241;43m=\u001b[39;49m\u001b[43mrequest\u001b[49m\u001b[38;5;241;43m.\u001b[39;49m\u001b[43mheaders\u001b[49m\u001b[43m,\u001b[49m\n\u001b[0;32m    672\u001b[0m \u001b[43m        \u001b[49m\u001b[43mredirect\u001b[49m\u001b[38;5;241;43m=\u001b[39;49m\u001b[38;5;28;43;01mFalse\u001b[39;49;00m\u001b[43m,\u001b[49m\n\u001b[0;32m    673\u001b[0m \u001b[43m        \u001b[49m\u001b[43massert_same_host\u001b[49m\u001b[38;5;241;43m=\u001b[39;49m\u001b[38;5;28;43;01mFalse\u001b[39;49;00m\u001b[43m,\u001b[49m\n\u001b[0;32m    674\u001b[0m \u001b[43m        \u001b[49m\u001b[43mpreload_content\u001b[49m\u001b[38;5;241;43m=\u001b[39;49m\u001b[38;5;28;43;01mFalse\u001b[39;49;00m\u001b[43m,\u001b[49m\n\u001b[0;32m    675\u001b[0m \u001b[43m        \u001b[49m\u001b[43mdecode_content\u001b[49m\u001b[38;5;241;43m=\u001b[39;49m\u001b[38;5;28;43;01mFalse\u001b[39;49;00m\u001b[43m,\u001b[49m\n\u001b[0;32m    676\u001b[0m \u001b[43m        \u001b[49m\u001b[43mretries\u001b[49m\u001b[38;5;241;43m=\u001b[39;49m\u001b[38;5;28;43mself\u001b[39;49m\u001b[38;5;241;43m.\u001b[39;49m\u001b[43mmax_retries\u001b[49m\u001b[43m,\u001b[49m\n\u001b[0;32m    677\u001b[0m \u001b[43m        \u001b[49m\u001b[43mtimeout\u001b[49m\u001b[38;5;241;43m=\u001b[39;49m\u001b[43mtimeout\u001b[49m\u001b[43m,\u001b[49m\n\u001b[0;32m    678\u001b[0m \u001b[43m        \u001b[49m\u001b[43mchunked\u001b[49m\u001b[38;5;241;43m=\u001b[39;49m\u001b[43mchunked\u001b[49m\u001b[43m,\u001b[49m\n\u001b[0;32m    679\u001b[0m \u001b[43m    \u001b[49m\u001b[43m)\u001b[49m\n\u001b[0;32m    681\u001b[0m \u001b[38;5;28;01mexcept\u001b[39;00m (ProtocolError, \u001b[38;5;167;01mOSError\u001b[39;00m) \u001b[38;5;28;01mas\u001b[39;00m err:\n\u001b[0;32m    682\u001b[0m     \u001b[38;5;28;01mraise\u001b[39;00m \u001b[38;5;167;01mConnectionError\u001b[39;00m(err, request\u001b[38;5;241m=\u001b[39mrequest)\n",
      "File \u001b[1;32mc:\\Users\\hudso\\miniconda3\\envs\\backend\\lib\\site-packages\\urllib3\\connectionpool.py:790\u001b[0m, in \u001b[0;36mHTTPConnectionPool.urlopen\u001b[1;34m(self, method, url, body, headers, retries, redirect, assert_same_host, timeout, pool_timeout, release_conn, chunked, body_pos, preload_content, decode_content, **response_kw)\u001b[0m\n\u001b[0;32m    787\u001b[0m response_conn \u001b[38;5;241m=\u001b[39m conn \u001b[38;5;28;01mif\u001b[39;00m \u001b[38;5;129;01mnot\u001b[39;00m release_conn \u001b[38;5;28;01melse\u001b[39;00m \u001b[38;5;28;01mNone\u001b[39;00m\n\u001b[0;32m    789\u001b[0m \u001b[38;5;66;03m# Make the request on the HTTPConnection object\u001b[39;00m\n\u001b[1;32m--> 790\u001b[0m response \u001b[38;5;241m=\u001b[39m \u001b[38;5;28mself\u001b[39m\u001b[38;5;241m.\u001b[39m_make_request(\n\u001b[0;32m    791\u001b[0m     conn,\n\u001b[0;32m    792\u001b[0m     method,\n\u001b[0;32m    793\u001b[0m     url,\n\u001b[0;32m    794\u001b[0m     timeout\u001b[38;5;241m=\u001b[39mtimeout_obj,\n\u001b[0;32m    795\u001b[0m     body\u001b[38;5;241m=\u001b[39mbody,\n\u001b[0;32m    796\u001b[0m     headers\u001b[38;5;241m=\u001b[39mheaders,\n\u001b[0;32m    797\u001b[0m     chunked\u001b[38;5;241m=\u001b[39mchunked,\n\u001b[0;32m    798\u001b[0m     retries\u001b[38;5;241m=\u001b[39mretries,\n\u001b[0;32m    799\u001b[0m     response_conn\u001b[38;5;241m=\u001b[39mresponse_conn,\n\u001b[0;32m    800\u001b[0m     preload_content\u001b[38;5;241m=\u001b[39mpreload_content,\n\u001b[0;32m    801\u001b[0m     decode_content\u001b[38;5;241m=\u001b[39mdecode_content,\n\u001b[0;32m    802\u001b[0m     \u001b[38;5;241m*\u001b[39m\u001b[38;5;241m*\u001b[39mresponse_kw,\n\u001b[0;32m    803\u001b[0m )\n\u001b[0;32m    805\u001b[0m \u001b[38;5;66;03m# Everything went great!\u001b[39;00m\n\u001b[0;32m    806\u001b[0m clean_exit \u001b[38;5;241m=\u001b[39m \u001b[38;5;28;01mTrue\u001b[39;00m\n",
      "File \u001b[1;32mc:\\Users\\hudso\\miniconda3\\envs\\backend\\lib\\site-packages\\urllib3\\connectionpool.py:536\u001b[0m, in \u001b[0;36mHTTPConnectionPool._make_request\u001b[1;34m(self, conn, method, url, body, headers, retries, timeout, chunked, response_conn, preload_content, decode_content, enforce_content_length)\u001b[0m\n\u001b[0;32m    534\u001b[0m \u001b[38;5;66;03m# Receive the response from the server\u001b[39;00m\n\u001b[0;32m    535\u001b[0m \u001b[38;5;28;01mtry\u001b[39;00m:\n\u001b[1;32m--> 536\u001b[0m     response \u001b[38;5;241m=\u001b[39m \u001b[43mconn\u001b[49m\u001b[38;5;241;43m.\u001b[39;49m\u001b[43mgetresponse\u001b[49m\u001b[43m(\u001b[49m\u001b[43m)\u001b[49m\n\u001b[0;32m    537\u001b[0m \u001b[38;5;28;01mexcept\u001b[39;00m (BaseSSLError, \u001b[38;5;167;01mOSError\u001b[39;00m) \u001b[38;5;28;01mas\u001b[39;00m e:\n\u001b[0;32m    538\u001b[0m     \u001b[38;5;28mself\u001b[39m\u001b[38;5;241m.\u001b[39m_raise_timeout(err\u001b[38;5;241m=\u001b[39me, url\u001b[38;5;241m=\u001b[39murl, timeout_value\u001b[38;5;241m=\u001b[39mread_timeout)\n",
      "File \u001b[1;32mc:\\Users\\hudso\\miniconda3\\envs\\backend\\lib\\site-packages\\urllib3\\connection.py:461\u001b[0m, in \u001b[0;36mHTTPConnection.getresponse\u001b[1;34m(self)\u001b[0m\n\u001b[0;32m    458\u001b[0m \u001b[38;5;28;01mfrom\u001b[39;00m \u001b[38;5;21;01m.\u001b[39;00m\u001b[38;5;21;01mresponse\u001b[39;00m \u001b[38;5;28;01mimport\u001b[39;00m HTTPResponse\n\u001b[0;32m    460\u001b[0m \u001b[38;5;66;03m# Get the response from http.client.HTTPConnection\u001b[39;00m\n\u001b[1;32m--> 461\u001b[0m httplib_response \u001b[38;5;241m=\u001b[39m \u001b[38;5;28;43msuper\u001b[39;49m\u001b[43m(\u001b[49m\u001b[43m)\u001b[49m\u001b[38;5;241;43m.\u001b[39;49m\u001b[43mgetresponse\u001b[49m\u001b[43m(\u001b[49m\u001b[43m)\u001b[49m\n\u001b[0;32m    463\u001b[0m \u001b[38;5;28;01mtry\u001b[39;00m:\n\u001b[0;32m    464\u001b[0m     assert_header_parsing(httplib_response\u001b[38;5;241m.\u001b[39mmsg)\n",
      "File \u001b[1;32mc:\\Users\\hudso\\miniconda3\\envs\\backend\\lib\\http\\client.py:1375\u001b[0m, in \u001b[0;36mHTTPConnection.getresponse\u001b[1;34m(self)\u001b[0m\n\u001b[0;32m   1373\u001b[0m \u001b[38;5;28;01mtry\u001b[39;00m:\n\u001b[0;32m   1374\u001b[0m     \u001b[38;5;28;01mtry\u001b[39;00m:\n\u001b[1;32m-> 1375\u001b[0m         \u001b[43mresponse\u001b[49m\u001b[38;5;241;43m.\u001b[39;49m\u001b[43mbegin\u001b[49m\u001b[43m(\u001b[49m\u001b[43m)\u001b[49m\n\u001b[0;32m   1376\u001b[0m     \u001b[38;5;28;01mexcept\u001b[39;00m \u001b[38;5;167;01mConnectionError\u001b[39;00m:\n\u001b[0;32m   1377\u001b[0m         \u001b[38;5;28mself\u001b[39m\u001b[38;5;241m.\u001b[39mclose()\n",
      "File \u001b[1;32mc:\\Users\\hudso\\miniconda3\\envs\\backend\\lib\\http\\client.py:318\u001b[0m, in \u001b[0;36mHTTPResponse.begin\u001b[1;34m(self)\u001b[0m\n\u001b[0;32m    316\u001b[0m \u001b[38;5;66;03m# read until we get a non-100 response\u001b[39;00m\n\u001b[0;32m    317\u001b[0m \u001b[38;5;28;01mwhile\u001b[39;00m \u001b[38;5;28;01mTrue\u001b[39;00m:\n\u001b[1;32m--> 318\u001b[0m     version, status, reason \u001b[38;5;241m=\u001b[39m \u001b[38;5;28;43mself\u001b[39;49m\u001b[38;5;241;43m.\u001b[39;49m\u001b[43m_read_status\u001b[49m\u001b[43m(\u001b[49m\u001b[43m)\u001b[49m\n\u001b[0;32m    319\u001b[0m     \u001b[38;5;28;01mif\u001b[39;00m status \u001b[38;5;241m!=\u001b[39m CONTINUE:\n\u001b[0;32m    320\u001b[0m         \u001b[38;5;28;01mbreak\u001b[39;00m\n",
      "File \u001b[1;32mc:\\Users\\hudso\\miniconda3\\envs\\backend\\lib\\http\\client.py:279\u001b[0m, in \u001b[0;36mHTTPResponse._read_status\u001b[1;34m(self)\u001b[0m\n\u001b[0;32m    278\u001b[0m \u001b[38;5;28;01mdef\u001b[39;00m \u001b[38;5;21m_read_status\u001b[39m(\u001b[38;5;28mself\u001b[39m):\n\u001b[1;32m--> 279\u001b[0m     line \u001b[38;5;241m=\u001b[39m \u001b[38;5;28mstr\u001b[39m(\u001b[38;5;28;43mself\u001b[39;49m\u001b[38;5;241;43m.\u001b[39;49m\u001b[43mfp\u001b[49m\u001b[38;5;241;43m.\u001b[39;49m\u001b[43mreadline\u001b[49m\u001b[43m(\u001b[49m\u001b[43m_MAXLINE\u001b[49m\u001b[43m \u001b[49m\u001b[38;5;241;43m+\u001b[39;49m\u001b[43m \u001b[49m\u001b[38;5;241;43m1\u001b[39;49m\u001b[43m)\u001b[49m, \u001b[38;5;124m\"\u001b[39m\u001b[38;5;124miso-8859-1\u001b[39m\u001b[38;5;124m\"\u001b[39m)\n\u001b[0;32m    280\u001b[0m     \u001b[38;5;28;01mif\u001b[39;00m \u001b[38;5;28mlen\u001b[39m(line) \u001b[38;5;241m>\u001b[39m _MAXLINE:\n\u001b[0;32m    281\u001b[0m         \u001b[38;5;28;01mraise\u001b[39;00m LineTooLong(\u001b[38;5;124m\"\u001b[39m\u001b[38;5;124mstatus line\u001b[39m\u001b[38;5;124m\"\u001b[39m)\n",
      "File \u001b[1;32mc:\\Users\\hudso\\miniconda3\\envs\\backend\\lib\\socket.py:705\u001b[0m, in \u001b[0;36mSocketIO.readinto\u001b[1;34m(self, b)\u001b[0m\n\u001b[0;32m    703\u001b[0m \u001b[38;5;28;01mwhile\u001b[39;00m \u001b[38;5;28;01mTrue\u001b[39;00m:\n\u001b[0;32m    704\u001b[0m     \u001b[38;5;28;01mtry\u001b[39;00m:\n\u001b[1;32m--> 705\u001b[0m         \u001b[38;5;28;01mreturn\u001b[39;00m \u001b[38;5;28;43mself\u001b[39;49m\u001b[38;5;241;43m.\u001b[39;49m\u001b[43m_sock\u001b[49m\u001b[38;5;241;43m.\u001b[39;49m\u001b[43mrecv_into\u001b[49m\u001b[43m(\u001b[49m\u001b[43mb\u001b[49m\u001b[43m)\u001b[49m\n\u001b[0;32m    706\u001b[0m     \u001b[38;5;28;01mexcept\u001b[39;00m timeout:\n\u001b[0;32m    707\u001b[0m         \u001b[38;5;28mself\u001b[39m\u001b[38;5;241m.\u001b[39m_timeout_occurred \u001b[38;5;241m=\u001b[39m \u001b[38;5;28;01mTrue\u001b[39;00m\n",
      "File \u001b[1;32mc:\\Users\\hudso\\miniconda3\\envs\\backend\\lib\\ssl.py:1307\u001b[0m, in \u001b[0;36mSSLSocket.recv_into\u001b[1;34m(self, buffer, nbytes, flags)\u001b[0m\n\u001b[0;32m   1303\u001b[0m     \u001b[38;5;28;01mif\u001b[39;00m flags \u001b[38;5;241m!=\u001b[39m \u001b[38;5;241m0\u001b[39m:\n\u001b[0;32m   1304\u001b[0m         \u001b[38;5;28;01mraise\u001b[39;00m \u001b[38;5;167;01mValueError\u001b[39;00m(\n\u001b[0;32m   1305\u001b[0m           \u001b[38;5;124m\"\u001b[39m\u001b[38;5;124mnon-zero flags not allowed in calls to recv_into() on \u001b[39m\u001b[38;5;132;01m%s\u001b[39;00m\u001b[38;5;124m\"\u001b[39m \u001b[38;5;241m%\u001b[39m\n\u001b[0;32m   1306\u001b[0m           \u001b[38;5;28mself\u001b[39m\u001b[38;5;241m.\u001b[39m\u001b[38;5;18m__class__\u001b[39m)\n\u001b[1;32m-> 1307\u001b[0m     \u001b[38;5;28;01mreturn\u001b[39;00m \u001b[38;5;28;43mself\u001b[39;49m\u001b[38;5;241;43m.\u001b[39;49m\u001b[43mread\u001b[49m\u001b[43m(\u001b[49m\u001b[43mnbytes\u001b[49m\u001b[43m,\u001b[49m\u001b[43m \u001b[49m\u001b[43mbuffer\u001b[49m\u001b[43m)\u001b[49m\n\u001b[0;32m   1308\u001b[0m \u001b[38;5;28;01melse\u001b[39;00m:\n\u001b[0;32m   1309\u001b[0m     \u001b[38;5;28;01mreturn\u001b[39;00m \u001b[38;5;28msuper\u001b[39m()\u001b[38;5;241m.\u001b[39mrecv_into(buffer, nbytes, flags)\n",
      "File \u001b[1;32mc:\\Users\\hudso\\miniconda3\\envs\\backend\\lib\\ssl.py:1163\u001b[0m, in \u001b[0;36mSSLSocket.read\u001b[1;34m(self, len, buffer)\u001b[0m\n\u001b[0;32m   1161\u001b[0m \u001b[38;5;28;01mtry\u001b[39;00m:\n\u001b[0;32m   1162\u001b[0m     \u001b[38;5;28;01mif\u001b[39;00m buffer \u001b[38;5;129;01mis\u001b[39;00m \u001b[38;5;129;01mnot\u001b[39;00m \u001b[38;5;28;01mNone\u001b[39;00m:\n\u001b[1;32m-> 1163\u001b[0m         \u001b[38;5;28;01mreturn\u001b[39;00m \u001b[38;5;28;43mself\u001b[39;49m\u001b[38;5;241;43m.\u001b[39;49m\u001b[43m_sslobj\u001b[49m\u001b[38;5;241;43m.\u001b[39;49m\u001b[43mread\u001b[49m\u001b[43m(\u001b[49m\u001b[38;5;28;43mlen\u001b[39;49m\u001b[43m,\u001b[49m\u001b[43m \u001b[49m\u001b[43mbuffer\u001b[49m\u001b[43m)\u001b[49m\n\u001b[0;32m   1164\u001b[0m     \u001b[38;5;28;01melse\u001b[39;00m:\n\u001b[0;32m   1165\u001b[0m         \u001b[38;5;28;01mreturn\u001b[39;00m \u001b[38;5;28mself\u001b[39m\u001b[38;5;241m.\u001b[39m_sslobj\u001b[38;5;241m.\u001b[39mread(\u001b[38;5;28mlen\u001b[39m)\n",
      "\u001b[1;31mKeyboardInterrupt\u001b[0m: "
     ]
    },
    {
     "ename": "",
     "evalue": "",
     "output_type": "error",
     "traceback": [
      "\u001b[1;31mThe Kernel crashed while executing code in the current cell or a previous cell. \n",
      "\u001b[1;31mPlease review the code in the cell(s) to identify a possible cause of the failure. \n",
      "\u001b[1;31mClick <a href='https://aka.ms/vscodeJupyterKernelCrash'>here</a> for more info. \n",
      "\u001b[1;31mView Jupyter <a href='command:jupyter.viewOutput'>log</a> for further details."
     ]
    }
   ],
   "source": [
    "for i in filtered_dataset:\n",
    "    print(i)"
   ]
  },
  {
   "cell_type": "code",
   "execution_count": 37,
   "metadata": {},
   "outputs": [
    {
     "name": "stdout",
     "output_type": "stream",
     "text": [
      "{'id': '13422', 'utt_id': 'Y4IaKXIH-mQ-00001-00000447-00000722', 'audio': {'path': None, 'array': array([ 0.01132202, -0.00115967, -0.0111084 , ...,  0.00500488,\n",
      "        0.00457764,  0.00402832]), 'sampling_rate': 16000}, 'text': 'was the program responsible for'}\n",
      "{'id': '13422', 'utt_id': '2Jqpurd1YXI-00668-00192813-00192968', 'audio': {'path': None, 'array': array([0.06710815, 0.06478882, 0.06219482, ..., 0.05206299, 0.10543823,\n",
      "       0.15267944]), 'sampling_rate': 16000}, 'text': 'leading role due to their small'}\n",
      "{'id': '13422', 'utt_id': '7tboNglgYFY-00219-00058133-00058391', 'audio': {'path': None, 'array': array([ 0.00167847,  0.00189209,  0.00289917, ...,  0.00411987,\n",
      "       -0.01300049, -0.00531006]), 'sampling_rate': 16000}, 'text': 'so when FES 2 is dissociating what we'}\n",
      "{'id': '13422', 'utt_id': 'aCDXTce1RfQ-00052-00015276-00015725', 'audio': {'path': None, 'array': array([-0.00695801, -0.00274658,  0.00039673, ...,  0.0100708 ,\n",
      "        0.16275024,  0.2996521 ]), 'sampling_rate': 16000}, 'text': 'ah'}\n",
      "{'id': '13422', 'utt_id': 'c0gnS00j-Ly-00275-00062200-00062415', 'audio': {'path': None, 'array': array([0.00064087, 0.00057983, 0.00064087, ..., 0.00769043, 0.00726318,\n",
      "       0.00839233]), 'sampling_rate': 16000}, 'text': 'chaos is set up as a project with sub'}\n",
      "{'id': '13422', 'utt_id': 'gvAEYO2L7Bu-00006-00002093-00002351', 'audio': {'path': None, 'array': array([ 0.00000000e+00,  0.00000000e+00, -6.10351562e-05, ...,\n",
      "       -2.13623047e-03, -1.80053711e-03, -1.83105469e-03]), 'sampling_rate': 16000}, 'text': 'a person in an organization it needs to'}\n",
      "{'id': '13422', 'utt_id': 'nXDaKT7_wAQ-00072-00018063-00018413', 'audio': {'path': None, 'array': array([0.09466553, 0.09729004, 0.10479736, ..., 0.        , 0.        ,\n",
      "       0.        ]), 'sampling_rate': 16000}, 'text': 'CE e'}\n",
      "{'id': '13422', 'utt_id': 'rD6HsJmrA0E-00170-00033703-00033831', 'audio': {'path': None, 'array': array([-6.77490234e-03, -1.55639648e-03, -2.62451172e-03, ...,\n",
      "       -1.52587891e-04, -6.10351562e-05, -7.93457031e-04]), 'sampling_rate': 16000}, 'text': 'three moves of god'}\n",
      "{'id': '13422', 'utt_id': 't1TcVXHpTQu-00040-00010824-00011031', 'audio': {'path': None, 'array': array([ 0.00045776,  0.00024414,  0.00024414, ..., -0.00387573,\n",
      "       -0.00375366, -0.00366211]), 'sampling_rate': 16000}, 'text': 'oh yes'}\n",
      "{'id': '13422', 'utt_id': 'u1vf_J8BdY0-00708-00225310-00225648', 'audio': {'path': None, 'array': array([ 0.01721191,  0.00253296, -0.00906372, ...,  0.0567627 ,\n",
      "        0.04412842,  0.03823853]), 'sampling_rate': 16000}, 'text': 'instead of using this as a probe to see'}\n",
      "{'id': '13422', 'utt_id': 'wlEt7iMqP6u-00637-00179415-00179799', 'audio': {'path': None, 'array': array([-0.00369263, -0.00280762, -0.00344849, ...,  0.00354004,\n",
      "        0.00201416,  0.00195312]), 'sampling_rate': 16000}, 'text': 'first quarter of 1991 to produce 25'}\n",
      "{'id': '13422', 'utt_id': '_3ph5ILO9O8-00239-00090300-00090859', 'audio': {'path': None, 'array': array([ 0.00372314,  0.00402832,  0.00408936, ..., -0.01580811,\n",
      "       -0.01477051, -0.01300049]), 'sampling_rate': 16000}, 'text': 'around manifesting who you are'}\n",
      "{'id': '13422', 'utt_id': 'CzhXx-rHdqM-00650-00144536-00144719', 'audio': {'path': None, 'array': array([-0.05383301, -0.03833008, -0.01806641, ...,  0.12835693,\n",
      "        0.13027954,  0.1164856 ]), 'sampling_rate': 16000}, 'text': 'united nations special committee on'}\n",
      "{'id': '13422', 'utt_id': 'Et5Yi9Cl3ko-00076-00020844-00021100', 'audio': {'path': None, 'array': array([-0.03173828, -0.01577759,  0.0017395 , ...,  0.00787354,\n",
      "        0.00564575,  0.01245117]), 'sampling_rate': 16000}, 'text': 'Cotton my pronouns are em I am the'}\n"
     ]
    },
    {
     "ename": "KeyboardInterrupt",
     "evalue": "",
     "output_type": "error",
     "traceback": [
      "\u001b[1;31m---------------------------------------------------------------------------\u001b[0m",
      "\u001b[1;31mKeyboardInterrupt\u001b[0m                         Traceback (most recent call last)",
      "Cell \u001b[1;32mIn[37], line 1\u001b[0m\n\u001b[1;32m----> 1\u001b[0m \u001b[38;5;28;01mfor\u001b[39;00m i \u001b[38;5;129;01min\u001b[39;00m filtered_dataset2:\n\u001b[0;32m      2\u001b[0m     \u001b[38;5;28mprint\u001b[39m(i)\n",
      "File \u001b[1;32mc:\\Users\\hudso\\miniconda3\\envs\\backend\\lib\\site-packages\\datasets\\iterable_dataset.py:1816\u001b[0m, in \u001b[0;36mIterableDataset.__iter__\u001b[1;34m(self)\u001b[0m\n\u001b[0;32m   1813\u001b[0m         \u001b[38;5;28;01myield\u001b[39;00m formatter\u001b[38;5;241m.\u001b[39mformat_row(pa_table)\n\u001b[0;32m   1814\u001b[0m     \u001b[38;5;28;01mreturn\u001b[39;00m\n\u001b[1;32m-> 1816\u001b[0m \u001b[38;5;28;01mfor\u001b[39;00m key, example \u001b[38;5;129;01min\u001b[39;00m ex_iterable:\n\u001b[0;32m   1817\u001b[0m     \u001b[38;5;28;01mif\u001b[39;00m \u001b[38;5;28mself\u001b[39m\u001b[38;5;241m.\u001b[39mfeatures:\n\u001b[0;32m   1818\u001b[0m         \u001b[38;5;66;03m# `IterableDataset` automatically fills missing columns with None.\u001b[39;00m\n\u001b[0;32m   1819\u001b[0m         \u001b[38;5;66;03m# This is done with `_apply_feature_types_on_example`.\u001b[39;00m\n\u001b[0;32m   1820\u001b[0m         example \u001b[38;5;241m=\u001b[39m _apply_feature_types_on_example(\n\u001b[0;32m   1821\u001b[0m             example, \u001b[38;5;28mself\u001b[39m\u001b[38;5;241m.\u001b[39mfeatures, token_per_repo_id\u001b[38;5;241m=\u001b[39m\u001b[38;5;28mself\u001b[39m\u001b[38;5;241m.\u001b[39m_token_per_repo_id\n\u001b[0;32m   1822\u001b[0m         )\n",
      "File \u001b[1;32mc:\\Users\\hudso\\miniconda3\\envs\\backend\\lib\\site-packages\\datasets\\iterable_dataset.py:1103\u001b[0m, in \u001b[0;36mFilteredExamplesIterable.__iter__\u001b[1;34m(self)\u001b[0m\n\u001b[0;32m   1101\u001b[0m     \u001b[38;5;28;01myield from\u001b[39;00m ArrowExamplesIterable(\u001b[38;5;28mself\u001b[39m\u001b[38;5;241m.\u001b[39m_iter_arrow, {})\n\u001b[0;32m   1102\u001b[0m \u001b[38;5;28;01melse\u001b[39;00m:\n\u001b[1;32m-> 1103\u001b[0m     \u001b[38;5;28;01myield from\u001b[39;00m \u001b[38;5;28mself\u001b[39m\u001b[38;5;241m.\u001b[39m_iter()\n",
      "File \u001b[1;32mc:\\Users\\hudso\\miniconda3\\envs\\backend\\lib\\site-packages\\datasets\\iterable_dataset.py:1159\u001b[0m, in \u001b[0;36mFilteredExamplesIterable._iter\u001b[1;34m(self)\u001b[0m\n\u001b[0;32m   1157\u001b[0m             \u001b[38;5;28mself\u001b[39m\u001b[38;5;241m.\u001b[39m_state_dict[\u001b[38;5;124m\"\u001b[39m\u001b[38;5;124mprevious_state_example_idx\u001b[39m\u001b[38;5;124m\"\u001b[39m] \u001b[38;5;241m=\u001b[39m current_idx\n\u001b[0;32m   1158\u001b[0m \u001b[38;5;28;01melse\u001b[39;00m:\n\u001b[1;32m-> 1159\u001b[0m     \u001b[38;5;28;01mfor\u001b[39;00m key, example \u001b[38;5;129;01min\u001b[39;00m iterator:\n\u001b[0;32m   1160\u001b[0m         \u001b[38;5;66;03m# If not batched, we can apply the filtering function direcly\u001b[39;00m\n\u001b[0;32m   1161\u001b[0m         example \u001b[38;5;241m=\u001b[39m \u001b[38;5;28mdict\u001b[39m(example)\n\u001b[0;32m   1162\u001b[0m         inputs \u001b[38;5;241m=\u001b[39m format_dict(example) \u001b[38;5;28;01mif\u001b[39;00m format_dict \u001b[38;5;28;01melse\u001b[39;00m example\n",
      "File \u001b[1;32mc:\\Users\\hudso\\miniconda3\\envs\\backend\\lib\\site-packages\\datasets\\iterable_dataset.py:1433\u001b[0m, in \u001b[0;36mTypedExamplesIterable.__iter__\u001b[1;34m(self)\u001b[0m\n\u001b[0;32m   1430\u001b[0m \u001b[38;5;28;01mdef\u001b[39;00m \u001b[38;5;21m__iter__\u001b[39m(\u001b[38;5;28mself\u001b[39m):\n\u001b[0;32m   1431\u001b[0m     \u001b[38;5;66;03m# Then for each example, `TypedExamplesIterable` automatically fills missing columns with None.\u001b[39;00m\n\u001b[0;32m   1432\u001b[0m     \u001b[38;5;66;03m# This is done with `_apply_feature_types_on_example`.\u001b[39;00m\n\u001b[1;32m-> 1433\u001b[0m     \u001b[38;5;28;01mfor\u001b[39;00m key, example \u001b[38;5;129;01min\u001b[39;00m \u001b[38;5;28mself\u001b[39m\u001b[38;5;241m.\u001b[39mex_iterable:\n\u001b[0;32m   1434\u001b[0m         \u001b[38;5;28;01myield\u001b[39;00m (\n\u001b[0;32m   1435\u001b[0m             key,\n\u001b[0;32m   1436\u001b[0m             _apply_feature_types_on_example(example, \u001b[38;5;28mself\u001b[39m\u001b[38;5;241m.\u001b[39mfeatures, token_per_repo_id\u001b[38;5;241m=\u001b[39m\u001b[38;5;28mself\u001b[39m\u001b[38;5;241m.\u001b[39mtoken_per_repo_id),\n\u001b[0;32m   1437\u001b[0m         )\n",
      "File \u001b[1;32mc:\\Users\\hudso\\miniconda3\\envs\\backend\\lib\\site-packages\\datasets\\iterable_dataset.py:238\u001b[0m, in \u001b[0;36mExamplesIterable.__iter__\u001b[1;34m(self)\u001b[0m\n\u001b[0;32m    236\u001b[0m \u001b[38;5;28;01mfor\u001b[39;00m gen_kwags \u001b[38;5;129;01min\u001b[39;00m islice(_split_gen_kwargs(\u001b[38;5;28mself\u001b[39m\u001b[38;5;241m.\u001b[39mkwargs, max_num_jobs\u001b[38;5;241m=\u001b[39m\u001b[38;5;28mself\u001b[39m\u001b[38;5;241m.\u001b[39mn_shards), shard_idx_start, \u001b[38;5;28;01mNone\u001b[39;00m):\n\u001b[0;32m    237\u001b[0m     shard_example_idx_start \u001b[38;5;241m=\u001b[39m \u001b[38;5;28mself\u001b[39m\u001b[38;5;241m.\u001b[39m_state_dict[\u001b[38;5;124m\"\u001b[39m\u001b[38;5;124mshard_example_idx\u001b[39m\u001b[38;5;124m\"\u001b[39m] \u001b[38;5;28;01mif\u001b[39;00m \u001b[38;5;28mself\u001b[39m\u001b[38;5;241m.\u001b[39m_state_dict \u001b[38;5;28;01melse\u001b[39;00m \u001b[38;5;241m0\u001b[39m\n\u001b[1;32m--> 238\u001b[0m     \u001b[38;5;28;01mfor\u001b[39;00m key_example \u001b[38;5;129;01min\u001b[39;00m islice(\u001b[38;5;28mself\u001b[39m\u001b[38;5;241m.\u001b[39mgenerate_examples_fn(\u001b[38;5;241m*\u001b[39m\u001b[38;5;241m*\u001b[39mgen_kwags), shard_example_idx_start, \u001b[38;5;28;01mNone\u001b[39;00m):\n\u001b[0;32m    239\u001b[0m         \u001b[38;5;28;01mif\u001b[39;00m \u001b[38;5;28mself\u001b[39m\u001b[38;5;241m.\u001b[39m_state_dict:\n\u001b[0;32m    240\u001b[0m             \u001b[38;5;28mself\u001b[39m\u001b[38;5;241m.\u001b[39m_state_dict[\u001b[38;5;124m\"\u001b[39m\u001b[38;5;124mshard_example_idx\u001b[39m\u001b[38;5;124m\"\u001b[39m] \u001b[38;5;241m+\u001b[39m\u001b[38;5;241m=\u001b[39m \u001b[38;5;241m1\u001b[39m\n",
      "File \u001b[1;32m~\\.cache\\huggingface\\modules\\datasets_modules\\datasets\\espnet--yodas\\3e817d4d05cb9d178f6e01b4c696ac7fdfd9aed85e66b0d6d1888efc661a0f3f\\yodas.py:120\u001b[0m, in \u001b[0;36mYodas._generate_examples\u001b[1;34m(self, is_streaming, audio_archives, text_archives)\u001b[0m\n\u001b[0;32m    113\u001b[0m utt_id \u001b[38;5;241m=\u001b[39m path\u001b[38;5;241m.\u001b[39mstem\n\u001b[0;32m    115\u001b[0m \u001b[38;5;28;01mif\u001b[39;00m utt_id \u001b[38;5;129;01min\u001b[39;00m utt2text:\n\u001b[0;32m    117\u001b[0m     result \u001b[38;5;241m=\u001b[39m {\n\u001b[0;32m    118\u001b[0m         \u001b[38;5;124m'\u001b[39m\u001b[38;5;124mid\u001b[39m\u001b[38;5;124m'\u001b[39m: id_,\n\u001b[0;32m    119\u001b[0m         \u001b[38;5;124m'\u001b[39m\u001b[38;5;124mutt_id\u001b[39m\u001b[38;5;124m'\u001b[39m: utt_id,\n\u001b[1;32m--> 120\u001b[0m         \u001b[38;5;124m'\u001b[39m\u001b[38;5;124maudio\u001b[39m\u001b[38;5;124m'\u001b[39m: {\u001b[38;5;124m\"\u001b[39m\u001b[38;5;124mpath\u001b[39m\u001b[38;5;124m\"\u001b[39m: \u001b[38;5;28;01mNone\u001b[39;00m, \u001b[38;5;124m\"\u001b[39m\u001b[38;5;124mbytes\u001b[39m\u001b[38;5;124m\"\u001b[39m: \u001b[43maudio_f\u001b[49m\u001b[38;5;241;43m.\u001b[39;49m\u001b[43mread\u001b[49m\u001b[43m(\u001b[49m\u001b[43m)\u001b[49m},\n\u001b[0;32m    121\u001b[0m         \u001b[38;5;124m'\u001b[39m\u001b[38;5;124mtext\u001b[39m\u001b[38;5;124m'\u001b[39m: utt2text[utt_id]\n\u001b[0;32m    122\u001b[0m     }\n\u001b[0;32m    124\u001b[0m     \u001b[38;5;28;01myield\u001b[39;00m id_, result\n\u001b[0;32m    125\u001b[0m     id_ \u001b[38;5;241m+\u001b[39m\u001b[38;5;241m=\u001b[39m \u001b[38;5;241m1\u001b[39m\n",
      "File \u001b[1;32mc:\\Users\\hudso\\miniconda3\\envs\\backend\\lib\\tarfile.py:689\u001b[0m, in \u001b[0;36m_FileInFile.read\u001b[1;34m(self, size)\u001b[0m\n\u001b[0;32m    687\u001b[0m \u001b[38;5;28;01mif\u001b[39;00m data:\n\u001b[0;32m    688\u001b[0m     \u001b[38;5;28mself\u001b[39m\u001b[38;5;241m.\u001b[39mfileobj\u001b[38;5;241m.\u001b[39mseek(offset \u001b[38;5;241m+\u001b[39m (\u001b[38;5;28mself\u001b[39m\u001b[38;5;241m.\u001b[39mposition \u001b[38;5;241m-\u001b[39m start))\n\u001b[1;32m--> 689\u001b[0m     b \u001b[38;5;241m=\u001b[39m \u001b[38;5;28;43mself\u001b[39;49m\u001b[38;5;241;43m.\u001b[39;49m\u001b[43mfileobj\u001b[49m\u001b[38;5;241;43m.\u001b[39;49m\u001b[43mread\u001b[49m\u001b[43m(\u001b[49m\u001b[43mlength\u001b[49m\u001b[43m)\u001b[49m\n\u001b[0;32m    690\u001b[0m     \u001b[38;5;28;01mif\u001b[39;00m \u001b[38;5;28mlen\u001b[39m(b) \u001b[38;5;241m!=\u001b[39m length:\n\u001b[0;32m    691\u001b[0m         \u001b[38;5;28;01mraise\u001b[39;00m ReadError(\u001b[38;5;124m\"\u001b[39m\u001b[38;5;124munexpected end of data\u001b[39m\u001b[38;5;124m\"\u001b[39m)\n",
      "File \u001b[1;32mc:\\Users\\hudso\\miniconda3\\envs\\backend\\lib\\tarfile.py:526\u001b[0m, in \u001b[0;36m_Stream.read\u001b[1;34m(self, size)\u001b[0m\n\u001b[0;32m    524\u001b[0m \u001b[38;5;250m\u001b[39m\u001b[38;5;124;03m\"\"\"Return the next size number of bytes from the stream.\"\"\"\u001b[39;00m\n\u001b[0;32m    525\u001b[0m \u001b[38;5;28;01massert\u001b[39;00m size \u001b[38;5;129;01mis\u001b[39;00m \u001b[38;5;129;01mnot\u001b[39;00m \u001b[38;5;28;01mNone\u001b[39;00m\n\u001b[1;32m--> 526\u001b[0m buf \u001b[38;5;241m=\u001b[39m \u001b[38;5;28;43mself\u001b[39;49m\u001b[38;5;241;43m.\u001b[39;49m\u001b[43m_read\u001b[49m\u001b[43m(\u001b[49m\u001b[43msize\u001b[49m\u001b[43m)\u001b[49m\n\u001b[0;32m    527\u001b[0m \u001b[38;5;28mself\u001b[39m\u001b[38;5;241m.\u001b[39mpos \u001b[38;5;241m+\u001b[39m\u001b[38;5;241m=\u001b[39m \u001b[38;5;28mlen\u001b[39m(buf)\n\u001b[0;32m    528\u001b[0m \u001b[38;5;28;01mreturn\u001b[39;00m buf\n",
      "File \u001b[1;32mc:\\Users\\hudso\\miniconda3\\envs\\backend\\lib\\tarfile.py:544\u001b[0m, in \u001b[0;36m_Stream._read\u001b[1;34m(self, size)\u001b[0m\n\u001b[0;32m    542\u001b[0m     \u001b[38;5;28mself\u001b[39m\u001b[38;5;241m.\u001b[39mbuf \u001b[38;5;241m=\u001b[39m \u001b[38;5;124mb\u001b[39m\u001b[38;5;124m\"\u001b[39m\u001b[38;5;124m\"\u001b[39m\n\u001b[0;32m    543\u001b[0m \u001b[38;5;28;01melse\u001b[39;00m:\n\u001b[1;32m--> 544\u001b[0m     buf \u001b[38;5;241m=\u001b[39m \u001b[38;5;28;43mself\u001b[39;49m\u001b[38;5;241;43m.\u001b[39;49m\u001b[43mfileobj\u001b[49m\u001b[38;5;241;43m.\u001b[39;49m\u001b[43mread\u001b[49m\u001b[43m(\u001b[49m\u001b[38;5;28;43mself\u001b[39;49m\u001b[38;5;241;43m.\u001b[39;49m\u001b[43mbufsize\u001b[49m\u001b[43m)\u001b[49m\n\u001b[0;32m    545\u001b[0m     \u001b[38;5;28;01mif\u001b[39;00m \u001b[38;5;129;01mnot\u001b[39;00m buf:\n\u001b[0;32m    546\u001b[0m         \u001b[38;5;28;01mbreak\u001b[39;00m\n",
      "File \u001b[1;32mc:\\Users\\hudso\\miniconda3\\envs\\backend\\lib\\site-packages\\datasets\\utils\\file_utils.py:1104\u001b[0m, in \u001b[0;36m_add_retries_to_file_obj_read_method.<locals>.read_with_retries\u001b[1;34m(*args, **kwargs)\u001b[0m\n\u001b[0;32m   1102\u001b[0m \u001b[38;5;28;01mfor\u001b[39;00m retry \u001b[38;5;129;01min\u001b[39;00m \u001b[38;5;28mrange\u001b[39m(\u001b[38;5;241m1\u001b[39m, max_retries \u001b[38;5;241m+\u001b[39m \u001b[38;5;241m1\u001b[39m):\n\u001b[0;32m   1103\u001b[0m     \u001b[38;5;28;01mtry\u001b[39;00m:\n\u001b[1;32m-> 1104\u001b[0m         out \u001b[38;5;241m=\u001b[39m read(\u001b[38;5;241m*\u001b[39margs, \u001b[38;5;241m*\u001b[39m\u001b[38;5;241m*\u001b[39mkwargs)\n\u001b[0;32m   1105\u001b[0m         \u001b[38;5;28;01mbreak\u001b[39;00m\n\u001b[0;32m   1106\u001b[0m     \u001b[38;5;28;01mexcept\u001b[39;00m (ClientError, \u001b[38;5;167;01mTimeoutError\u001b[39;00m) \u001b[38;5;28;01mas\u001b[39;00m err:\n",
      "File \u001b[1;32mc:\\Users\\hudso\\miniconda3\\envs\\backend\\lib\\site-packages\\huggingface_hub\\hf_file_system.py:755\u001b[0m, in \u001b[0;36mHfFileSystemFile.read\u001b[1;34m(self, length)\u001b[0m\n\u001b[0;32m    753\u001b[0m     \u001b[38;5;28;01mwith\u001b[39;00m \u001b[38;5;28mself\u001b[39m\u001b[38;5;241m.\u001b[39mfs\u001b[38;5;241m.\u001b[39mopen(\u001b[38;5;28mself\u001b[39m\u001b[38;5;241m.\u001b[39mpath, \u001b[38;5;124m\"\u001b[39m\u001b[38;5;124mrb\u001b[39m\u001b[38;5;124m\"\u001b[39m, block_size\u001b[38;5;241m=\u001b[39m\u001b[38;5;241m0\u001b[39m) \u001b[38;5;28;01mas\u001b[39;00m f:  \u001b[38;5;66;03m# block_size=0 enables fast streaming\u001b[39;00m\n\u001b[0;32m    754\u001b[0m         \u001b[38;5;28;01mreturn\u001b[39;00m f\u001b[38;5;241m.\u001b[39mread()\n\u001b[1;32m--> 755\u001b[0m \u001b[38;5;28;01mreturn\u001b[39;00m \u001b[38;5;28;43msuper\u001b[39;49m\u001b[43m(\u001b[49m\u001b[43m)\u001b[49m\u001b[38;5;241;43m.\u001b[39;49m\u001b[43mread\u001b[49m\u001b[43m(\u001b[49m\u001b[43mlength\u001b[49m\u001b[43m)\u001b[49m\n",
      "File \u001b[1;32mc:\\Users\\hudso\\miniconda3\\envs\\backend\\lib\\site-packages\\fsspec\\spec.py:1844\u001b[0m, in \u001b[0;36mAbstractBufferedFile.read\u001b[1;34m(self, length)\u001b[0m\n\u001b[0;32m   1841\u001b[0m \u001b[38;5;28;01mif\u001b[39;00m length \u001b[38;5;241m==\u001b[39m \u001b[38;5;241m0\u001b[39m:\n\u001b[0;32m   1842\u001b[0m     \u001b[38;5;66;03m# don't even bother calling fetch\u001b[39;00m\n\u001b[0;32m   1843\u001b[0m     \u001b[38;5;28;01mreturn\u001b[39;00m \u001b[38;5;124mb\u001b[39m\u001b[38;5;124m\"\u001b[39m\u001b[38;5;124m\"\u001b[39m\n\u001b[1;32m-> 1844\u001b[0m out \u001b[38;5;241m=\u001b[39m \u001b[38;5;28;43mself\u001b[39;49m\u001b[38;5;241;43m.\u001b[39;49m\u001b[43mcache\u001b[49m\u001b[38;5;241;43m.\u001b[39;49m\u001b[43m_fetch\u001b[49m\u001b[43m(\u001b[49m\u001b[38;5;28;43mself\u001b[39;49m\u001b[38;5;241;43m.\u001b[39;49m\u001b[43mloc\u001b[49m\u001b[43m,\u001b[49m\u001b[43m \u001b[49m\u001b[38;5;28;43mself\u001b[39;49m\u001b[38;5;241;43m.\u001b[39;49m\u001b[43mloc\u001b[49m\u001b[43m \u001b[49m\u001b[38;5;241;43m+\u001b[39;49m\u001b[43m \u001b[49m\u001b[43mlength\u001b[49m\u001b[43m)\u001b[49m\n\u001b[0;32m   1845\u001b[0m \u001b[38;5;28mself\u001b[39m\u001b[38;5;241m.\u001b[39mloc \u001b[38;5;241m+\u001b[39m\u001b[38;5;241m=\u001b[39m \u001b[38;5;28mlen\u001b[39m(out)\n\u001b[0;32m   1846\u001b[0m \u001b[38;5;28;01mreturn\u001b[39;00m out\n",
      "File \u001b[1;32mc:\\Users\\hudso\\miniconda3\\envs\\backend\\lib\\site-packages\\fsspec\\caching.py:189\u001b[0m, in \u001b[0;36mReadAheadCache._fetch\u001b[1;34m(self, start, end)\u001b[0m\n\u001b[0;32m    187\u001b[0m     part \u001b[38;5;241m=\u001b[39m \u001b[38;5;124mb\u001b[39m\u001b[38;5;124m\"\u001b[39m\u001b[38;5;124m\"\u001b[39m\n\u001b[0;32m    188\u001b[0m end \u001b[38;5;241m=\u001b[39m \u001b[38;5;28mmin\u001b[39m(\u001b[38;5;28mself\u001b[39m\u001b[38;5;241m.\u001b[39msize, end \u001b[38;5;241m+\u001b[39m \u001b[38;5;28mself\u001b[39m\u001b[38;5;241m.\u001b[39mblocksize)\n\u001b[1;32m--> 189\u001b[0m \u001b[38;5;28mself\u001b[39m\u001b[38;5;241m.\u001b[39mcache \u001b[38;5;241m=\u001b[39m \u001b[38;5;28;43mself\u001b[39;49m\u001b[38;5;241;43m.\u001b[39;49m\u001b[43mfetcher\u001b[49m\u001b[43m(\u001b[49m\u001b[43mstart\u001b[49m\u001b[43m,\u001b[49m\u001b[43m \u001b[49m\u001b[43mend\u001b[49m\u001b[43m)\u001b[49m  \u001b[38;5;66;03m# new block replaces old\u001b[39;00m\n\u001b[0;32m    190\u001b[0m \u001b[38;5;28mself\u001b[39m\u001b[38;5;241m.\u001b[39mstart \u001b[38;5;241m=\u001b[39m start\n\u001b[0;32m    191\u001b[0m \u001b[38;5;28mself\u001b[39m\u001b[38;5;241m.\u001b[39mend \u001b[38;5;241m=\u001b[39m \u001b[38;5;28mself\u001b[39m\u001b[38;5;241m.\u001b[39mstart \u001b[38;5;241m+\u001b[39m \u001b[38;5;28mlen\u001b[39m(\u001b[38;5;28mself\u001b[39m\u001b[38;5;241m.\u001b[39mcache)\n",
      "File \u001b[1;32mc:\\Users\\hudso\\miniconda3\\envs\\backend\\lib\\site-packages\\huggingface_hub\\hf_file_system.py:711\u001b[0m, in \u001b[0;36mHfFileSystemFile._fetch_range\u001b[1;34m(self, start, end)\u001b[0m\n\u001b[0;32m    700\u001b[0m headers \u001b[38;5;241m=\u001b[39m {\n\u001b[0;32m    701\u001b[0m     \u001b[38;5;124m\"\u001b[39m\u001b[38;5;124mrange\u001b[39m\u001b[38;5;124m\"\u001b[39m: \u001b[38;5;124mf\u001b[39m\u001b[38;5;124m\"\u001b[39m\u001b[38;5;124mbytes=\u001b[39m\u001b[38;5;132;01m{\u001b[39;00mstart\u001b[38;5;132;01m}\u001b[39;00m\u001b[38;5;124m-\u001b[39m\u001b[38;5;132;01m{\u001b[39;00mend\u001b[38;5;250m \u001b[39m\u001b[38;5;241m-\u001b[39m\u001b[38;5;250m \u001b[39m\u001b[38;5;241m1\u001b[39m\u001b[38;5;132;01m}\u001b[39;00m\u001b[38;5;124m\"\u001b[39m,\n\u001b[0;32m    702\u001b[0m     \u001b[38;5;241m*\u001b[39m\u001b[38;5;241m*\u001b[39m\u001b[38;5;28mself\u001b[39m\u001b[38;5;241m.\u001b[39mfs\u001b[38;5;241m.\u001b[39m_api\u001b[38;5;241m.\u001b[39m_build_hf_headers(),\n\u001b[0;32m    703\u001b[0m }\n\u001b[0;32m    704\u001b[0m url \u001b[38;5;241m=\u001b[39m hf_hub_url(\n\u001b[0;32m    705\u001b[0m     repo_id\u001b[38;5;241m=\u001b[39m\u001b[38;5;28mself\u001b[39m\u001b[38;5;241m.\u001b[39mresolved_path\u001b[38;5;241m.\u001b[39mrepo_id,\n\u001b[0;32m    706\u001b[0m     revision\u001b[38;5;241m=\u001b[39m\u001b[38;5;28mself\u001b[39m\u001b[38;5;241m.\u001b[39mresolved_path\u001b[38;5;241m.\u001b[39mrevision,\n\u001b[1;32m   (...)\u001b[0m\n\u001b[0;32m    709\u001b[0m     endpoint\u001b[38;5;241m=\u001b[39m\u001b[38;5;28mself\u001b[39m\u001b[38;5;241m.\u001b[39mfs\u001b[38;5;241m.\u001b[39mendpoint,\n\u001b[0;32m    710\u001b[0m )\n\u001b[1;32m--> 711\u001b[0m r \u001b[38;5;241m=\u001b[39m \u001b[43mhttp_backoff\u001b[49m\u001b[43m(\u001b[49m\n\u001b[0;32m    712\u001b[0m \u001b[43m    \u001b[49m\u001b[38;5;124;43m\"\u001b[39;49m\u001b[38;5;124;43mGET\u001b[39;49m\u001b[38;5;124;43m\"\u001b[39;49m\u001b[43m,\u001b[49m\n\u001b[0;32m    713\u001b[0m \u001b[43m    \u001b[49m\u001b[43murl\u001b[49m\u001b[43m,\u001b[49m\n\u001b[0;32m    714\u001b[0m \u001b[43m    \u001b[49m\u001b[43mheaders\u001b[49m\u001b[38;5;241;43m=\u001b[39;49m\u001b[43mheaders\u001b[49m\u001b[43m,\u001b[49m\n\u001b[0;32m    715\u001b[0m \u001b[43m    \u001b[49m\u001b[43mretry_on_status_codes\u001b[49m\u001b[38;5;241;43m=\u001b[39;49m\u001b[43m(\u001b[49m\u001b[38;5;241;43m502\u001b[39;49m\u001b[43m,\u001b[49m\u001b[43m \u001b[49m\u001b[38;5;241;43m503\u001b[39;49m\u001b[43m,\u001b[49m\u001b[43m \u001b[49m\u001b[38;5;241;43m504\u001b[39;49m\u001b[43m)\u001b[49m\u001b[43m,\u001b[49m\n\u001b[0;32m    716\u001b[0m \u001b[43m    \u001b[49m\u001b[43mtimeout\u001b[49m\u001b[38;5;241;43m=\u001b[39;49m\u001b[43mHF_HUB_DOWNLOAD_TIMEOUT\u001b[49m\u001b[43m,\u001b[49m\n\u001b[0;32m    717\u001b[0m \u001b[43m\u001b[49m\u001b[43m)\u001b[49m\n\u001b[0;32m    718\u001b[0m hf_raise_for_status(r)\n\u001b[0;32m    719\u001b[0m \u001b[38;5;28;01mreturn\u001b[39;00m r\u001b[38;5;241m.\u001b[39mcontent\n",
      "File \u001b[1;32mc:\\Users\\hudso\\miniconda3\\envs\\backend\\lib\\site-packages\\huggingface_hub\\utils\\_http.py:280\u001b[0m, in \u001b[0;36mhttp_backoff\u001b[1;34m(method, url, max_retries, base_wait_time, max_wait_time, retry_on_exceptions, retry_on_status_codes, **kwargs)\u001b[0m\n\u001b[0;32m    277\u001b[0m     kwargs[\u001b[38;5;124m\"\u001b[39m\u001b[38;5;124mdata\u001b[39m\u001b[38;5;124m\"\u001b[39m]\u001b[38;5;241m.\u001b[39mseek(io_obj_initial_pos)\n\u001b[0;32m    279\u001b[0m \u001b[38;5;66;03m# Perform request and return if status_code is not in the retry list.\u001b[39;00m\n\u001b[1;32m--> 280\u001b[0m response \u001b[38;5;241m=\u001b[39m session\u001b[38;5;241m.\u001b[39mrequest(method\u001b[38;5;241m=\u001b[39mmethod, url\u001b[38;5;241m=\u001b[39murl, \u001b[38;5;241m*\u001b[39m\u001b[38;5;241m*\u001b[39mkwargs)\n\u001b[0;32m    281\u001b[0m \u001b[38;5;28;01mif\u001b[39;00m response\u001b[38;5;241m.\u001b[39mstatus_code \u001b[38;5;129;01mnot\u001b[39;00m \u001b[38;5;129;01min\u001b[39;00m retry_on_status_codes:\n\u001b[0;32m    282\u001b[0m     \u001b[38;5;28;01mreturn\u001b[39;00m response\n",
      "File \u001b[1;32mc:\\Users\\hudso\\miniconda3\\envs\\backend\\lib\\site-packages\\requests\\sessions.py:589\u001b[0m, in \u001b[0;36mSession.request\u001b[1;34m(self, method, url, params, data, headers, cookies, files, auth, timeout, allow_redirects, proxies, hooks, stream, verify, cert, json)\u001b[0m\n\u001b[0;32m    584\u001b[0m send_kwargs \u001b[38;5;241m=\u001b[39m {\n\u001b[0;32m    585\u001b[0m     \u001b[38;5;124m\"\u001b[39m\u001b[38;5;124mtimeout\u001b[39m\u001b[38;5;124m\"\u001b[39m: timeout,\n\u001b[0;32m    586\u001b[0m     \u001b[38;5;124m\"\u001b[39m\u001b[38;5;124mallow_redirects\u001b[39m\u001b[38;5;124m\"\u001b[39m: allow_redirects,\n\u001b[0;32m    587\u001b[0m }\n\u001b[0;32m    588\u001b[0m send_kwargs\u001b[38;5;241m.\u001b[39mupdate(settings)\n\u001b[1;32m--> 589\u001b[0m resp \u001b[38;5;241m=\u001b[39m \u001b[38;5;28mself\u001b[39m\u001b[38;5;241m.\u001b[39msend(prep, \u001b[38;5;241m*\u001b[39m\u001b[38;5;241m*\u001b[39msend_kwargs)\n\u001b[0;32m    591\u001b[0m \u001b[38;5;28;01mreturn\u001b[39;00m resp\n",
      "File \u001b[1;32mc:\\Users\\hudso\\miniconda3\\envs\\backend\\lib\\site-packages\\requests\\sessions.py:703\u001b[0m, in \u001b[0;36mSession.send\u001b[1;34m(self, request, **kwargs)\u001b[0m\n\u001b[0;32m    700\u001b[0m start \u001b[38;5;241m=\u001b[39m preferred_clock()\n\u001b[0;32m    702\u001b[0m \u001b[38;5;66;03m# Send the request\u001b[39;00m\n\u001b[1;32m--> 703\u001b[0m r \u001b[38;5;241m=\u001b[39m adapter\u001b[38;5;241m.\u001b[39msend(request, \u001b[38;5;241m*\u001b[39m\u001b[38;5;241m*\u001b[39mkwargs)\n\u001b[0;32m    705\u001b[0m \u001b[38;5;66;03m# Total elapsed time of the request (approximately)\u001b[39;00m\n\u001b[0;32m    706\u001b[0m elapsed \u001b[38;5;241m=\u001b[39m preferred_clock() \u001b[38;5;241m-\u001b[39m start\n",
      "File \u001b[1;32mc:\\Users\\hudso\\miniconda3\\envs\\backend\\lib\\site-packages\\huggingface_hub\\utils\\_http.py:66\u001b[0m, in \u001b[0;36mUniqueRequestIdAdapter.send\u001b[1;34m(self, request, *args, **kwargs)\u001b[0m\n\u001b[0;32m     64\u001b[0m \u001b[38;5;250m\u001b[39m\u001b[38;5;124;03m\"\"\"Catch any RequestException to append request id to the error message for debugging.\"\"\"\u001b[39;00m\n\u001b[0;32m     65\u001b[0m \u001b[38;5;28;01mtry\u001b[39;00m:\n\u001b[1;32m---> 66\u001b[0m     \u001b[38;5;28;01mreturn\u001b[39;00m \u001b[38;5;28msuper\u001b[39m()\u001b[38;5;241m.\u001b[39msend(request, \u001b[38;5;241m*\u001b[39margs, \u001b[38;5;241m*\u001b[39m\u001b[38;5;241m*\u001b[39mkwargs)\n\u001b[0;32m     67\u001b[0m \u001b[38;5;28;01mexcept\u001b[39;00m requests\u001b[38;5;241m.\u001b[39mRequestException \u001b[38;5;28;01mas\u001b[39;00m e:\n\u001b[0;32m     68\u001b[0m     request_id \u001b[38;5;241m=\u001b[39m request\u001b[38;5;241m.\u001b[39mheaders\u001b[38;5;241m.\u001b[39mget(X_AMZN_TRACE_ID)\n",
      "File \u001b[1;32mc:\\Users\\hudso\\miniconda3\\envs\\backend\\lib\\site-packages\\requests\\adapters.py:667\u001b[0m, in \u001b[0;36mHTTPAdapter.send\u001b[1;34m(self, request, stream, timeout, verify, cert, proxies)\u001b[0m\n\u001b[0;32m    664\u001b[0m     timeout \u001b[38;5;241m=\u001b[39m TimeoutSauce(connect\u001b[38;5;241m=\u001b[39mtimeout, read\u001b[38;5;241m=\u001b[39mtimeout)\n\u001b[0;32m    666\u001b[0m \u001b[38;5;28;01mtry\u001b[39;00m:\n\u001b[1;32m--> 667\u001b[0m     resp \u001b[38;5;241m=\u001b[39m \u001b[43mconn\u001b[49m\u001b[38;5;241;43m.\u001b[39;49m\u001b[43murlopen\u001b[49m\u001b[43m(\u001b[49m\n\u001b[0;32m    668\u001b[0m \u001b[43m        \u001b[49m\u001b[43mmethod\u001b[49m\u001b[38;5;241;43m=\u001b[39;49m\u001b[43mrequest\u001b[49m\u001b[38;5;241;43m.\u001b[39;49m\u001b[43mmethod\u001b[49m\u001b[43m,\u001b[49m\n\u001b[0;32m    669\u001b[0m \u001b[43m        \u001b[49m\u001b[43murl\u001b[49m\u001b[38;5;241;43m=\u001b[39;49m\u001b[43murl\u001b[49m\u001b[43m,\u001b[49m\n\u001b[0;32m    670\u001b[0m \u001b[43m        \u001b[49m\u001b[43mbody\u001b[49m\u001b[38;5;241;43m=\u001b[39;49m\u001b[43mrequest\u001b[49m\u001b[38;5;241;43m.\u001b[39;49m\u001b[43mbody\u001b[49m\u001b[43m,\u001b[49m\n\u001b[0;32m    671\u001b[0m \u001b[43m        \u001b[49m\u001b[43mheaders\u001b[49m\u001b[38;5;241;43m=\u001b[39;49m\u001b[43mrequest\u001b[49m\u001b[38;5;241;43m.\u001b[39;49m\u001b[43mheaders\u001b[49m\u001b[43m,\u001b[49m\n\u001b[0;32m    672\u001b[0m \u001b[43m        \u001b[49m\u001b[43mredirect\u001b[49m\u001b[38;5;241;43m=\u001b[39;49m\u001b[38;5;28;43;01mFalse\u001b[39;49;00m\u001b[43m,\u001b[49m\n\u001b[0;32m    673\u001b[0m \u001b[43m        \u001b[49m\u001b[43massert_same_host\u001b[49m\u001b[38;5;241;43m=\u001b[39;49m\u001b[38;5;28;43;01mFalse\u001b[39;49;00m\u001b[43m,\u001b[49m\n\u001b[0;32m    674\u001b[0m \u001b[43m        \u001b[49m\u001b[43mpreload_content\u001b[49m\u001b[38;5;241;43m=\u001b[39;49m\u001b[38;5;28;43;01mFalse\u001b[39;49;00m\u001b[43m,\u001b[49m\n\u001b[0;32m    675\u001b[0m \u001b[43m        \u001b[49m\u001b[43mdecode_content\u001b[49m\u001b[38;5;241;43m=\u001b[39;49m\u001b[38;5;28;43;01mFalse\u001b[39;49;00m\u001b[43m,\u001b[49m\n\u001b[0;32m    676\u001b[0m \u001b[43m        \u001b[49m\u001b[43mretries\u001b[49m\u001b[38;5;241;43m=\u001b[39;49m\u001b[38;5;28;43mself\u001b[39;49m\u001b[38;5;241;43m.\u001b[39;49m\u001b[43mmax_retries\u001b[49m\u001b[43m,\u001b[49m\n\u001b[0;32m    677\u001b[0m \u001b[43m        \u001b[49m\u001b[43mtimeout\u001b[49m\u001b[38;5;241;43m=\u001b[39;49m\u001b[43mtimeout\u001b[49m\u001b[43m,\u001b[49m\n\u001b[0;32m    678\u001b[0m \u001b[43m        \u001b[49m\u001b[43mchunked\u001b[49m\u001b[38;5;241;43m=\u001b[39;49m\u001b[43mchunked\u001b[49m\u001b[43m,\u001b[49m\n\u001b[0;32m    679\u001b[0m \u001b[43m    \u001b[49m\u001b[43m)\u001b[49m\n\u001b[0;32m    681\u001b[0m \u001b[38;5;28;01mexcept\u001b[39;00m (ProtocolError, \u001b[38;5;167;01mOSError\u001b[39;00m) \u001b[38;5;28;01mas\u001b[39;00m err:\n\u001b[0;32m    682\u001b[0m     \u001b[38;5;28;01mraise\u001b[39;00m \u001b[38;5;167;01mConnectionError\u001b[39;00m(err, request\u001b[38;5;241m=\u001b[39mrequest)\n",
      "File \u001b[1;32mc:\\Users\\hudso\\miniconda3\\envs\\backend\\lib\\site-packages\\urllib3\\connectionpool.py:790\u001b[0m, in \u001b[0;36mHTTPConnectionPool.urlopen\u001b[1;34m(self, method, url, body, headers, retries, redirect, assert_same_host, timeout, pool_timeout, release_conn, chunked, body_pos, preload_content, decode_content, **response_kw)\u001b[0m\n\u001b[0;32m    787\u001b[0m response_conn \u001b[38;5;241m=\u001b[39m conn \u001b[38;5;28;01mif\u001b[39;00m \u001b[38;5;129;01mnot\u001b[39;00m release_conn \u001b[38;5;28;01melse\u001b[39;00m \u001b[38;5;28;01mNone\u001b[39;00m\n\u001b[0;32m    789\u001b[0m \u001b[38;5;66;03m# Make the request on the HTTPConnection object\u001b[39;00m\n\u001b[1;32m--> 790\u001b[0m response \u001b[38;5;241m=\u001b[39m \u001b[38;5;28mself\u001b[39m\u001b[38;5;241m.\u001b[39m_make_request(\n\u001b[0;32m    791\u001b[0m     conn,\n\u001b[0;32m    792\u001b[0m     method,\n\u001b[0;32m    793\u001b[0m     url,\n\u001b[0;32m    794\u001b[0m     timeout\u001b[38;5;241m=\u001b[39mtimeout_obj,\n\u001b[0;32m    795\u001b[0m     body\u001b[38;5;241m=\u001b[39mbody,\n\u001b[0;32m    796\u001b[0m     headers\u001b[38;5;241m=\u001b[39mheaders,\n\u001b[0;32m    797\u001b[0m     chunked\u001b[38;5;241m=\u001b[39mchunked,\n\u001b[0;32m    798\u001b[0m     retries\u001b[38;5;241m=\u001b[39mretries,\n\u001b[0;32m    799\u001b[0m     response_conn\u001b[38;5;241m=\u001b[39mresponse_conn,\n\u001b[0;32m    800\u001b[0m     preload_content\u001b[38;5;241m=\u001b[39mpreload_content,\n\u001b[0;32m    801\u001b[0m     decode_content\u001b[38;5;241m=\u001b[39mdecode_content,\n\u001b[0;32m    802\u001b[0m     \u001b[38;5;241m*\u001b[39m\u001b[38;5;241m*\u001b[39mresponse_kw,\n\u001b[0;32m    803\u001b[0m )\n\u001b[0;32m    805\u001b[0m \u001b[38;5;66;03m# Everything went great!\u001b[39;00m\n\u001b[0;32m    806\u001b[0m clean_exit \u001b[38;5;241m=\u001b[39m \u001b[38;5;28;01mTrue\u001b[39;00m\n",
      "File \u001b[1;32mc:\\Users\\hudso\\miniconda3\\envs\\backend\\lib\\site-packages\\urllib3\\connectionpool.py:536\u001b[0m, in \u001b[0;36mHTTPConnectionPool._make_request\u001b[1;34m(self, conn, method, url, body, headers, retries, timeout, chunked, response_conn, preload_content, decode_content, enforce_content_length)\u001b[0m\n\u001b[0;32m    534\u001b[0m \u001b[38;5;66;03m# Receive the response from the server\u001b[39;00m\n\u001b[0;32m    535\u001b[0m \u001b[38;5;28;01mtry\u001b[39;00m:\n\u001b[1;32m--> 536\u001b[0m     response \u001b[38;5;241m=\u001b[39m \u001b[43mconn\u001b[49m\u001b[38;5;241;43m.\u001b[39;49m\u001b[43mgetresponse\u001b[49m\u001b[43m(\u001b[49m\u001b[43m)\u001b[49m\n\u001b[0;32m    537\u001b[0m \u001b[38;5;28;01mexcept\u001b[39;00m (BaseSSLError, \u001b[38;5;167;01mOSError\u001b[39;00m) \u001b[38;5;28;01mas\u001b[39;00m e:\n\u001b[0;32m    538\u001b[0m     \u001b[38;5;28mself\u001b[39m\u001b[38;5;241m.\u001b[39m_raise_timeout(err\u001b[38;5;241m=\u001b[39me, url\u001b[38;5;241m=\u001b[39murl, timeout_value\u001b[38;5;241m=\u001b[39mread_timeout)\n",
      "File \u001b[1;32mc:\\Users\\hudso\\miniconda3\\envs\\backend\\lib\\site-packages\\urllib3\\connection.py:461\u001b[0m, in \u001b[0;36mHTTPConnection.getresponse\u001b[1;34m(self)\u001b[0m\n\u001b[0;32m    458\u001b[0m \u001b[38;5;28;01mfrom\u001b[39;00m \u001b[38;5;21;01m.\u001b[39;00m\u001b[38;5;21;01mresponse\u001b[39;00m \u001b[38;5;28;01mimport\u001b[39;00m HTTPResponse\n\u001b[0;32m    460\u001b[0m \u001b[38;5;66;03m# Get the response from http.client.HTTPConnection\u001b[39;00m\n\u001b[1;32m--> 461\u001b[0m httplib_response \u001b[38;5;241m=\u001b[39m \u001b[38;5;28;43msuper\u001b[39;49m\u001b[43m(\u001b[49m\u001b[43m)\u001b[49m\u001b[38;5;241;43m.\u001b[39;49m\u001b[43mgetresponse\u001b[49m\u001b[43m(\u001b[49m\u001b[43m)\u001b[49m\n\u001b[0;32m    463\u001b[0m \u001b[38;5;28;01mtry\u001b[39;00m:\n\u001b[0;32m    464\u001b[0m     assert_header_parsing(httplib_response\u001b[38;5;241m.\u001b[39mmsg)\n",
      "File \u001b[1;32mc:\\Users\\hudso\\miniconda3\\envs\\backend\\lib\\http\\client.py:1375\u001b[0m, in \u001b[0;36mHTTPConnection.getresponse\u001b[1;34m(self)\u001b[0m\n\u001b[0;32m   1373\u001b[0m \u001b[38;5;28;01mtry\u001b[39;00m:\n\u001b[0;32m   1374\u001b[0m     \u001b[38;5;28;01mtry\u001b[39;00m:\n\u001b[1;32m-> 1375\u001b[0m         \u001b[43mresponse\u001b[49m\u001b[38;5;241;43m.\u001b[39;49m\u001b[43mbegin\u001b[49m\u001b[43m(\u001b[49m\u001b[43m)\u001b[49m\n\u001b[0;32m   1376\u001b[0m     \u001b[38;5;28;01mexcept\u001b[39;00m \u001b[38;5;167;01mConnectionError\u001b[39;00m:\n\u001b[0;32m   1377\u001b[0m         \u001b[38;5;28mself\u001b[39m\u001b[38;5;241m.\u001b[39mclose()\n",
      "File \u001b[1;32mc:\\Users\\hudso\\miniconda3\\envs\\backend\\lib\\http\\client.py:318\u001b[0m, in \u001b[0;36mHTTPResponse.begin\u001b[1;34m(self)\u001b[0m\n\u001b[0;32m    316\u001b[0m \u001b[38;5;66;03m# read until we get a non-100 response\u001b[39;00m\n\u001b[0;32m    317\u001b[0m \u001b[38;5;28;01mwhile\u001b[39;00m \u001b[38;5;28;01mTrue\u001b[39;00m:\n\u001b[1;32m--> 318\u001b[0m     version, status, reason \u001b[38;5;241m=\u001b[39m \u001b[38;5;28;43mself\u001b[39;49m\u001b[38;5;241;43m.\u001b[39;49m\u001b[43m_read_status\u001b[49m\u001b[43m(\u001b[49m\u001b[43m)\u001b[49m\n\u001b[0;32m    319\u001b[0m     \u001b[38;5;28;01mif\u001b[39;00m status \u001b[38;5;241m!=\u001b[39m CONTINUE:\n\u001b[0;32m    320\u001b[0m         \u001b[38;5;28;01mbreak\u001b[39;00m\n",
      "File \u001b[1;32mc:\\Users\\hudso\\miniconda3\\envs\\backend\\lib\\http\\client.py:279\u001b[0m, in \u001b[0;36mHTTPResponse._read_status\u001b[1;34m(self)\u001b[0m\n\u001b[0;32m    278\u001b[0m \u001b[38;5;28;01mdef\u001b[39;00m \u001b[38;5;21m_read_status\u001b[39m(\u001b[38;5;28mself\u001b[39m):\n\u001b[1;32m--> 279\u001b[0m     line \u001b[38;5;241m=\u001b[39m \u001b[38;5;28mstr\u001b[39m(\u001b[38;5;28;43mself\u001b[39;49m\u001b[38;5;241;43m.\u001b[39;49m\u001b[43mfp\u001b[49m\u001b[38;5;241;43m.\u001b[39;49m\u001b[43mreadline\u001b[49m\u001b[43m(\u001b[49m\u001b[43m_MAXLINE\u001b[49m\u001b[43m \u001b[49m\u001b[38;5;241;43m+\u001b[39;49m\u001b[43m \u001b[49m\u001b[38;5;241;43m1\u001b[39;49m\u001b[43m)\u001b[49m, \u001b[38;5;124m\"\u001b[39m\u001b[38;5;124miso-8859-1\u001b[39m\u001b[38;5;124m\"\u001b[39m)\n\u001b[0;32m    280\u001b[0m     \u001b[38;5;28;01mif\u001b[39;00m \u001b[38;5;28mlen\u001b[39m(line) \u001b[38;5;241m>\u001b[39m _MAXLINE:\n\u001b[0;32m    281\u001b[0m         \u001b[38;5;28;01mraise\u001b[39;00m LineTooLong(\u001b[38;5;124m\"\u001b[39m\u001b[38;5;124mstatus line\u001b[39m\u001b[38;5;124m\"\u001b[39m)\n",
      "File \u001b[1;32mc:\\Users\\hudso\\miniconda3\\envs\\backend\\lib\\socket.py:705\u001b[0m, in \u001b[0;36mSocketIO.readinto\u001b[1;34m(self, b)\u001b[0m\n\u001b[0;32m    703\u001b[0m \u001b[38;5;28;01mwhile\u001b[39;00m \u001b[38;5;28;01mTrue\u001b[39;00m:\n\u001b[0;32m    704\u001b[0m     \u001b[38;5;28;01mtry\u001b[39;00m:\n\u001b[1;32m--> 705\u001b[0m         \u001b[38;5;28;01mreturn\u001b[39;00m \u001b[38;5;28;43mself\u001b[39;49m\u001b[38;5;241;43m.\u001b[39;49m\u001b[43m_sock\u001b[49m\u001b[38;5;241;43m.\u001b[39;49m\u001b[43mrecv_into\u001b[49m\u001b[43m(\u001b[49m\u001b[43mb\u001b[49m\u001b[43m)\u001b[49m\n\u001b[0;32m    706\u001b[0m     \u001b[38;5;28;01mexcept\u001b[39;00m timeout:\n\u001b[0;32m    707\u001b[0m         \u001b[38;5;28mself\u001b[39m\u001b[38;5;241m.\u001b[39m_timeout_occurred \u001b[38;5;241m=\u001b[39m \u001b[38;5;28;01mTrue\u001b[39;00m\n",
      "File \u001b[1;32mc:\\Users\\hudso\\miniconda3\\envs\\backend\\lib\\ssl.py:1307\u001b[0m, in \u001b[0;36mSSLSocket.recv_into\u001b[1;34m(self, buffer, nbytes, flags)\u001b[0m\n\u001b[0;32m   1303\u001b[0m     \u001b[38;5;28;01mif\u001b[39;00m flags \u001b[38;5;241m!=\u001b[39m \u001b[38;5;241m0\u001b[39m:\n\u001b[0;32m   1304\u001b[0m         \u001b[38;5;28;01mraise\u001b[39;00m \u001b[38;5;167;01mValueError\u001b[39;00m(\n\u001b[0;32m   1305\u001b[0m           \u001b[38;5;124m\"\u001b[39m\u001b[38;5;124mnon-zero flags not allowed in calls to recv_into() on \u001b[39m\u001b[38;5;132;01m%s\u001b[39;00m\u001b[38;5;124m\"\u001b[39m \u001b[38;5;241m%\u001b[39m\n\u001b[0;32m   1306\u001b[0m           \u001b[38;5;28mself\u001b[39m\u001b[38;5;241m.\u001b[39m\u001b[38;5;18m__class__\u001b[39m)\n\u001b[1;32m-> 1307\u001b[0m     \u001b[38;5;28;01mreturn\u001b[39;00m \u001b[38;5;28;43mself\u001b[39;49m\u001b[38;5;241;43m.\u001b[39;49m\u001b[43mread\u001b[49m\u001b[43m(\u001b[49m\u001b[43mnbytes\u001b[49m\u001b[43m,\u001b[49m\u001b[43m \u001b[49m\u001b[43mbuffer\u001b[49m\u001b[43m)\u001b[49m\n\u001b[0;32m   1308\u001b[0m \u001b[38;5;28;01melse\u001b[39;00m:\n\u001b[0;32m   1309\u001b[0m     \u001b[38;5;28;01mreturn\u001b[39;00m \u001b[38;5;28msuper\u001b[39m()\u001b[38;5;241m.\u001b[39mrecv_into(buffer, nbytes, flags)\n",
      "File \u001b[1;32mc:\\Users\\hudso\\miniconda3\\envs\\backend\\lib\\ssl.py:1163\u001b[0m, in \u001b[0;36mSSLSocket.read\u001b[1;34m(self, len, buffer)\u001b[0m\n\u001b[0;32m   1161\u001b[0m \u001b[38;5;28;01mtry\u001b[39;00m:\n\u001b[0;32m   1162\u001b[0m     \u001b[38;5;28;01mif\u001b[39;00m buffer \u001b[38;5;129;01mis\u001b[39;00m \u001b[38;5;129;01mnot\u001b[39;00m \u001b[38;5;28;01mNone\u001b[39;00m:\n\u001b[1;32m-> 1163\u001b[0m         \u001b[38;5;28;01mreturn\u001b[39;00m \u001b[38;5;28;43mself\u001b[39;49m\u001b[38;5;241;43m.\u001b[39;49m\u001b[43m_sslobj\u001b[49m\u001b[38;5;241;43m.\u001b[39;49m\u001b[43mread\u001b[49m\u001b[43m(\u001b[49m\u001b[38;5;28;43mlen\u001b[39;49m\u001b[43m,\u001b[49m\u001b[43m \u001b[49m\u001b[43mbuffer\u001b[49m\u001b[43m)\u001b[49m\n\u001b[0;32m   1164\u001b[0m     \u001b[38;5;28;01melse\u001b[39;00m:\n\u001b[0;32m   1165\u001b[0m         \u001b[38;5;28;01mreturn\u001b[39;00m \u001b[38;5;28mself\u001b[39m\u001b[38;5;241m.\u001b[39m_sslobj\u001b[38;5;241m.\u001b[39mread(\u001b[38;5;28mlen\u001b[39m)\n",
      "\u001b[1;31mKeyboardInterrupt\u001b[0m: "
     ]
    }
   ],
   "source": [
    "for i in filtered_dataset2:\n",
    "    print(i)"
   ]
  },
  {
   "cell_type": "code",
   "execution_count": 1,
   "metadata": {},
   "outputs": [
    {
     "ename": "NameError",
     "evalue": "name 'someon' is not defined",
     "output_type": "error",
     "traceback": [
      "\u001b[1;31m---------------------------------------------------------------------------\u001b[0m",
      "\u001b[1;31mNameError\u001b[0m                                 Traceback (most recent call last)",
      "Cell \u001b[1;32mIn[1], line 4\u001b[0m\n\u001b[0;32m      1\u001b[0m \u001b[38;5;28;01mdef\u001b[39;00m \u001b[38;5;21mgreet\u001b[39m(someone):\n\u001b[0;32m      2\u001b[0m     \u001b[38;5;28mprint\u001b[39m(\u001b[38;5;124m'\u001b[39m\u001b[38;5;124mHello, \u001b[39m\u001b[38;5;124m'\u001b[39m \u001b[38;5;241m+\u001b[39m someon)\n\u001b[1;32m----> 4\u001b[0m \u001b[43mgreet\u001b[49m\u001b[43m(\u001b[49m\u001b[38;5;124;43m'\u001b[39;49m\u001b[38;5;124;43mChad\u001b[39;49m\u001b[38;5;124;43m'\u001b[39;49m\u001b[43m)\u001b[49m\n",
      "Cell \u001b[1;32mIn[1], line 2\u001b[0m, in \u001b[0;36mgreet\u001b[1;34m(someone)\u001b[0m\n\u001b[0;32m      1\u001b[0m \u001b[38;5;28;01mdef\u001b[39;00m \u001b[38;5;21mgreet\u001b[39m(someone):\n\u001b[1;32m----> 2\u001b[0m     \u001b[38;5;28mprint\u001b[39m(\u001b[38;5;124m'\u001b[39m\u001b[38;5;124mHello, \u001b[39m\u001b[38;5;124m'\u001b[39m \u001b[38;5;241m+\u001b[39m \u001b[43msomeon\u001b[49m)\n",
      "\u001b[1;31mNameError\u001b[0m: name 'someon' is not defined"
     ]
    }
   ],
   "source": [
    "def greet(someone):\n",
    "    print('Hello, ' + someon)\n",
    "\n",
    "greet('Chad')"
   ]
  },
  {
   "cell_type": "code",
   "execution_count": 2,
   "metadata": {},
   "outputs": [
    {
     "ename": "InvalidSchema",
     "evalue": "No connection adapters were found for '--f=c:\\\\Users\\\\hudso\\\\AppData\\\\Roaming\\\\jupyter\\\\runtime\\\\kernel-v2-3304ktoJIaxQsUJt.json'",
     "output_type": "error",
     "traceback": [
      "\u001b[1;31m---------------------------------------------------------------------------\u001b[0m",
      "\u001b[1;31mInvalidSchema\u001b[0m                             Traceback (most recent call last)",
      "Cell \u001b[1;32mIn[2], line 5\u001b[0m\n\u001b[0;32m      2\u001b[0m \u001b[38;5;28;01mimport\u001b[39;00m \u001b[38;5;21;01msys\u001b[39;00m\n\u001b[0;32m      3\u001b[0m \u001b[38;5;28;01mimport\u001b[39;00m \u001b[38;5;21;01mrequests\u001b[39;00m\n\u001b[1;32m----> 5\u001b[0m response \u001b[38;5;241m=\u001b[39m \u001b[43mrequests\u001b[49m\u001b[38;5;241;43m.\u001b[39;49m\u001b[43mget\u001b[49m\u001b[43m(\u001b[49m\u001b[43msys\u001b[49m\u001b[38;5;241;43m.\u001b[39;49m\u001b[43margv\u001b[49m\u001b[43m[\u001b[49m\u001b[38;5;241;43m1\u001b[39;49m\u001b[43m]\u001b[49m\u001b[43m)\u001b[49m\n\u001b[0;32m      7\u001b[0m \u001b[38;5;28mprint\u001b[39m(response\u001b[38;5;241m.\u001b[39mstatus_code, response\u001b[38;5;241m.\u001b[39mcontent)\n",
      "File \u001b[1;32mc:\\Users\\hudso\\miniconda3\\envs\\backend\\lib\\site-packages\\requests\\api.py:73\u001b[0m, in \u001b[0;36mget\u001b[1;34m(url, params, **kwargs)\u001b[0m\n\u001b[0;32m     62\u001b[0m \u001b[38;5;28;01mdef\u001b[39;00m \u001b[38;5;21mget\u001b[39m(url, params\u001b[38;5;241m=\u001b[39m\u001b[38;5;28;01mNone\u001b[39;00m, \u001b[38;5;241m*\u001b[39m\u001b[38;5;241m*\u001b[39mkwargs):\n\u001b[0;32m     63\u001b[0m \u001b[38;5;250m    \u001b[39m\u001b[38;5;124mr\u001b[39m\u001b[38;5;124;03m\"\"\"Sends a GET request.\u001b[39;00m\n\u001b[0;32m     64\u001b[0m \n\u001b[0;32m     65\u001b[0m \u001b[38;5;124;03m    :param url: URL for the new :class:`Request` object.\u001b[39;00m\n\u001b[1;32m   (...)\u001b[0m\n\u001b[0;32m     70\u001b[0m \u001b[38;5;124;03m    :rtype: requests.Response\u001b[39;00m\n\u001b[0;32m     71\u001b[0m \u001b[38;5;124;03m    \"\"\"\u001b[39;00m\n\u001b[1;32m---> 73\u001b[0m     \u001b[38;5;28;01mreturn\u001b[39;00m request(\u001b[38;5;124m\"\u001b[39m\u001b[38;5;124mget\u001b[39m\u001b[38;5;124m\"\u001b[39m, url, params\u001b[38;5;241m=\u001b[39mparams, \u001b[38;5;241m*\u001b[39m\u001b[38;5;241m*\u001b[39mkwargs)\n",
      "File \u001b[1;32mc:\\Users\\hudso\\miniconda3\\envs\\backend\\lib\\site-packages\\requests\\api.py:59\u001b[0m, in \u001b[0;36mrequest\u001b[1;34m(method, url, **kwargs)\u001b[0m\n\u001b[0;32m     55\u001b[0m \u001b[38;5;66;03m# By using the 'with' statement we are sure the session is closed, thus we\u001b[39;00m\n\u001b[0;32m     56\u001b[0m \u001b[38;5;66;03m# avoid leaving sockets open which can trigger a ResourceWarning in some\u001b[39;00m\n\u001b[0;32m     57\u001b[0m \u001b[38;5;66;03m# cases, and look like a memory leak in others.\u001b[39;00m\n\u001b[0;32m     58\u001b[0m \u001b[38;5;28;01mwith\u001b[39;00m sessions\u001b[38;5;241m.\u001b[39mSession() \u001b[38;5;28;01mas\u001b[39;00m session:\n\u001b[1;32m---> 59\u001b[0m     \u001b[38;5;28;01mreturn\u001b[39;00m session\u001b[38;5;241m.\u001b[39mrequest(method\u001b[38;5;241m=\u001b[39mmethod, url\u001b[38;5;241m=\u001b[39murl, \u001b[38;5;241m*\u001b[39m\u001b[38;5;241m*\u001b[39mkwargs)\n",
      "File \u001b[1;32mc:\\Users\\hudso\\miniconda3\\envs\\backend\\lib\\site-packages\\requests\\sessions.py:589\u001b[0m, in \u001b[0;36mSession.request\u001b[1;34m(self, method, url, params, data, headers, cookies, files, auth, timeout, allow_redirects, proxies, hooks, stream, verify, cert, json)\u001b[0m\n\u001b[0;32m    584\u001b[0m send_kwargs \u001b[38;5;241m=\u001b[39m {\n\u001b[0;32m    585\u001b[0m     \u001b[38;5;124m\"\u001b[39m\u001b[38;5;124mtimeout\u001b[39m\u001b[38;5;124m\"\u001b[39m: timeout,\n\u001b[0;32m    586\u001b[0m     \u001b[38;5;124m\"\u001b[39m\u001b[38;5;124mallow_redirects\u001b[39m\u001b[38;5;124m\"\u001b[39m: allow_redirects,\n\u001b[0;32m    587\u001b[0m }\n\u001b[0;32m    588\u001b[0m send_kwargs\u001b[38;5;241m.\u001b[39mupdate(settings)\n\u001b[1;32m--> 589\u001b[0m resp \u001b[38;5;241m=\u001b[39m \u001b[38;5;28mself\u001b[39m\u001b[38;5;241m.\u001b[39msend(prep, \u001b[38;5;241m*\u001b[39m\u001b[38;5;241m*\u001b[39msend_kwargs)\n\u001b[0;32m    591\u001b[0m \u001b[38;5;28;01mreturn\u001b[39;00m resp\n",
      "File \u001b[1;32mc:\\Users\\hudso\\miniconda3\\envs\\backend\\lib\\site-packages\\requests\\sessions.py:697\u001b[0m, in \u001b[0;36mSession.send\u001b[1;34m(self, request, **kwargs)\u001b[0m\n\u001b[0;32m    694\u001b[0m hooks \u001b[38;5;241m=\u001b[39m request\u001b[38;5;241m.\u001b[39mhooks\n\u001b[0;32m    696\u001b[0m \u001b[38;5;66;03m# Get the appropriate adapter to use\u001b[39;00m\n\u001b[1;32m--> 697\u001b[0m adapter \u001b[38;5;241m=\u001b[39m \u001b[38;5;28;43mself\u001b[39;49m\u001b[38;5;241;43m.\u001b[39;49m\u001b[43mget_adapter\u001b[49m\u001b[43m(\u001b[49m\u001b[43murl\u001b[49m\u001b[38;5;241;43m=\u001b[39;49m\u001b[43mrequest\u001b[49m\u001b[38;5;241;43m.\u001b[39;49m\u001b[43murl\u001b[49m\u001b[43m)\u001b[49m\n\u001b[0;32m    699\u001b[0m \u001b[38;5;66;03m# Start time (approximately) of the request\u001b[39;00m\n\u001b[0;32m    700\u001b[0m start \u001b[38;5;241m=\u001b[39m preferred_clock()\n",
      "File \u001b[1;32mc:\\Users\\hudso\\miniconda3\\envs\\backend\\lib\\site-packages\\requests\\sessions.py:792\u001b[0m, in \u001b[0;36mSession.get_adapter\u001b[1;34m(self, url)\u001b[0m\n\u001b[0;32m    789\u001b[0m         \u001b[38;5;28;01mreturn\u001b[39;00m adapter\n\u001b[0;32m    791\u001b[0m \u001b[38;5;66;03m# Nothing matches :-/\u001b[39;00m\n\u001b[1;32m--> 792\u001b[0m \u001b[38;5;28;01mraise\u001b[39;00m InvalidSchema(\u001b[38;5;124mf\u001b[39m\u001b[38;5;124m\"\u001b[39m\u001b[38;5;124mNo connection adapters were found for \u001b[39m\u001b[38;5;132;01m{\u001b[39;00murl\u001b[38;5;132;01m!r}\u001b[39;00m\u001b[38;5;124m\"\u001b[39m)\n",
      "\u001b[1;31mInvalidSchema\u001b[0m: No connection adapters were found for '--f=c:\\\\Users\\\\hudso\\\\AppData\\\\Roaming\\\\jupyter\\\\runtime\\\\kernel-v2-3304ktoJIaxQsUJt.json'"
     ]
    }
   ],
   "source": [
    "# urlcaller.py\n",
    "import sys\n",
    "import requests\n",
    "\n",
    "response = requests.get(sys.argv[1])\n",
    "\n",
    "print(response.status_code, response.content)"
   ]
  },
  {
   "cell_type": "code",
   "execution_count": 42,
   "metadata": {},
   "outputs": [
    {
     "data": {
      "text/plain": [
       "[]"
      ]
     },
     "execution_count": 42,
     "metadata": {},
     "output_type": "execute_result"
    }
   ],
   "source": [
    "# example.py\n",
    "from math import sqrt\n",
    "from joblib import Parallel, delayed\n",
    "\n",
    "def producer():\n",
    "    for i in range(6):\n",
    "        print('Produced %s' % i)\n",
    "        yield i\n",
    "\n",
    "def main():\n",
    "    out = Parallel(n_jobs=2, verbose=100, pre_dispatch='1.5*n_jobs')(\n",
    "        delayed(sqrt)(i) for i in producer())\n",
    "\n",
    "if __name__ == '__main__':\n",
    "    main()"
   ]
  },
  {
   "cell_type": "code",
   "execution_count": 6,
   "metadata": {},
   "outputs": [
    {
     "name": "stdout",
     "output_type": "stream",
     "text": [
      "0\n",
      "1\n",
      "2\n",
      "3\n",
      "4\n",
      "5\n",
      "6\n",
      "7\n",
      "8\n",
      "9\n",
      "10\n",
      "11\n",
      "12\n",
      "13\n",
      "14\n",
      "15\n",
      "16\n",
      "17\n",
      "18\n",
      "19\n",
      "20\n",
      "21\n",
      "22\n",
      "23\n",
      "24\n",
      "25\n",
      "26\n",
      "27\n",
      "28\n",
      "29\n",
      "30\n",
      "31\n",
      "32\n",
      "33\n",
      "34\n",
      "35\n",
      "36\n",
      "37\n",
      "38\n",
      "39\n",
      "40\n",
      "41\n",
      "42\n",
      "43\n",
      "44\n",
      "45\n",
      "46\n",
      "47\n",
      "48\n",
      "49\n",
      "50\n",
      "51\n",
      "52\n"
     ]
    }
   ],
   "source": [
    "limit_rows = 52\n",
    "\n",
    "for i in range(100):\n",
    "    print(i)\n",
    "    i += 1\n",
    "    if i > limit_rows:\n",
    "        break"
   ]
  },
  {
   "cell_type": "code",
   "execution_count": 7,
   "metadata": {},
   "outputs": [
    {
     "name": "stdout",
     "output_type": "stream",
     "text": [
      "['c:\\\\Users\\\\hudso\\\\miniconda3\\\\envs\\\\backend\\\\lib\\\\site-packages\\\\ipykernel_launcher.py', '--f=c:\\\\Users\\\\hudso\\\\AppData\\\\Roaming\\\\jupyter\\\\runtime\\\\kernel-v2-19588Rs4s1OgXiFlh.json']\n",
      "c:\\Users\\hudso\\miniconda3\\envs\\backend\\lib\\site-packages\\ipykernel_launcher.py\n"
     ]
    }
   ],
   "source": [
    "import sys\n",
    " \n",
    "# command line arguments are stored in the form\n",
    "# of list in sys.argv\n",
    "argumentList = sys.argv\n",
    "print (argumentList)\n",
    " \n",
    "# Print the name of file\n",
    "print (sys.argv[0])"
   ]
  },
  {
   "cell_type": "code",
   "execution_count": 3,
   "metadata": {},
   "outputs": [
    {
     "name": "stdout",
     "output_type": "stream",
     "text": [
      "IterableDatasetDict({\n",
      "    train: IterableDataset({\n",
      "        features: ['id', 'utt_id', 'audio', 'text'],\n",
      "        n_shards: 500\n",
      "    })\n",
      "})\n"
     ]
    }
   ],
   "source": [
    "from datasets import load_dataset\n",
    "\n",
    "# this streaming loading will finish quickly\n",
    "ds = load_dataset('espnet/yodas', 'en000', streaming=True)\n",
    "\n",
    "\n",
    "#{'id': '9774', 'utt_id': 'YoRjzEnRcqu-00000-00000716-00000819', 'audio': {'path': None, 'array': array([-0.009552  , -0.01086426, -0.012146  , ..., -0.01992798,\n",
    "#       -0.01885986, -0.01074219]), 'sampling_rate': 16000}, 'text': 'There is a saying'}\n",
    "print(ds)\n"
   ]
  },
  {
   "cell_type": "code",
   "execution_count": 4,
   "metadata": {},
   "outputs": [
    {
     "ename": "FileNotFoundError",
     "evalue": "Directory C:\\Users\\hudso\\Downloads\\HudsonAI\\en100.hf not found",
     "output_type": "error",
     "traceback": [
      "\u001b[1;31m---------------------------------------------------------------------------\u001b[0m",
      "\u001b[1;31mFileNotFoundError\u001b[0m                         Traceback (most recent call last)",
      "Cell \u001b[1;32mIn[4], line 2\u001b[0m\n\u001b[0;32m      1\u001b[0m \u001b[38;5;28;01mfrom\u001b[39;00m \u001b[38;5;21;01mdatasets\u001b[39;00m \u001b[38;5;28;01mimport\u001b[39;00m load_from_disk\n\u001b[1;32m----> 2\u001b[0m aa \u001b[38;5;241m=\u001b[39m \u001b[43mload_from_disk\u001b[49m\u001b[43m(\u001b[49m\u001b[38;5;124;43m\"\u001b[39;49m\u001b[38;5;124;43mC:\u001b[39;49m\u001b[38;5;130;43;01m\\\\\u001b[39;49;00m\u001b[38;5;124;43mUsers\u001b[39;49m\u001b[38;5;130;43;01m\\\\\u001b[39;49;00m\u001b[38;5;124;43mhudso\u001b[39;49m\u001b[38;5;130;43;01m\\\\\u001b[39;49;00m\u001b[38;5;124;43mDownloads\u001b[39;49m\u001b[38;5;130;43;01m\\\\\u001b[39;49;00m\u001b[38;5;124;43mHudsonAI\u001b[39;49m\u001b[38;5;130;43;01m\\\\\u001b[39;49;00m\u001b[38;5;124;43men100.hf\u001b[39;49m\u001b[38;5;124;43m\"\u001b[39;49m\u001b[43m)\u001b[49m\n\u001b[0;32m      4\u001b[0m \u001b[38;5;28mprint\u001b[39m(aa)\n",
      "File \u001b[1;32mc:\\Users\\hudso\\miniconda3\\envs\\backend\\lib\\site-packages\\datasets\\load.py:2696\u001b[0m, in \u001b[0;36mload_from_disk\u001b[1;34m(dataset_path, fs, keep_in_memory, storage_options)\u001b[0m\n\u001b[0;32m   2694\u001b[0m fs, \u001b[38;5;241m*\u001b[39m_ \u001b[38;5;241m=\u001b[39m url_to_fs(dataset_path, \u001b[38;5;241m*\u001b[39m\u001b[38;5;241m*\u001b[39m(storage_options \u001b[38;5;129;01mor\u001b[39;00m {}))\n\u001b[0;32m   2695\u001b[0m \u001b[38;5;28;01mif\u001b[39;00m \u001b[38;5;129;01mnot\u001b[39;00m fs\u001b[38;5;241m.\u001b[39mexists(dataset_path):\n\u001b[1;32m-> 2696\u001b[0m     \u001b[38;5;28;01mraise\u001b[39;00m \u001b[38;5;167;01mFileNotFoundError\u001b[39;00m(\u001b[38;5;124mf\u001b[39m\u001b[38;5;124m\"\u001b[39m\u001b[38;5;124mDirectory \u001b[39m\u001b[38;5;132;01m{\u001b[39;00mdataset_path\u001b[38;5;132;01m}\u001b[39;00m\u001b[38;5;124m not found\u001b[39m\u001b[38;5;124m\"\u001b[39m)\n\u001b[0;32m   2697\u001b[0m \u001b[38;5;28;01mif\u001b[39;00m fs\u001b[38;5;241m.\u001b[39misfile(posixpath\u001b[38;5;241m.\u001b[39mjoin(dataset_path, config\u001b[38;5;241m.\u001b[39mDATASET_INFO_FILENAME)) \u001b[38;5;129;01mand\u001b[39;00m fs\u001b[38;5;241m.\u001b[39misfile(\n\u001b[0;32m   2698\u001b[0m     posixpath\u001b[38;5;241m.\u001b[39mjoin(dataset_path, config\u001b[38;5;241m.\u001b[39mDATASET_STATE_JSON_FILENAME)\n\u001b[0;32m   2699\u001b[0m ):\n\u001b[0;32m   2700\u001b[0m     \u001b[38;5;28;01mreturn\u001b[39;00m Dataset\u001b[38;5;241m.\u001b[39mload_from_disk(dataset_path, keep_in_memory\u001b[38;5;241m=\u001b[39mkeep_in_memory, storage_options\u001b[38;5;241m=\u001b[39mstorage_options)\n",
      "\u001b[1;31mFileNotFoundError\u001b[0m: Directory C:\\Users\\hudso\\Downloads\\HudsonAI\\en100.hf not found"
     ]
    }
   ],
   "source": [
    "from datasets import load_from_disk\n",
    "aa = load_from_disk(\"C:\\\\Users\\\\hudso\\\\Downloads\\\\HudsonAI\\\\en100.hf\")\n",
    "\n",
    "print(aa)"
   ]
  },
  {
   "cell_type": "code",
   "execution_count": 5,
   "metadata": {},
   "outputs": [
    {
     "name": "stderr",
     "output_type": "stream",
     "text": [
      "UsageError: Cell magic `%%captured` not found.\n"
     ]
    }
   ],
   "source": [
    "%%captured\n",
    "!pip install \"crawl4ai @ git+https://github.com/unclecode/crawl4ai.git@main-75\" pydantic"
   ]
  },
  {
   "cell_type": "code",
   "execution_count": 6,
   "metadata": {},
   "outputs": [
    {
     "name": "stdout",
     "output_type": "stream",
     "text": [
      "[LOG] 🚀 Initializing LocalSeleniumCrawlerStrategy\n",
      "[LOG] 🌤️  Warming up the WebCrawler\n",
      "[LOG] 🌞 WebCrawler is ready to crawl\n"
     ]
    }
   ],
   "source": [
    "import time, os, sys\n",
    "import json\n",
    "from crawl4ai.chunking_strategy import *\n",
    "from crawl4ai.extraction_strategy import *\n",
    "from crawl4ai.crawler_strategy import *\n",
    "from crawl4ai.web_crawler import WebCrawler\n",
    "from crawl4ai import config\n",
    "crawler = WebCrawler()\n",
    "crawler.warmup()"
   ]
  },
  {
   "cell_type": "code",
   "execution_count": 18,
   "metadata": {},
   "outputs": [
    {
     "name": "stdout",
     "output_type": "stream",
     "text": [
      "[LOG] 🚀 Initializing LocalSeleniumCrawlerStrategy\n",
      "[LOG] 🌤️  Warming up the WebCrawler\n",
      "[LOG] 🌞 WebCrawler is ready to crawl\n",
      "[LOG] 🚀 Content extracted for https://www.viewstats.com/@mrbeast/channelytics, success: True, time taken: 0.022999048233032227 seconds\n",
      "![\\\\\"Viewstats](\\\\\"/vs-beta-logo1.svg\\\\\")![\\\\\"Viewstats](\\\\\"/vs-mobile-\n",
      "icon.svg\\\\\")\n",
      "\n",
      "Top Lists\n",
      "\n",
      "![\\\\\"Chevron](\\\\\"/chevron-down.svg\\\\\")\n",
      "\n",
      "More Tools\n",
      "\n",
      "![\\\\\"Chevron](\\\\\"/chevron-down.svg\\\\\")\n",
      "\n",
      "![\\\\\"Search](\\\\\"/search-gray.svg\\\\\")\n",
      "\n",
      "Pro Tools\n",
      "\n",
      "New\n",
      "\n",
      "![\\\\\"youtube](\\\\\"/youtube.svg\\\\\")\n",
      "\n",
      "Sign In\n",
      "\n",
      "![\\\\\"ViewStats](\\\\\"/viewstats-logo.svg\\\\\")VIEWSTATS\n",
      "\n",
      "PRO\n",
      "\n",
      "Get More Views With The Best Tools For Youtube\n",
      "\n",
      "Upgrade Now\n",
      "\n",
      "![\\\\\"Channel](\\\\\"https://www.viewstats.com/img-bg.svg\\\\\")\n",
      "\n",
      "Subscribers\n",
      "\n",
      "Total Views\n",
      "\n",
      "Channelytics\n",
      "\n",
      "Videos\n",
      "\n",
      "Projections\n",
      "\n",
      "Similar Channels\n",
      "\n",
      "About\n",
      "\n",
      "Channel Overview\n",
      "\n",
      "Subscribers\n",
      "\n",
      "Video Views\n",
      "\n",
      "PRO\n",
      "\n",
      "PRO\n",
      "\n",
      "PRO\n",
      "\n",
      "ViewsSubscribers\n",
      "\n",
      "\\--\n",
      "\n",
      "![\\\\\"arrow-up\\\\\"](\\\\\"/arrow-up.svg\\\\\")0 (0%) Past 28 days\n",
      "\n",
      "7D\n",
      "\n",
      "28D\n",
      "\n",
      "3M\n",
      "\n",
      "1Y\n",
      "\n",
      "Max\n",
      "\n",
      "![\\\\\"ViewStats](\\\\\"/info-icon.svg\\\\\")\n",
      "\n",
      "Learn about the data\n",
      "\n",
      "PRO\n",
      "\n",
      "PRO\n",
      "\n",
      "Views\n",
      "\n",
      "Subscribers\n",
      "\n",
      "Revenue\n",
      "\n",
      "PRO\n",
      "\n",
      "PRO\n",
      "\n",
      "Viewstats uses cookies and similar technologies to help personalize content\n",
      "and provide a better experience. To learn more, view our privacy policy.\n",
      "\n",
      "ApproveDecline\n",
      "\n",
      "### 🔥 Top Categories\n",
      "\n",
      "Top SubscribersTop ViewsMost Subs Gained\n",
      "\n",
      "### Get to know us\n",
      "\n",
      "Help CenterFAQ\n",
      "\n",
      "Follow us\n",
      "\n",
      "![\\\\\"Youtube\\\\\"](\\\\\"/youtube-\n",
      "bw.svg\\\\\")![\\\\\"Discord\\\\\"](\\\\\"/discord.svg\\\\\")![\\\\\"X\\\\\"](\\\\\"/x-logo.svg\\\\\")![\\\\\"Instagram\\\\\"](\\\\\"/instagram.svg\\\\\")![\\\\\"LinkedIn\\\\\"](\\\\\"/linked-\n",
      "in.svg\\\\\")\n",
      "\n",
      "### Product\n",
      "\n",
      "![\\\\\"Chrome](\\\\\"/chrome.svg\\\\\")\n",
      "\n",
      "#### Chrome Extension\n",
      "\n",
      "Easily view video and channel analytics while browsing YouTube\n",
      "\n",
      "Add to Chrome - It\\'s Free\n",
      "\n",
      "AccessibilityTerms of UsePrivacy Policy\n",
      "\n",
      "Copyright ©ViewStats 2024\n",
      "\n",
      "\n"
     ]
    }
   ],
   "source": [
    "from crawl4ai import WebCrawler\n",
    "\n",
    "# Create an instance of WebCrawler\n",
    "crawler = WebCrawler()\n",
    "\n",
    "# Warm up the crawler (load necessary models)\n",
    "crawler.warmup()\n",
    "\n",
    "# Run the crawler on a URL\n",
    "result = crawler.run(url=\"https://www.viewstats.com/@mrbeast/channelytics\",\n",
    "                     instruction=\"From the crawled content, extract the following details:\"\\\n",
    "                     \"Channeltics category\"\\\n",
    "\"view / subscriber change to the max condition, needs to save in timeseries (date and amount)\"\\\n",
    "\"In Videos category\"\\\n",
    "\"all of video info\"\\\n",
    "\"Title/ thumbnail image(if it is changed? please add past image)/ Est. Revenue / Views changed per hour / Thumbnail changes / Title changes\"\\\n",
    "\"Similar channels\"\\\n",
    "\"similarity scores\"\n",
    ")\n",
    "\n",
    "# Print the extracted content\n",
    "print(result.markdown)"
   ]
  },
  {
   "cell_type": "code",
   "execution_count": 13,
   "metadata": {},
   "outputs": [
    {
     "ename": "AttributeError",
     "evalue": "'str' object has no attribute 'capabilities'",
     "output_type": "error",
     "traceback": [
      "\u001b[1;31m---------------------------------------------------------------------------\u001b[0m",
      "\u001b[1;31mAttributeError\u001b[0m                            Traceback (most recent call last)",
      "Cell \u001b[1;32mIn[13], line 4\u001b[0m\n\u001b[0;32m      1\u001b[0m \u001b[38;5;28;01mimport\u001b[39;00m \u001b[38;5;21;01mtime\u001b[39;00m\n\u001b[0;32m      2\u001b[0m \u001b[38;5;28;01mfrom\u001b[39;00m \u001b[38;5;21;01mselenium\u001b[39;00m \u001b[38;5;28;01mimport\u001b[39;00m webdriver\n\u001b[1;32m----> 4\u001b[0m driver \u001b[38;5;241m=\u001b[39m \u001b[43mwebdriver\u001b[49m\u001b[38;5;241;43m.\u001b[39;49m\u001b[43mChrome\u001b[49m\u001b[43m(\u001b[49m\u001b[38;5;124;43m'\u001b[39;49m\u001b[38;5;124;43m/path/to/chromedriver\u001b[39;49m\u001b[38;5;124;43m'\u001b[39;49m\u001b[43m)\u001b[49m  \u001b[38;5;66;03m# Optional argument, if not specified will search path.\u001b[39;00m\n\u001b[0;32m      5\u001b[0m driver\u001b[38;5;241m.\u001b[39mget(\u001b[38;5;124m'\u001b[39m\u001b[38;5;124mhttp://www.google.com/\u001b[39m\u001b[38;5;124m'\u001b[39m);\n\u001b[0;32m      6\u001b[0m time\u001b[38;5;241m.\u001b[39msleep(\u001b[38;5;241m5\u001b[39m) \u001b[38;5;66;03m# Let the user actually see something!\u001b[39;00m\n",
      "File \u001b[1;32mc:\\Users\\hudso\\miniconda3\\envs\\backend\\lib\\site-packages\\selenium\\webdriver\\chrome\\webdriver.py:45\u001b[0m, in \u001b[0;36mWebDriver.__init__\u001b[1;34m(self, options, service, keep_alive)\u001b[0m\n\u001b[0;32m     42\u001b[0m service \u001b[38;5;241m=\u001b[39m service \u001b[38;5;28;01mif\u001b[39;00m service \u001b[38;5;28;01melse\u001b[39;00m Service()\n\u001b[0;32m     43\u001b[0m options \u001b[38;5;241m=\u001b[39m options \u001b[38;5;28;01mif\u001b[39;00m options \u001b[38;5;28;01melse\u001b[39;00m Options()\n\u001b[1;32m---> 45\u001b[0m \u001b[38;5;28;43msuper\u001b[39;49m\u001b[43m(\u001b[49m\u001b[43m)\u001b[49m\u001b[38;5;241;43m.\u001b[39;49m\u001b[38;5;21;43m__init__\u001b[39;49m\u001b[43m(\u001b[49m\n\u001b[0;32m     46\u001b[0m \u001b[43m    \u001b[49m\u001b[43mbrowser_name\u001b[49m\u001b[38;5;241;43m=\u001b[39;49m\u001b[43mDesiredCapabilities\u001b[49m\u001b[38;5;241;43m.\u001b[39;49m\u001b[43mCHROME\u001b[49m\u001b[43m[\u001b[49m\u001b[38;5;124;43m\"\u001b[39;49m\u001b[38;5;124;43mbrowserName\u001b[39;49m\u001b[38;5;124;43m\"\u001b[39;49m\u001b[43m]\u001b[49m\u001b[43m,\u001b[49m\n\u001b[0;32m     47\u001b[0m \u001b[43m    \u001b[49m\u001b[43mvendor_prefix\u001b[49m\u001b[38;5;241;43m=\u001b[39;49m\u001b[38;5;124;43m\"\u001b[39;49m\u001b[38;5;124;43mgoog\u001b[39;49m\u001b[38;5;124;43m\"\u001b[39;49m\u001b[43m,\u001b[49m\n\u001b[0;32m     48\u001b[0m \u001b[43m    \u001b[49m\u001b[43moptions\u001b[49m\u001b[38;5;241;43m=\u001b[39;49m\u001b[43moptions\u001b[49m\u001b[43m,\u001b[49m\n\u001b[0;32m     49\u001b[0m \u001b[43m    \u001b[49m\u001b[43mservice\u001b[49m\u001b[38;5;241;43m=\u001b[39;49m\u001b[43mservice\u001b[49m\u001b[43m,\u001b[49m\n\u001b[0;32m     50\u001b[0m \u001b[43m    \u001b[49m\u001b[43mkeep_alive\u001b[49m\u001b[38;5;241;43m=\u001b[39;49m\u001b[43mkeep_alive\u001b[49m\u001b[43m,\u001b[49m\n\u001b[0;32m     51\u001b[0m \u001b[43m\u001b[49m\u001b[43m)\u001b[49m\n",
      "File \u001b[1;32mc:\\Users\\hudso\\miniconda3\\envs\\backend\\lib\\site-packages\\selenium\\webdriver\\chromium\\webdriver.py:50\u001b[0m, in \u001b[0;36mChromiumDriver.__init__\u001b[1;34m(self, browser_name, vendor_prefix, options, service, keep_alive)\u001b[0m\n\u001b[0;32m     47\u001b[0m \u001b[38;5;28mself\u001b[39m\u001b[38;5;241m.\u001b[39mservice \u001b[38;5;241m=\u001b[39m service\n\u001b[0;32m     49\u001b[0m finder \u001b[38;5;241m=\u001b[39m DriverFinder(\u001b[38;5;28mself\u001b[39m\u001b[38;5;241m.\u001b[39mservice, options)\n\u001b[1;32m---> 50\u001b[0m \u001b[38;5;28;01mif\u001b[39;00m \u001b[43mfinder\u001b[49m\u001b[38;5;241;43m.\u001b[39;49m\u001b[43mget_browser_path\u001b[49m\u001b[43m(\u001b[49m\u001b[43m)\u001b[49m:\n\u001b[0;32m     51\u001b[0m     options\u001b[38;5;241m.\u001b[39mbinary_location \u001b[38;5;241m=\u001b[39m finder\u001b[38;5;241m.\u001b[39mget_browser_path()\n\u001b[0;32m     52\u001b[0m     options\u001b[38;5;241m.\u001b[39mbrowser_version \u001b[38;5;241m=\u001b[39m \u001b[38;5;28;01mNone\u001b[39;00m\n",
      "File \u001b[1;32mc:\\Users\\hudso\\miniconda3\\envs\\backend\\lib\\site-packages\\selenium\\webdriver\\common\\driver_finder.py:47\u001b[0m, in \u001b[0;36mDriverFinder.get_browser_path\u001b[1;34m(self)\u001b[0m\n\u001b[0;32m     46\u001b[0m \u001b[38;5;28;01mdef\u001b[39;00m \u001b[38;5;21mget_browser_path\u001b[39m(\u001b[38;5;28mself\u001b[39m) \u001b[38;5;241m-\u001b[39m\u001b[38;5;241m>\u001b[39m \u001b[38;5;28mstr\u001b[39m:\n\u001b[1;32m---> 47\u001b[0m     \u001b[38;5;28;01mreturn\u001b[39;00m \u001b[38;5;28;43mself\u001b[39;49m\u001b[38;5;241;43m.\u001b[39;49m\u001b[43m_binary_paths\u001b[49m\u001b[43m(\u001b[49m\u001b[43m)\u001b[49m[\u001b[38;5;124m\"\u001b[39m\u001b[38;5;124mbrowser_path\u001b[39m\u001b[38;5;124m\"\u001b[39m]\n",
      "File \u001b[1;32mc:\\Users\\hudso\\miniconda3\\envs\\backend\\lib\\site-packages\\selenium\\webdriver\\common\\driver_finder.py:56\u001b[0m, in \u001b[0;36mDriverFinder._binary_paths\u001b[1;34m(self)\u001b[0m\n\u001b[0;32m     53\u001b[0m \u001b[38;5;28;01mif\u001b[39;00m \u001b[38;5;28mself\u001b[39m\u001b[38;5;241m.\u001b[39m_paths[\u001b[38;5;124m\"\u001b[39m\u001b[38;5;124mdriver_path\u001b[39m\u001b[38;5;124m\"\u001b[39m]:\n\u001b[0;32m     54\u001b[0m     \u001b[38;5;28;01mreturn\u001b[39;00m \u001b[38;5;28mself\u001b[39m\u001b[38;5;241m.\u001b[39m_paths\n\u001b[1;32m---> 56\u001b[0m browser \u001b[38;5;241m=\u001b[39m \u001b[38;5;28;43mself\u001b[39;49m\u001b[38;5;241;43m.\u001b[39;49m\u001b[43m_options\u001b[49m\u001b[38;5;241;43m.\u001b[39;49m\u001b[43mcapabilities\u001b[49m[\u001b[38;5;124m\"\u001b[39m\u001b[38;5;124mbrowserName\u001b[39m\u001b[38;5;124m\"\u001b[39m]\n\u001b[0;32m     57\u001b[0m \u001b[38;5;28;01mtry\u001b[39;00m:\n\u001b[0;32m     58\u001b[0m     path \u001b[38;5;241m=\u001b[39m \u001b[38;5;28mself\u001b[39m\u001b[38;5;241m.\u001b[39m_service\u001b[38;5;241m.\u001b[39mpath\n",
      "\u001b[1;31mAttributeError\u001b[0m: 'str' object has no attribute 'capabilities'"
     ]
    }
   ],
   "source": [
    "import time\n",
    "from selenium import webdriver\n",
    "\n",
    "driver = webdriver.Chrome('/path/to/chromedriver')  # Optional argument, if not specified will search path.\n",
    "driver.get('http://www.google.com/');\n",
    "time.sleep(5) # Let the user actually see something!\n",
    "search_box = driver.find_element_by_name('q')\n",
    "search_box.send_keys('ChromeDriver')\n",
    "search_box.submit()\n",
    "time.sleep(5) # Let the user actually see something!\n",
    "driver.quit()"
   ]
  },
  {
   "cell_type": "code",
   "execution_count": 15,
   "metadata": {},
   "outputs": [
    {
     "name": "stdout",
     "output_type": "stream",
     "text": [
      "[tensor([3]), tensor([4]), tensor([5]), tensor([6])]\n"
     ]
    }
   ],
   "source": [
    "import torch\n",
    "\n",
    "class MyIterableDataset(torch.utils.data.IterableDataset):\n",
    "    def __init__(self, start, end):\n",
    "        super(MyIterableDataset).__init__()\n",
    "        assert end > start, \"this example code only works with end >= start\"\n",
    "        self.start = start\n",
    "        self.end = end\n",
    "    def __iter__(self):\n",
    "        worker_info = torch.utils.data.get_worker_info()\n",
    "        if worker_info is None:  # single-process data loading, return the full iterator\n",
    "            iter_start = self.start\n",
    "            iter_end = self.end\n",
    "        else:  # in a worker process\n",
    "            # split workload\n",
    "            per_worker = int(math.ceil((self.end - self.start) / float(worker_info.num_workers)))\n",
    "            worker_id = worker_info.id\n",
    "            iter_start = self.start + worker_id * per_worker\n",
    "            iter_end = min(iter_start + per_worker, self.end)\n",
    "        return iter(range(iter_start, iter_end))\n",
    "# should give same set of data as range(3, 7), i.e., [3, 4, 5, 6].\n",
    "ds = MyIterableDataset(start=3, end=7)\n",
    "\n",
    "# Single-process loading\n",
    "print(list(torch.utils.data.DataLoader(ds, num_workers=0)))\n",
    "\n",
    "# Mult-process loading with two worker processes\n",
    "# Worker 0 fetched [3, 4].  Worker 1 fetched [5, 6].\n",
    "# print(list(torch.utils.data.DataLoader(ds, num_workers=2)))\n",
    "\n",
    "# With even more workers\n",
    "# print(list(torch.utils.data.DataLoader(ds, num_workers=12)))"
   ]
  },
  {
   "cell_type": "code",
   "execution_count": 29,
   "metadata": {},
   "outputs": [
    {
     "name": "stdout",
     "output_type": "stream",
     "text": [
      "[LOG] 🚀 Initializing LocalSeleniumCrawlerStrategy\n"
     ]
    },
    {
     "name": "stderr",
     "output_type": "stream",
     "text": [
      "c:\\Users\\hudso\\miniconda3\\envs\\backend\\lib\\site-packages\\tqdm\\auto.py:21: TqdmWarning: IProgress not found. Please update jupyter and ipywidgets. See https://ipywidgets.readthedocs.io/en/stable/user_install.html\n",
      "  from .autonotebook import tqdm as notebook_tqdm\n",
      "c:\\Users\\hudso\\miniconda3\\envs\\backend\\lib\\site-packages\\huggingface_hub\\file_download.py:157: UserWarning: `huggingface_hub` cache-system uses symlinks by default to efficiently store duplicated files but your machine does not support them in C:\\Users\\hudso\\.cache\\huggingface\\hub\\models--BAAI--bge-small-en-v1.5. Caching files will still work but in a degraded version that might require more space on your disk. This warning can be disabled by setting the `HF_HUB_DISABLE_SYMLINKS_WARNING` environment variable. For more details, see https://huggingface.co/docs/huggingface_hub/how-to-cache#limitations.\n",
      "To support symlinks on Windows, you either need to activate Developer Mode or to run Python as an administrator. In order to see activate developer mode, see this article: https://docs.microsoft.com/en-us/windows/apps/get-started/enable-your-device-for-development\n",
      "  warnings.warn(message)\n",
      "c:\\Users\\hudso\\miniconda3\\envs\\backend\\lib\\site-packages\\huggingface_hub\\file_download.py:157: UserWarning: `huggingface_hub` cache-system uses symlinks by default to efficiently store duplicated files but your machine does not support them in C:\\Users\\hudso\\.cache\\huggingface\\hub\\models--cardiffnlp--tweet-topic-21-multi. Caching files will still work but in a degraded version that might require more space on your disk. This warning can be disabled by setting the `HF_HUB_DISABLE_SYMLINKS_WARNING` environment variable. For more details, see https://huggingface.co/docs/huggingface_hub/how-to-cache#limitations.\n",
      "To support symlinks on Windows, you either need to activate Developer Mode or to run Python as an administrator. In order to see activate developer mode, see this article: https://docs.microsoft.com/en-us/windows/apps/get-started/enable-your-device-for-development\n",
      "  warnings.warn(message)\n"
     ]
    },
    {
     "name": "stdout",
     "output_type": "stream",
     "text": [
      "None\n"
     ]
    }
   ],
   "source": [
    "from crawl4ai import WebCrawler\n",
    "from crawl4ai.extraction_strategy import CosineStrategy\n",
    "from crawl4ai.chunking_strategy import NlpSentenceChunking\n",
    "\n",
    "# Create the WebCrawler instance \n",
    "crawler = WebCrawler() \n",
    "\n",
    "# Run the crawler with custom parameters\n",
    "result = crawler.run(\n",
    "    url=\"https://www.nbcnews.com/business\",\n",
    "    word_count_threshold=10,\n",
    "    extraction_strategy=CosineStrategy(semantic_filter=\"finance\"),\n",
    "    chunking_strategy=NlpSentenceChunking(),\n",
    "    bypass_cache=True,\n",
    "    css_selector=\"div.article-content\",\n",
    "    screenshot=True,\n",
    "    user_agent=\"Mozilla/5.0 (Windows NT 10.0; Win64; x64) AppleWebKit/537.36 (KHTML, like Gecko) Chrome/58.0.3029.110 Safari/537.3\",\n",
    "    verbose=True,\n",
    "    only_text=True\n",
    ")\n",
    "\n",
    "print(result)"
   ]
  },
  {
   "cell_type": "code",
   "execution_count": 1,
   "metadata": {},
   "outputs": [
    {
     "ename": "SyntaxError",
     "evalue": "unterminated string literal (detected at line 27) (1951121069.py, line 27)",
     "output_type": "error",
     "traceback": [
      "\u001b[1;36m  Cell \u001b[1;32mIn[1], line 27\u001b[1;36m\u001b[0m\n\u001b[1;33m    `Get the image link, don't source it inside, and de-duplicate it`\u001b[0m\n\u001b[1;37m                            ^\u001b[0m\n\u001b[1;31mSyntaxError\u001b[0m\u001b[1;31m:\u001b[0m unterminated string literal (detected at line 27)\n"
     ]
    }
   ],
   "source": []
  },
  {
   "cell_type": "code",
   "execution_count": 35,
   "metadata": {},
   "outputs": [
    {
     "name": "stdout",
     "output_type": "stream",
     "text": [
      "Dataset({\n",
      "    features: ['id', 'utt_id', 'audio', 'text'],\n",
      "    num_rows: 6637880\n",
      "})\n"
     ]
    }
   ],
   "source": [
    "\n",
    "ds = load_dataset('espnet/yodas', 'en100', split=\"train\", trust_remote_code=True, cache_dir=\"E:/yodas/datasets\")\n",
    "print(ds)"
   ]
  },
  {
   "cell_type": "code",
   "execution_count": 2,
   "metadata": {},
   "outputs": [
    {
     "ename": "",
     "evalue": "",
     "output_type": "error",
     "traceback": [
      "\u001b[1;31mThe Kernel crashed while executing code in the current cell or a previous cell. \n",
      "\u001b[1;31mPlease review the code in the cell(s) to identify a possible cause of the failure. \n",
      "\u001b[1;31mClick <a href='https://aka.ms/vscodeJupyterKernelCrash'>here</a> for more info. \n",
      "\u001b[1;31mView Jupyter <a href='command:jupyter.viewOutput'>log</a> for further details."
     ]
    }
   ],
   "source": [
    "import torch\n",
    "foo = torch.tensor([1,2,3])\n",
    "foo = foo.to('cuda')"
   ]
  },
  {
   "cell_type": "code",
   "execution_count": 24,
   "metadata": {},
   "outputs": [
    {
     "name": "stdout",
     "output_type": "stream",
     "text": [
      "Initial GPU Usage\n",
      "| ID | GPU | MEM |\n",
      "------------------\n",
      "|  0 | 77% | 41% |\n",
      "GPU Usage after emptying the cache\n",
      "| ID | GPU | MEM |\n",
      "------------------\n",
      "|  0 | 83% | 39% |\n"
     ]
    }
   ],
   "source": [
    "import torch\n",
    "from GPUtil import showUtilization as gpu_usage\n",
    "from numba import cuda\n",
    "\n",
    "def free_gpu_cache():\n",
    "    print(\"Initial GPU Usage\")\n",
    "    gpu_usage()                             \n",
    "\n",
    "    torch.cuda.empty_cache()\n",
    "\n",
    "    cuda.select_device(0)\n",
    "    cuda.close()\n",
    "    cuda.select_device(0)\n",
    "\n",
    "    print(\"GPU Usage after emptying the cache\")\n",
    "    gpu_usage()\n",
    "\n",
    "free_gpu_cache()  "
   ]
  },
  {
   "cell_type": "code",
   "execution_count": 28,
   "metadata": {},
   "outputs": [
    {
     "data": {
      "image/png": "[encoded data removed]",
      "text/plain": [
       "<Figure size 640x480 with 1 Axes>"
      ]
     },
     "metadata": {},
     "output_type": "display_data"
    },
    {
     "name": "stdout",
     "output_type": "stream",
     "text": [
      "        Year   Value\n",
      "0   2022.095  69.200\n",
      "1   2022.100  19.282\n",
      "2   2022.100  60.086\n",
      "3   2022.100  69.200\n",
      "4   2022.105  69.200\n",
      "5   2022.110  69.200\n",
      "6   2022.115  18.538\n",
      "7   2022.115  59.342\n",
      "8   2022.150  69.200\n",
      "9   2022.320  69.200\n",
      "10  2022.505  69.200\n",
      "11  2022.570  69.200\n",
      "12  2022.610  69.200\n",
      "13  2022.800  69.200\n",
      "14  2022.890  69.200\n",
      "15  2022.940  69.200\n",
      "16  2022.965  69.200\n",
      "17  2022.975  69.200\n",
      "18  2023.065  69.200\n",
      "19  2023.385  69.200\n",
      "20  2023.980  69.200\n",
      "21  2024.000  18.538\n",
      "22  2024.000  19.282\n",
      "23  2024.000  20.212\n",
      "24  2024.000  32.176\n",
      "25  2024.000  32.372\n",
      "26  2024.000  58.226\n",
      "27  2024.000  59.342\n",
      "28  2024.000  59.528\n",
      "29  2024.000  59.900\n",
      "30  2024.000  60.086\n",
      "31  2024.000  69.200\n"
     ]
    }
   ],
   "source": [
    "import cv2\n",
    "import numpy as np\n",
    "import pandas as pd\n",
    "import matplotlib.pyplot as plt\n",
    "\n",
    "# Load the image\n",
    "image_path = r\"C:\\Users\\hudso\\Downloads\\picture.png\"\n",
    "image = cv2.imread(image_path)\n",
    "\n",
    "# Convert to grayscale\n",
    "gray = cv2.cvtColor(image, cv2.COLOR_BGR2GRAY)\n",
    "\n",
    "# Apply GaussianBlur to reduce noise and improve edge detection\n",
    "blurred = cv2.GaussianBlur(gray, (5, 5), 0)\n",
    "\n",
    "# Edge detection using Canny\n",
    "edges = cv2.Canny(blurred, 50, 150)\n",
    "\n",
    "# Detect lines using Hough Line Transform\n",
    "lines = cv2.HoughLinesP(edges, 1, np.pi / 180, threshold=50, minLineLength=50, maxLineGap=10)\n",
    "\n",
    "# Create a blank image to draw lines on\n",
    "line_image = np.zeros_like(image)\n",
    "\n",
    "# Draw the detected lines on the blank image\n",
    "for line in lines:\n",
    "    x1, y1, x2, y2 = line[0]\n",
    "    cv2.line(line_image, (x1, y1), (x2, y2), (0, 0, 255), 2)\n",
    "\n",
    "# Combine the original image with the line image\n",
    "combined_image = cv2.addWeighted(image, 0.8, line_image, 1, 0)\n",
    "\n",
    "# Display the detected lines on the graph (for verification)\n",
    "plt.imshow(cv2.cvtColor(combined_image, cv2.COLOR_BGR2RGB))\n",
    "plt.title(\"Detected Lines\")\n",
    "plt.show()\n",
    "\n",
    "# Assuming the x-axis is years and y-axis is the data value\n",
    "# Define the mapping between pixel coordinates and the data values\n",
    "x_years = {0: 2022, 200: 2023, 400: 2024}\n",
    "y_values = {0: 12.4, 100: 31.0, 200: 50.6, 300: 69.2}  # Approximate values\n",
    "\n",
    "# Extract data points from the detected lines\n",
    "data_points = []\n",
    "for line in lines:\n",
    "    x1, y1, x2, y2 = line[0]\n",
    "    # Map x and y pixel positions to year and value\n",
    "    year1 = np.interp(x1, list(x_years.keys()), list(x_years.values()))\n",
    "    value1 = np.interp(y1, list(y_values.keys()), list(y_values.values()))\n",
    "    year2 = np.interp(x2, list(x_years.keys()), list(x_years.values()))\n",
    "    value2 = np.interp(y2, list(y_values.keys()), list(y_values.values()))\n",
    "    data_points.append((year1, value1))\n",
    "    data_points.append((year2, value2))\n",
    "\n",
    "# Sort and filter unique data points by year\n",
    "data_points = sorted(set(data_points))\n",
    "\n",
    "# Convert data points into a DataFrame\n",
    "df = pd.DataFrame(data_points, columns=[\"Year\", \"Value\"])\n",
    "\n",
    "# Save to CSV or print the DataFrame\n",
    "df.to_csv(r\"C:\\Users\\hudso\\Downloads\\graph_data.csv\", index=False)\n",
    "print(df)\n"
   ]
  },
  {
   "cell_type": "code",
   "execution_count": 116,
   "metadata": {},
   "outputs": [
    {
     "ename": "TypeError",
     "evalue": "Cannot cast array data from dtype('<U7') to dtype('float64') according to the rule 'safe'",
     "output_type": "error",
     "traceback": [
      "\u001b[1;31m---------------------------------------------------------------------------\u001b[0m",
      "\u001b[1;31mTypeError\u001b[0m                                 Traceback (most recent call last)",
      "Cell \u001b[1;32mIn[116], line 82\u001b[0m\n\u001b[0;32m     80\u001b[0m \u001b[38;5;28;01mfor\u001b[39;00m point \u001b[38;5;129;01min\u001b[39;00m contour:\n\u001b[0;32m     81\u001b[0m     x, y \u001b[38;5;241m=\u001b[39m point[\u001b[38;5;241m0\u001b[39m]\n\u001b[1;32m---> 82\u001b[0m     year_month \u001b[38;5;241m=\u001b[39m \u001b[43mnp\u001b[49m\u001b[38;5;241;43m.\u001b[39;49m\u001b[43minterp\u001b[49m\u001b[43m(\u001b[49m\u001b[43mx\u001b[49m\u001b[43m,\u001b[49m\u001b[43m \u001b[49m\u001b[38;5;28;43mlist\u001b[39;49m\u001b[43m(\u001b[49m\u001b[43mx_values\u001b[49m\u001b[38;5;241;43m.\u001b[39;49m\u001b[43mkeys\u001b[49m\u001b[43m(\u001b[49m\u001b[43m)\u001b[49m\u001b[43m)\u001b[49m\u001b[43m,\u001b[49m\u001b[43m \u001b[49m\u001b[38;5;28;43mlist\u001b[39;49m\u001b[43m(\u001b[49m\u001b[43mx_values\u001b[49m\u001b[38;5;241;43m.\u001b[39;49m\u001b[43mvalues\u001b[49m\u001b[43m(\u001b[49m\u001b[43m)\u001b[49m\u001b[43m)\u001b[49m\u001b[43m)\u001b[49m\n\u001b[0;32m     83\u001b[0m     value \u001b[38;5;241m=\u001b[39m np\u001b[38;5;241m.\u001b[39minterp(y, \u001b[38;5;28mlist\u001b[39m(y_values\u001b[38;5;241m.\u001b[39mkeys()), \u001b[38;5;28mlist\u001b[39m(y_values\u001b[38;5;241m.\u001b[39mvalues()))\n\u001b[0;32m     84\u001b[0m     data_points\u001b[38;5;241m.\u001b[39mappend((year_month, value))\n",
      "File \u001b[1;32mc:\\Users\\hudso\\miniconda3\\envs\\backend\\lib\\site-packages\\numpy\\lib\\function_base.py:1599\u001b[0m, in \u001b[0;36minterp\u001b[1;34m(x, xp, fp, left, right, period)\u001b[0m\n\u001b[0;32m   1596\u001b[0m     xp \u001b[38;5;241m=\u001b[39m np\u001b[38;5;241m.\u001b[39mconcatenate((xp[\u001b[38;5;241m-\u001b[39m\u001b[38;5;241m1\u001b[39m:]\u001b[38;5;241m-\u001b[39mperiod, xp, xp[\u001b[38;5;241m0\u001b[39m:\u001b[38;5;241m1\u001b[39m]\u001b[38;5;241m+\u001b[39mperiod))\n\u001b[0;32m   1597\u001b[0m     fp \u001b[38;5;241m=\u001b[39m np\u001b[38;5;241m.\u001b[39mconcatenate((fp[\u001b[38;5;241m-\u001b[39m\u001b[38;5;241m1\u001b[39m:], fp, fp[\u001b[38;5;241m0\u001b[39m:\u001b[38;5;241m1\u001b[39m]))\n\u001b[1;32m-> 1599\u001b[0m \u001b[38;5;28;01mreturn\u001b[39;00m \u001b[43minterp_func\u001b[49m\u001b[43m(\u001b[49m\u001b[43mx\u001b[49m\u001b[43m,\u001b[49m\u001b[43m \u001b[49m\u001b[43mxp\u001b[49m\u001b[43m,\u001b[49m\u001b[43m \u001b[49m\u001b[43mfp\u001b[49m\u001b[43m,\u001b[49m\u001b[43m \u001b[49m\u001b[43mleft\u001b[49m\u001b[43m,\u001b[49m\u001b[43m \u001b[49m\u001b[43mright\u001b[49m\u001b[43m)\u001b[49m\n",
      "\u001b[1;31mTypeError\u001b[0m: Cannot cast array data from dtype('<U7') to dtype('float64') according to the rule 'safe'"
     ]
    }
   ],
   "source": [
    "import cv2\n",
    "import numpy as np\n",
    "import pytesseract\n",
    "import pandas as pd\n",
    "from matplotlib import pyplot as plt\n",
    "\n",
    "# Load the image\n",
    "image_path = r\"C:\\Users\\hudso\\Downloads\\picture.png\"\n",
    "image = cv2.imread(image_path)\n",
    "\n",
    "# Convert the image to HSV (hue, saturation, value)\n",
    "hsv = cv2.cvtColor(image, cv2.COLOR_BGR2HSV)\n",
    "\n",
    "# Define the red color range in HSV\n",
    "lower_red = np.array([0, 100, 100])\n",
    "upper_red = np.array([10, 255, 255])\n",
    "\n",
    "# Mask to filter out the red line\n",
    "mask = cv2.inRange(hsv, lower_red, upper_red)\n",
    "red_line = cv2.bitwise_and(image, image, mask=mask)\n",
    "\n",
    "# Convert the red line image to grayscale\n",
    "gray_line = cv2.cvtColor(red_line, cv2.COLOR_BGR2GRAY)\n",
    "\n",
    "# Apply edge detection\n",
    "edges = cv2.Canny(gray_line, 50, 150)\n",
    "\n",
    "# Find contours of the red line\n",
    "contours, _ = cv2.findContours(edges, cv2.RETR_TREE, cv2.CHAIN_APPROX_SIMPLE)\n",
    "\n",
    "# Sort contours from left to right based on their x-coordinates\n",
    "contours = sorted(contours, key=lambda x: cv2.boundingRect(x)[0])\n",
    "\n",
    "# Initialize OCR for axis label detection\n",
    "pytesseract.pytesseract.tesseract_cmd = r\"C:\\Program Files\\Tesseract-OCR\\tesseract.exe\"  # Update with your Tesseract-OCR path if needed\n",
    "\n",
    "# Detect the y-axis labels (on the left side)\n",
    "y_axis_roi = image[:, :100]  # Assuming y-axis labels are within the first 100 pixels horizontally\n",
    "y_axis_text = pytesseract.image_to_string(y_axis_roi)\n",
    "\n",
    "# Detect the x-axis labels (at the bottom)\n",
    "x_axis_roi = image[-50:, :]  # Assuming x-axis labels are within the last 50 pixels vertically\n",
    "x_axis_text = pytesseract.image_to_string(x_axis_roi)\n",
    "\n",
    "# Process OCR results to extract numbers and units\n",
    "y_values = {}\n",
    "for line in y_axis_text.splitlines():\n",
    "    if any(char.isdigit() for char in line):\n",
    "        parts = line.split()\n",
    "        for part in parts:\n",
    "            if any(char.isdigit() for char in part):\n",
    "                number = ''.join(filter(str.isdigit, part))\n",
    "                if 'M' in part:\n",
    "                    y_values[int(number)] = int(number) * 1_000_000\n",
    "                elif 'B' in part:\n",
    "                    y_values[int(number)] = int(number) * 1_000_000_000\n",
    "                else:\n",
    "                    y_values[int(number)] = int(number)\n",
    "\n",
    "# Process x-axis to extract years and months\n",
    "x_values = {}\n",
    "for line in x_axis_text.splitlines():\n",
    "    if any(char.isdigit() for char in line):\n",
    "        year = ''.join(filter(str.isdigit, line))\n",
    "        n = 4\n",
    "        year = '2022'\n",
    "        # years = [year[i:i+n] for i in range(0, len(line), n)]\n",
    "        # for year in years:\n",
    "        if len(year) == 4:  # Assuming a valid year\n",
    "            for i, month in enumerate(['Jan', 'Feb', 'Mar', 'Apr', 'May', 'Jun', 'Jul', 'Aug', 'Sep', 'Oct', 'Nov', 'Dec']):\n",
    "                if month in line:\n",
    "                    # x_values[int(cv2.boundingRect(contours[i])[0])] = f\"{year}.{i+1:02d}\"\n",
    "                else:\n",
    "                    x_values[int(cv2.boundingRect(contours[0])[0])] = f\"{year}.{i+1:02d}\"\n",
    "\n",
    "# Extract data points along the red line\n",
    "data_points = []\n",
    "for contour in contours:\n",
    "    for point in contour:\n",
    "        x, y = point[0]\n",
    "        year_month = np.interp(x, list(x_values.keys()), list(x_values.values()))\n",
    "        value = np.interp(y, list(y_values.keys()), list(y_values.values()))\n",
    "        data_points.append((year_month, value))\n",
    "\n",
    "# Convert data points into a DataFrame\n",
    "df = pd.DataFrame(data_points, columns=[\"Date\", \"Value\"])\n",
    "\n",
    "# Save to CSV\n",
    "df.to_csv(r\"C:\\Users\\hudso\\Downloads\\graph_data.csv\", index=False)\n",
    "print(df)\n"
   ]
  },
  {
   "cell_type": "code",
   "execution_count": null,
   "metadata": {},
   "outputs": [],
   "source": [
    "#write a code that"
   ]
  }
 ],
 "metadata": {
  "kernelspec": {
   "display_name": "backend",
   "language": "python",
   "name": "python3"
  },
  "language_info": {
   "codemirror_mode": {
    "name": "ipython",
    "version": 3
   },
   "file_extension": ".py",
   "mimetype": "text/x-python",
   "name": "python",
   "nbconvert_exporter": "python",
   "pygments_lexer": "ipython3",
   "version": "3.10.13"
  }
 },
 "nbformat": 4,
 "nbformat_minor": 2
}
