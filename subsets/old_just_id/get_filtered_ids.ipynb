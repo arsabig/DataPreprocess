{
 "cells": [
  {
   "cell_type": "code",
   "execution_count": 7,
   "metadata": {},
   "outputs": [],
   "source": [
    "import re\n",
    "\n",
    "savedir = r'C:\\\\Users\\\\hudso\\\\Downloads\\\\HudsonAI\\\\subsets\\\\'"
   ]
  },
  {
   "cell_type": "code",
   "execution_count": 5,
   "metadata": {},
   "outputs": [],
   "source": [
    "def get_filtered_ids(subset):\n",
    "    import os\n",
    "    # OPEN csv file to start reading from here and stream the dataset with these IDs only\n",
    "    prefixed =[filename for filename in os.listdir('.') if filename.startswith(subset)]\n",
    "\n",
    "    file_path = savedir + prefixed[0]\n",
    "    print(file_path)\n",
    "    with open(file_path, 'r') as file:\n",
    "        filtered_ids = [line.rstrip() for line in file]\n",
    "        # results_ls_filtered = list(content)\n",
    "        # return results_ls_filtered\n",
    "    print(filtered_ids)\n",
    "\n",
    "    #Original dataset in streaming is filter only for the rows that matched\n",
    "\n",
    "    # THIS LINE CAN BE USED AFTER ds = load_dataset('espnet/yodas'...\n",
    "    # filtered_dataset = ds.filter(lambda x: x[\"id\"] in results_ls_filtered)"
   ]
  },
  {
   "cell_type": "code",
   "execution_count": 8,
   "metadata": {},
   "outputs": [
    {
     "name": "stdout",
     "output_type": "stream",
     "text": [
      "C:\\\\Users\\\\hudso\\\\Downloads\\\\HudsonAI\\\\subsets\\\\sm000_12_162_0.07.txt\n",
      "['101', '103', '104', '115', '123', '127', '136', '166', '179', '185', '190', '96']\n"
     ]
    }
   ],
   "source": [
    "# get_filtered_ids('sm000')"
   ]
  }
 ],
 "metadata": {
  "kernelspec": {
   "display_name": "backend",
   "language": "python",
   "name": "python3"
  },
  "language_info": {
   "codemirror_mode": {
    "name": "ipython",
    "version": 3
   },
   "file_extension": ".py",
   "mimetype": "text/x-python",
   "name": "python",
   "nbconvert_exporter": "python",
   "pygments_lexer": "ipython3",
   "version": "3.10.13"
  }
 },
 "nbformat": 4,
 "nbformat_minor": 2
}
